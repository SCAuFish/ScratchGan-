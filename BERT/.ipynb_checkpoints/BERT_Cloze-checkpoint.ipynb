{
 "cells": [
  {
   "cell_type": "markdown",
   "metadata": {},
   "source": [
    "## 1. Loading and Initializing"
   ]
  },
  {
   "cell_type": "markdown",
   "metadata": {},
   "source": [
    "### 1.1 Sentence processing functions"
   ]
  },
  {
   "cell_type": "code",
   "execution_count": 1,
   "metadata": {},
   "outputs": [
    {
     "name": "stdout",
     "output_type": "stream",
     "text": [
      "Using Tensorflow version: 2.1.0\n",
      "[PhysicalDevice(name='/physical_device:GPU:0', device_type='GPU')]\n"
     ]
    }
   ],
   "source": [
    "import tensorflow as tf\n",
    "import tensorflow_hub as hub\n",
    "print(\"Using Tensorflow version: \" + tf.__version__)\n",
    "print(tf.config.list_physical_devices('GPU'))\n",
    "\n",
    "BERT_DIR = \"/home/aufish/Downloads/bert\"\n",
    "\n",
    "# try with TF2 SavedModel\n",
    "# The online downloading method does not work, use pre-downloaded module\n",
    "# bert_module = hub.Module(\"https://tfhub.dev/tensorflow/bert_en_cased_L-12_H-768_A-12/1\")"
   ]
  },
  {
   "cell_type": "code",
   "execution_count": 2,
   "metadata": {},
   "outputs": [],
   "source": [
    "bert_module = hub.KerasLayer(BERT_DIR, trainable=True)"
   ]
  },
  {
   "cell_type": "code",
   "execution_count": 3,
   "metadata": {},
   "outputs": [],
   "source": [
    "# tokenizer\n",
    "from bert import tokenization\n",
    "\n",
    "def create_tokenizer(vocab_file, do_lower_case=False):\n",
    "    return tokenization.FullTokenizer(vocab_file=vocab_file, do_lower_case=do_lower_case)\n",
    "\n",
    "tokenizer = create_tokenizer(BERT_DIR + \"/assets/vocab.txt\")\n",
    "\n",
    "def convert_sentence_to_features(sentence, tokenizer, max_seq_len=50):\n",
    "    tokens = ['[CLS]']\n",
    "    tokens.extend(tokenizer.tokenize(sentence))\n",
    "    if len(tokens) > max_seq_len-1:\n",
    "        tokens = tokens[:max_seq_len-1]\n",
    "    tokens.append('[SEP]')\n",
    "    \n",
    "    segment_ids = [0] * len(tokens)\n",
    "    input_ids = tokenizer.convert_tokens_to_ids(tokens)\n",
    "    input_mask = [1] * len(input_ids)\n",
    "\n",
    "    #Zero Mask till seq_length\n",
    "    zero_mask = [0] * (max_seq_len-len(tokens))\n",
    "    input_ids.extend(zero_mask)\n",
    "    input_mask.extend(zero_mask)\n",
    "    segment_ids.extend(zero_mask)\n",
    "    \n",
    "    return input_ids, input_mask, segment_ids\n",
    "\n",
    "def convert_sentences_to_features(sentences, tokenizer, max_seq_len=50):\n",
    "    all_input_ids = []\n",
    "    all_input_mask = []\n",
    "    all_segment_ids = []\n",
    "    \n",
    "    for sentence in sentences:\n",
    "        input_ids, input_mask, segment_ids = convert_sentence_to_features(sentence, tokenizer, max_seq_len)\n",
    "        all_input_ids.append(input_ids)\n",
    "        all_input_mask.append(input_mask)\n",
    "        all_segment_ids.append(segment_ids)\n",
    "    \n",
    "    return all_input_ids, all_input_mask, all_segment_ids\n",
    "\n",
    "import random, copy\n",
    "import numpy as np\n",
    "def make_rand_mask(input_ids, input_mask, vocab_size, segment_id_vals=None):\n",
    "    ''' \n",
    "    Only make mask for one sentence\n",
    "    input_ids: the ids of words in the sentences\n",
    "    input_mask: initial mask (1 if there is a word; 0 for padding)\n",
    "    returns\n",
    "    input_mask: replace one bit of 1 with 0, meaning that the word will be masked\n",
    "    mask_word_ids: the id of words that are masked\n",
    "    pure_ids: ids in number instead of one-hot (to generate weights per masked word)\n",
    "    segment_id_vals: mark the masked word with segment id 1\n",
    "    sequential_output_filter: the masked word index\n",
    "    '''\n",
    "    \n",
    "    new_input_mask = copy.deepcopy(input_mask)\n",
    "#     mask_word_ids = np.zeros(vocab_size)\n",
    "    pure_ids = []\n",
    "\n",
    "    total_word = sum(input_mask)\n",
    "    mask_word = random.randint(0, total_word-1)\n",
    "\n",
    "    pure_ids.append(input_ids[mask_word])\n",
    "    assert new_input_mask[mask_word] == 1\n",
    "    new_input_mask[mask_word] = 0\n",
    "#     mask_word_ids[input_ids[mask_word]] = 1.0\n",
    "                \n",
    "    return new_input_mask, segment_id_vals, mask_word"
   ]
  },
  {
   "cell_type": "markdown",
   "metadata": {},
   "source": [
    "### 1.2 Blank filler model"
   ]
  },
  {
   "cell_type": "code",
   "execution_count": 4,
   "metadata": {},
   "outputs": [],
   "source": [
    "class WordPredictor(tf.keras.Model):\n",
    "    # The output means, how possible the given word may fit into the blank\n",
    "    def __init__(self, class_num, bert=bert_module, dropout=0.1):\n",
    "        super(WordPredictor, self).__init__()\n",
    "        self.bert = bert\n",
    "        self.drop = tf.keras.layers.Dropout(rate=dropout, trainable=True)\n",
    "        \n",
    "        self.dense = tf.keras.layers.Dense(\n",
    "            class_num,\n",
    "            activation=None,\n",
    "            kernel_initializer='glorot_uniform',\n",
    "            name='word_prediction',\n",
    "            trainable=True)\n",
    "        \n",
    "    def call(self, inputs, mask_loc):\n",
    "        # When passed in, all tensors are stacked in one, split it into a list\n",
    "        inputs = tf.unstack(tf.cast(inputs, tf.dtypes.int32), axis=1)\n",
    "        \n",
    "#         # The last element in the list is a filter that will be exerted on sequential\n",
    "#         inputs, seq_output_filter = inputs[:-1], inputs[-1]\n",
    "#         seq_output_filter = tf.cast(seq_output_filter, tf.dtypes.float32)\n",
    "\n",
    "        pooled, sequential = self.bert(inputs)\n",
    "        \n",
    "#         s = tf.tensordot(seq_output_filter,  sequential, axes=(1, 1))\n",
    "\n",
    "        # select one from each batch\n",
    "        s = tf.gather_nd(sequential, [(i, mask_loc[i]) for i in range(sequential.shape[0])])\n",
    "        # s now has shape (batch_size * 768)\n",
    "        \n",
    "        x = self.drop(s)\n",
    "        return self.dense(x)"
   ]
  },
  {
   "cell_type": "markdown",
   "metadata": {},
   "source": [
    "### 1.2.1 Sanity test"
   ]
  },
  {
   "cell_type": "code",
   "execution_count": 6,
   "metadata": {},
   "outputs": [],
   "source": [
    "model = WordPredictor(1)\n",
    "\n",
    "opt = tf.keras.optimizers.Adam(learning_rate=1e-4)\n",
    "model.compile(opt)"
   ]
  },
  {
   "cell_type": "markdown",
   "metadata": {},
   "source": [
    "## 2. Prepare data"
   ]
  },
  {
   "cell_type": "code",
   "execution_count": 7,
   "metadata": {},
   "outputs": [],
   "source": [
    "# One time run, write all sentences in the json file into txt\n",
    "# import json \n",
    "\n",
    "# DATA_FILE = \"/home/aufish/Documents/ScratchGan++/scratchgan/emnlp_data/train.json\"\n",
    "# all_sentences = json.load(open(DATA_FILE, \"r\"))\n",
    "\n",
    "# SENTENCE_FILE = \"./sentences.txt\"\n",
    "\n",
    "# output_file = open(SENTENCE_FILE, \"w\")\n",
    "# for sentence in all_sentences:\n",
    "#     output_file.write(sentence['s'] + '\\n')"
   ]
  },
  {
   "cell_type": "code",
   "execution_count": 8,
   "metadata": {},
   "outputs": [],
   "source": [
    "import numpy as np\n",
    "# extracted from emnlp\n",
    "DATA_FILE = \"./sentences.txt\"\n",
    "\n",
    "MASK_ID = tokenizer.convert_tokens_to_ids(['[MASK]'])[0]\n",
    "\n",
    "def parse_line(line):    \n",
    "    input_ids, input_mask, segment_ids = convert_sentence_to_features(line, tokenizer, max_seq_len=30)\n",
    "        \n",
    "    input_mask, segment_ids, mask_position = \\\n",
    "        make_rand_mask(input_ids, input_mask, len(tokenizer.vocab), segment_ids)\n",
    "    \n",
    "    label = input_ids[mask_position]\n",
    "    input_ids[mask_position] = MASK_ID\n",
    "    \n",
    "    return [input_ids, input_mask, segment_ids], [mask_position, label]\n",
    "\n",
    "def create_dataset(filename = DATA_FILE, data_size = 268528, batch_size = 10):\n",
    "    dataset = tf.data.TextLineDataset([filename])\n",
    "    \n",
    "    dataset = dataset.map(lambda x : tf.numpy_function(parse_line, [x], [tf.int64, tf.int64]))\n",
    "    \n",
    "    # dataset = dataset.shuffle(data_size, reshuffle_each_iteration=True)\n",
    "    \n",
    "    dataset = dataset.batch(batch_size)\n",
    "    \n",
    "    return dataset"
   ]
  },
  {
   "cell_type": "code",
   "execution_count": 9,
   "metadata": {},
   "outputs": [
    {
     "data": {
      "text/plain": [
       "[103]"
      ]
     },
     "execution_count": 9,
     "metadata": {},
     "output_type": "execute_result"
    }
   ],
   "source": [
    "tokenizer.convert_tokens_to_ids(['[MASK]'])"
   ]
  },
  {
   "cell_type": "markdown",
   "metadata": {},
   "source": [
    "### 2.1 Model calling sanity test"
   ]
  },
  {
   "cell_type": "code",
   "execution_count": 10,
   "metadata": {},
   "outputs": [],
   "source": [
    "temp_batch_size = 3\n",
    "dataset = create_dataset(batch_size = temp_batch_size)"
   ]
  },
  {
   "cell_type": "code",
   "execution_count": 11,
   "metadata": {},
   "outputs": [
    {
     "ename": "InvalidArgumentError",
     "evalue": "TypeError: unsupported operand type(s) for +: 'NoneType' and 'int'\nTraceback (most recent call last):\n\n  File \"/usr/local/lib/python3.7/dist-packages/tensorflow_core/python/ops/script_ops.py\", line 236, in __call__\n    ret = func(*args)\n\n  File \"<ipython-input-8-875089f13280>\", line 8, in parse_line\n    input_ids, input_mask, segment_ids = convert_sentence_to_features(line, tokenizer, max_seq_len=30)\n\n  File \"<ipython-input-3-0d5a4db8855a>\", line 14, in convert_sentence_to_features\n    tokens.append('[SEP]')+63\n\nTypeError: unsupported operand type(s) for +: 'NoneType' and 'int'\n\n\n\t [[{{node PyFunc}}]]",
     "output_type": "error",
     "traceback": [
      "\u001b[0;31m---------------------------------------------------------------------------\u001b[0m",
      "\u001b[0;31mInvalidArgumentError\u001b[0m                      Traceback (most recent call last)",
      "\u001b[0;32m/usr/local/lib/python3.7/dist-packages/tensorflow_core/python/eager/context.py\u001b[0m in \u001b[0;36mexecution_mode\u001b[0;34m(mode)\u001b[0m\n\u001b[1;32m   1896\u001b[0m     \u001b[0mctx\u001b[0m\u001b[0;34m.\u001b[0m\u001b[0mexecutor\u001b[0m \u001b[0;34m=\u001b[0m \u001b[0mexecutor_new\u001b[0m\u001b[0;34m\u001b[0m\u001b[0;34m\u001b[0m\u001b[0m\n\u001b[0;32m-> 1897\u001b[0;31m     \u001b[0;32myield\u001b[0m\u001b[0;34m\u001b[0m\u001b[0;34m\u001b[0m\u001b[0m\n\u001b[0m\u001b[1;32m   1898\u001b[0m   \u001b[0;32mfinally\u001b[0m\u001b[0;34m:\u001b[0m\u001b[0;34m\u001b[0m\u001b[0;34m\u001b[0m\u001b[0m\n",
      "\u001b[0;32m/usr/local/lib/python3.7/dist-packages/tensorflow_core/python/data/ops/iterator_ops.py\u001b[0m in \u001b[0;36m_next_internal\u001b[0;34m(self)\u001b[0m\n\u001b[1;32m    658\u001b[0m             \u001b[0moutput_types\u001b[0m\u001b[0;34m=\u001b[0m\u001b[0mself\u001b[0m\u001b[0;34m.\u001b[0m\u001b[0m_flat_output_types\u001b[0m\u001b[0;34m,\u001b[0m\u001b[0;34m\u001b[0m\u001b[0;34m\u001b[0m\u001b[0m\n\u001b[0;32m--> 659\u001b[0;31m             output_shapes=self._flat_output_shapes)\n\u001b[0m\u001b[1;32m    660\u001b[0m \u001b[0;34m\u001b[0m\u001b[0m\n",
      "\u001b[0;32m/usr/local/lib/python3.7/dist-packages/tensorflow_core/python/ops/gen_dataset_ops.py\u001b[0m in \u001b[0;36miterator_get_next_sync\u001b[0;34m(iterator, output_types, output_shapes, name)\u001b[0m\n\u001b[1;32m   2478\u001b[0m     \u001b[0;32mexcept\u001b[0m \u001b[0m_core\u001b[0m\u001b[0;34m.\u001b[0m\u001b[0m_NotOkStatusException\u001b[0m \u001b[0;32mas\u001b[0m \u001b[0me\u001b[0m\u001b[0;34m:\u001b[0m\u001b[0;34m\u001b[0m\u001b[0;34m\u001b[0m\u001b[0m\n\u001b[0;32m-> 2479\u001b[0;31m       \u001b[0m_ops\u001b[0m\u001b[0;34m.\u001b[0m\u001b[0mraise_from_not_ok_status\u001b[0m\u001b[0;34m(\u001b[0m\u001b[0me\u001b[0m\u001b[0;34m,\u001b[0m \u001b[0mname\u001b[0m\u001b[0;34m)\u001b[0m\u001b[0;34m\u001b[0m\u001b[0;34m\u001b[0m\u001b[0m\n\u001b[0m\u001b[1;32m   2480\u001b[0m   \u001b[0;31m# Add nodes to the TensorFlow graph.\u001b[0m\u001b[0;34m\u001b[0m\u001b[0;34m\u001b[0m\u001b[0;34m\u001b[0m\u001b[0m\n",
      "\u001b[0;32m/usr/local/lib/python3.7/dist-packages/tensorflow_core/python/framework/ops.py\u001b[0m in \u001b[0;36mraise_from_not_ok_status\u001b[0;34m(e, name)\u001b[0m\n\u001b[1;32m   6605\u001b[0m   \u001b[0;31m# pylint: disable=protected-access\u001b[0m\u001b[0;34m\u001b[0m\u001b[0;34m\u001b[0m\u001b[0;34m\u001b[0m\u001b[0m\n\u001b[0;32m-> 6606\u001b[0;31m   \u001b[0msix\u001b[0m\u001b[0;34m.\u001b[0m\u001b[0mraise_from\u001b[0m\u001b[0;34m(\u001b[0m\u001b[0mcore\u001b[0m\u001b[0;34m.\u001b[0m\u001b[0m_status_to_exception\u001b[0m\u001b[0;34m(\u001b[0m\u001b[0me\u001b[0m\u001b[0;34m.\u001b[0m\u001b[0mcode\u001b[0m\u001b[0;34m,\u001b[0m \u001b[0mmessage\u001b[0m\u001b[0;34m)\u001b[0m\u001b[0;34m,\u001b[0m \u001b[0;32mNone\u001b[0m\u001b[0;34m)\u001b[0m\u001b[0;34m\u001b[0m\u001b[0;34m\u001b[0m\u001b[0m\n\u001b[0m\u001b[1;32m   6607\u001b[0m   \u001b[0;31m# pylint: enable=protected-access\u001b[0m\u001b[0;34m\u001b[0m\u001b[0;34m\u001b[0m\u001b[0;34m\u001b[0m\u001b[0m\n",
      "\u001b[0;32m/usr/lib/python3/dist-packages/six.py\u001b[0m in \u001b[0;36mraise_from\u001b[0;34m(value, from_value)\u001b[0m\n",
      "\u001b[0;31mInvalidArgumentError\u001b[0m: TypeError: unsupported operand type(s) for +: 'NoneType' and 'int'\nTraceback (most recent call last):\n\n  File \"/usr/local/lib/python3.7/dist-packages/tensorflow_core/python/ops/script_ops.py\", line 236, in __call__\n    ret = func(*args)\n\n  File \"<ipython-input-8-875089f13280>\", line 8, in parse_line\n    input_ids, input_mask, segment_ids = convert_sentence_to_features(line, tokenizer, max_seq_len=30)\n\n  File \"<ipython-input-3-0d5a4db8855a>\", line 14, in convert_sentence_to_features\n    tokens.append('[SEP]')+63\n\nTypeError: unsupported operand type(s) for +: 'NoneType' and 'int'\n\n\n\t [[{{node PyFunc}}]] [Op:IteratorGetNextSync]",
      "\nDuring handling of the above exception, another exception occurred:\n",
      "\u001b[0;31mInvalidArgumentError\u001b[0m                      Traceback (most recent call last)",
      "\u001b[0;32m<ipython-input-11-12a8fffb70f7>\u001b[0m in \u001b[0;36m<module>\u001b[0;34m\u001b[0m\n\u001b[1;32m      1\u001b[0m \u001b[0;31m# Processing data without model\u001b[0m\u001b[0;34m\u001b[0m\u001b[0;34m\u001b[0m\u001b[0;34m\u001b[0m\u001b[0m\n\u001b[0;32m----> 2\u001b[0;31m \u001b[0;32mfor\u001b[0m \u001b[0;34m(\u001b[0m\u001b[0mbert_input\u001b[0m\u001b[0;34m,\u001b[0m \u001b[0mlabel\u001b[0m\u001b[0;34m)\u001b[0m \u001b[0;32min\u001b[0m \u001b[0mdataset\u001b[0m\u001b[0;34m.\u001b[0m\u001b[0mtake\u001b[0m\u001b[0;34m(\u001b[0m\u001b[0;36m1\u001b[0m\u001b[0;34m)\u001b[0m\u001b[0;34m:\u001b[0m\u001b[0;34m\u001b[0m\u001b[0;34m\u001b[0m\u001b[0m\n\u001b[0m\u001b[1;32m      3\u001b[0m     \u001b[0mprint\u001b[0m\u001b[0;34m(\u001b[0m\u001b[0mtype\u001b[0m\u001b[0;34m(\u001b[0m\u001b[0mbert_input\u001b[0m\u001b[0;34m)\u001b[0m\u001b[0;34m)\u001b[0m\u001b[0;34m\u001b[0m\u001b[0;34m\u001b[0m\u001b[0m\n\u001b[1;32m      4\u001b[0m     \u001b[0mprint\u001b[0m\u001b[0;34m(\u001b[0m\u001b[0mbert_input\u001b[0m\u001b[0;34m)\u001b[0m\u001b[0;34m\u001b[0m\u001b[0;34m\u001b[0m\u001b[0m\n\u001b[1;32m      5\u001b[0m     \u001b[0mprint\u001b[0m\u001b[0;34m(\u001b[0m\u001b[0mlabel\u001b[0m\u001b[0;34m)\u001b[0m\u001b[0;34m\u001b[0m\u001b[0;34m\u001b[0m\u001b[0m\n",
      "\u001b[0;32m/usr/local/lib/python3.7/dist-packages/tensorflow_core/python/data/ops/iterator_ops.py\u001b[0m in \u001b[0;36m__next__\u001b[0;34m(self)\u001b[0m\n\u001b[1;32m    628\u001b[0m \u001b[0;34m\u001b[0m\u001b[0m\n\u001b[1;32m    629\u001b[0m   \u001b[0;32mdef\u001b[0m \u001b[0m__next__\u001b[0m\u001b[0;34m(\u001b[0m\u001b[0mself\u001b[0m\u001b[0;34m)\u001b[0m\u001b[0;34m:\u001b[0m  \u001b[0;31m# For Python 3 compatibility\u001b[0m\u001b[0;34m\u001b[0m\u001b[0;34m\u001b[0m\u001b[0m\n\u001b[0;32m--> 630\u001b[0;31m     \u001b[0;32mreturn\u001b[0m \u001b[0mself\u001b[0m\u001b[0;34m.\u001b[0m\u001b[0mnext\u001b[0m\u001b[0;34m(\u001b[0m\u001b[0;34m)\u001b[0m\u001b[0;34m\u001b[0m\u001b[0;34m\u001b[0m\u001b[0m\n\u001b[0m\u001b[1;32m    631\u001b[0m \u001b[0;34m\u001b[0m\u001b[0m\n\u001b[1;32m    632\u001b[0m   \u001b[0;32mdef\u001b[0m \u001b[0m_next_internal\u001b[0m\u001b[0;34m(\u001b[0m\u001b[0mself\u001b[0m\u001b[0;34m)\u001b[0m\u001b[0;34m:\u001b[0m\u001b[0;34m\u001b[0m\u001b[0;34m\u001b[0m\u001b[0m\n",
      "\u001b[0;32m/usr/local/lib/python3.7/dist-packages/tensorflow_core/python/data/ops/iterator_ops.py\u001b[0m in \u001b[0;36mnext\u001b[0;34m(self)\u001b[0m\n\u001b[1;32m    672\u001b[0m     \u001b[0;34m\"\"\"Returns a nested structure of `Tensor`s containing the next element.\"\"\"\u001b[0m\u001b[0;34m\u001b[0m\u001b[0;34m\u001b[0m\u001b[0m\n\u001b[1;32m    673\u001b[0m     \u001b[0;32mtry\u001b[0m\u001b[0;34m:\u001b[0m\u001b[0;34m\u001b[0m\u001b[0;34m\u001b[0m\u001b[0m\n\u001b[0;32m--> 674\u001b[0;31m       \u001b[0;32mreturn\u001b[0m \u001b[0mself\u001b[0m\u001b[0;34m.\u001b[0m\u001b[0m_next_internal\u001b[0m\u001b[0;34m(\u001b[0m\u001b[0;34m)\u001b[0m\u001b[0;34m\u001b[0m\u001b[0;34m\u001b[0m\u001b[0m\n\u001b[0m\u001b[1;32m    675\u001b[0m     \u001b[0;32mexcept\u001b[0m \u001b[0merrors\u001b[0m\u001b[0;34m.\u001b[0m\u001b[0mOutOfRangeError\u001b[0m\u001b[0;34m:\u001b[0m\u001b[0;34m\u001b[0m\u001b[0;34m\u001b[0m\u001b[0m\n\u001b[1;32m    676\u001b[0m       \u001b[0;32mraise\u001b[0m \u001b[0mStopIteration\u001b[0m\u001b[0;34m\u001b[0m\u001b[0;34m\u001b[0m\u001b[0m\n",
      "\u001b[0;32m/usr/local/lib/python3.7/dist-packages/tensorflow_core/python/data/ops/iterator_ops.py\u001b[0m in \u001b[0;36m_next_internal\u001b[0;34m(self)\u001b[0m\n\u001b[1;32m    663\u001b[0m         \u001b[0;32mreturn\u001b[0m \u001b[0mself\u001b[0m\u001b[0;34m.\u001b[0m\u001b[0m_element_spec\u001b[0m\u001b[0;34m.\u001b[0m\u001b[0m_from_compatible_tensor_list\u001b[0m\u001b[0;34m(\u001b[0m\u001b[0mret\u001b[0m\u001b[0;34m)\u001b[0m  \u001b[0;31m# pylint: disable=protected-access\u001b[0m\u001b[0;34m\u001b[0m\u001b[0;34m\u001b[0m\u001b[0m\n\u001b[1;32m    664\u001b[0m       \u001b[0;32mexcept\u001b[0m \u001b[0mAttributeError\u001b[0m\u001b[0;34m:\u001b[0m\u001b[0;34m\u001b[0m\u001b[0;34m\u001b[0m\u001b[0m\n\u001b[0;32m--> 665\u001b[0;31m         \u001b[0;32mreturn\u001b[0m \u001b[0mstructure\u001b[0m\u001b[0;34m.\u001b[0m\u001b[0mfrom_compatible_tensor_list\u001b[0m\u001b[0;34m(\u001b[0m\u001b[0mself\u001b[0m\u001b[0;34m.\u001b[0m\u001b[0m_element_spec\u001b[0m\u001b[0;34m,\u001b[0m \u001b[0mret\u001b[0m\u001b[0;34m)\u001b[0m\u001b[0;34m\u001b[0m\u001b[0;34m\u001b[0m\u001b[0m\n\u001b[0m\u001b[1;32m    666\u001b[0m \u001b[0;34m\u001b[0m\u001b[0m\n\u001b[1;32m    667\u001b[0m   \u001b[0;34m@\u001b[0m\u001b[0mproperty\u001b[0m\u001b[0;34m\u001b[0m\u001b[0;34m\u001b[0m\u001b[0m\n",
      "\u001b[0;32m/usr/lib/python3.7/contextlib.py\u001b[0m in \u001b[0;36m__exit__\u001b[0;34m(self, type, value, traceback)\u001b[0m\n\u001b[1;32m    128\u001b[0m                 \u001b[0mvalue\u001b[0m \u001b[0;34m=\u001b[0m \u001b[0mtype\u001b[0m\u001b[0;34m(\u001b[0m\u001b[0;34m)\u001b[0m\u001b[0;34m\u001b[0m\u001b[0;34m\u001b[0m\u001b[0m\n\u001b[1;32m    129\u001b[0m             \u001b[0;32mtry\u001b[0m\u001b[0;34m:\u001b[0m\u001b[0;34m\u001b[0m\u001b[0;34m\u001b[0m\u001b[0m\n\u001b[0;32m--> 130\u001b[0;31m                 \u001b[0mself\u001b[0m\u001b[0;34m.\u001b[0m\u001b[0mgen\u001b[0m\u001b[0;34m.\u001b[0m\u001b[0mthrow\u001b[0m\u001b[0;34m(\u001b[0m\u001b[0mtype\u001b[0m\u001b[0;34m,\u001b[0m \u001b[0mvalue\u001b[0m\u001b[0;34m,\u001b[0m \u001b[0mtraceback\u001b[0m\u001b[0;34m)\u001b[0m\u001b[0;34m\u001b[0m\u001b[0;34m\u001b[0m\u001b[0m\n\u001b[0m\u001b[1;32m    131\u001b[0m             \u001b[0;32mexcept\u001b[0m \u001b[0mStopIteration\u001b[0m \u001b[0;32mas\u001b[0m \u001b[0mexc\u001b[0m\u001b[0;34m:\u001b[0m\u001b[0;34m\u001b[0m\u001b[0;34m\u001b[0m\u001b[0m\n\u001b[1;32m    132\u001b[0m                 \u001b[0;31m# Suppress StopIteration *unless* it's the same exception that\u001b[0m\u001b[0;34m\u001b[0m\u001b[0;34m\u001b[0m\u001b[0;34m\u001b[0m\u001b[0m\n",
      "\u001b[0;32m/usr/local/lib/python3.7/dist-packages/tensorflow_core/python/eager/context.py\u001b[0m in \u001b[0;36mexecution_mode\u001b[0;34m(mode)\u001b[0m\n\u001b[1;32m   1898\u001b[0m   \u001b[0;32mfinally\u001b[0m\u001b[0;34m:\u001b[0m\u001b[0;34m\u001b[0m\u001b[0;34m\u001b[0m\u001b[0m\n\u001b[1;32m   1899\u001b[0m     \u001b[0mctx\u001b[0m\u001b[0;34m.\u001b[0m\u001b[0mexecutor\u001b[0m \u001b[0;34m=\u001b[0m \u001b[0mexecutor_old\u001b[0m\u001b[0;34m\u001b[0m\u001b[0;34m\u001b[0m\u001b[0m\n\u001b[0;32m-> 1900\u001b[0;31m     \u001b[0mexecutor_new\u001b[0m\u001b[0;34m.\u001b[0m\u001b[0mwait\u001b[0m\u001b[0;34m(\u001b[0m\u001b[0;34m)\u001b[0m\u001b[0;34m\u001b[0m\u001b[0;34m\u001b[0m\u001b[0m\n\u001b[0m\u001b[1;32m   1901\u001b[0m \u001b[0;34m\u001b[0m\u001b[0m\n\u001b[1;32m   1902\u001b[0m \u001b[0;34m\u001b[0m\u001b[0m\n",
      "\u001b[0;32m/usr/local/lib/python3.7/dist-packages/tensorflow_core/python/eager/executor.py\u001b[0m in \u001b[0;36mwait\u001b[0;34m(self)\u001b[0m\n\u001b[1;32m     65\u001b[0m   \u001b[0;32mdef\u001b[0m \u001b[0mwait\u001b[0m\u001b[0;34m(\u001b[0m\u001b[0mself\u001b[0m\u001b[0;34m)\u001b[0m\u001b[0;34m:\u001b[0m\u001b[0;34m\u001b[0m\u001b[0;34m\u001b[0m\u001b[0m\n\u001b[1;32m     66\u001b[0m     \u001b[0;34m\"\"\"Waits for ops dispatched in this executor to finish.\"\"\"\u001b[0m\u001b[0;34m\u001b[0m\u001b[0;34m\u001b[0m\u001b[0m\n\u001b[0;32m---> 67\u001b[0;31m     \u001b[0mpywrap_tensorflow\u001b[0m\u001b[0;34m.\u001b[0m\u001b[0mTFE_ExecutorWaitForAllPendingNodes\u001b[0m\u001b[0;34m(\u001b[0m\u001b[0mself\u001b[0m\u001b[0;34m.\u001b[0m\u001b[0m_handle\u001b[0m\u001b[0;34m)\u001b[0m\u001b[0;34m\u001b[0m\u001b[0;34m\u001b[0m\u001b[0m\n\u001b[0m\u001b[1;32m     68\u001b[0m \u001b[0;34m\u001b[0m\u001b[0m\n\u001b[1;32m     69\u001b[0m   \u001b[0;32mdef\u001b[0m \u001b[0mclear_error\u001b[0m\u001b[0;34m(\u001b[0m\u001b[0mself\u001b[0m\u001b[0;34m)\u001b[0m\u001b[0;34m:\u001b[0m\u001b[0;34m\u001b[0m\u001b[0;34m\u001b[0m\u001b[0m\n",
      "\u001b[0;31mInvalidArgumentError\u001b[0m: TypeError: unsupported operand type(s) for +: 'NoneType' and 'int'\nTraceback (most recent call last):\n\n  File \"/usr/local/lib/python3.7/dist-packages/tensorflow_core/python/ops/script_ops.py\", line 236, in __call__\n    ret = func(*args)\n\n  File \"<ipython-input-8-875089f13280>\", line 8, in parse_line\n    input_ids, input_mask, segment_ids = convert_sentence_to_features(line, tokenizer, max_seq_len=30)\n\n  File \"<ipython-input-3-0d5a4db8855a>\", line 14, in convert_sentence_to_features\n    tokens.append('[SEP]')+63\n\nTypeError: unsupported operand type(s) for +: 'NoneType' and 'int'\n\n\n\t [[{{node PyFunc}}]]"
     ]
    }
   ],
   "source": [
    "# Processing data without model\n",
    "for (bert_input, label) in dataset.take(1):\n",
    "    print(type(bert_input))\n",
    "    print(bert_input)\n",
    "    print(label)\n",
    "    inputs = tf.unstack(tf.cast(bert_input, tf.dtypes.int32), axis=1)\n",
    "    \n",
    "    pooled, sequential = bert_module(inputs)\n",
    "    \n",
    "    print(sequential.shape)\n",
    "    \n",
    "#     seq_output_filter = tf.cast(seq_output_filter, tf.dtypes.float32)\n",
    "#     r = tf.tensordot(seq_output_filter,  sequential, axes=(1, 1))\n",
    "    \n",
    "    mask, label = tf.unstack(label, axis=1)\n",
    "    r = tf.gather_nd(sequential, [(i, mask[i]) for i in range(temp_batch_size)])\n",
    "    \n",
    "    print(r)\n",
    "    print(label)"
   ]
  },
  {
   "cell_type": "code",
   "execution_count": null,
   "metadata": {},
   "outputs": [],
   "source": [
    "model = WordPredictor(1)"
   ]
  },
  {
   "cell_type": "code",
   "execution_count": null,
   "metadata": {},
   "outputs": [],
   "source": [
    "for (bert_input, label) in dataset.take(1):\n",
    "    mask, label = tf.unstack(label, axis=1)\n",
    "    output = model(bert_input, mask)\n",
    "    \n",
    "    print(\"Output\")\n",
    "    print(output)\n",
    "    print(\"Weights: \")\n",
    "    print([weight.name for weight in model.trainable_weights])"
   ]
  },
  {
   "cell_type": "markdown",
   "metadata": {},
   "source": [
    "## 3. Training"
   ]
  },
  {
   "cell_type": "markdown",
   "metadata": {},
   "source": [
    "### 3.1 Training Santiy Run"
   ]
  },
  {
   "cell_type": "code",
   "execution_count": 15,
   "metadata": {},
   "outputs": [],
   "source": [
    "model = WordPredictor(len(tokenizer.vocab))\n",
    "\n",
    "opt = tf.keras.optimizers.Adam(learning_rate=1e-5)\n",
    "loss = tf.keras.losses.SparseCategoricalCrossentropy(from_logits=True)\n",
    "loss_metric = tf.keras.metrics.Mean()\n",
    "\n",
    "dataset = create_dataset(batch_size = 10)"
   ]
  },
  {
   "cell_type": "code",
   "execution_count": 16,
   "metadata": {},
   "outputs": [
    {
     "name": "stdout",
     "output_type": "stream",
     "text": [
      "mean loss = tf.Tensor(10.318472, shape=(), dtype=float32)\n",
      "mean loss = tf.Tensor(10.315854, shape=(), dtype=float32)\n",
      "mean loss = tf.Tensor(10.310256, shape=(), dtype=float32)\n",
      "mean loss = tf.Tensor(10.284655, shape=(), dtype=float32)\n",
      "mean loss = tf.Tensor(10.302042, shape=(), dtype=float32)\n"
     ]
    }
   ],
   "source": [
    "for (bert_input, label) in dataset.take(5):\n",
    "    mask, label = tf.unstack(label, axis=1)\n",
    "    with tf.GradientTape() as tape:\n",
    "        output = model(bert_input, mask)\n",
    "\n",
    "        loss_val = loss(label, output)\n",
    "        loss_val += sum(model.losses)\n",
    "        \n",
    "    grads = tape.gradient(loss_val, model.trainable_weights)\n",
    "    opt.apply_gradients(zip(grads, model.trainable_weights))\n",
    "    \n",
    "    loss_metric(loss_val)\n",
    "    \n",
    "    print('mean loss = %s' % (loss_metric.result()))"
   ]
  },
  {
   "cell_type": "markdown",
   "metadata": {},
   "source": [
    "### 3.2 Actual training setup"
   ]
  },
  {
   "cell_type": "code",
   "execution_count": 7,
   "metadata": {},
   "outputs": [],
   "source": [
    "model = WordPredictor(len(tokenizer.vocab))\n",
    "\n",
    "opt = tf.keras.optimizers.Adam(learning_rate=1e-5)\n",
    "loss = tf.keras.losses.SparseCategoricalCrossentropy(from_logits=True)\n",
    "loss_metric = tf.keras.metrics.Mean()\n",
    "\n",
    "dataset = create_dataset(batch_size = 20)"
   ]
  },
  {
   "cell_type": "code",
   "execution_count": 8,
   "metadata": {},
   "outputs": [
    {
     "data": {
      "text/plain": [
       "<tensorflow.python.training.tracking.util.CheckpointLoadStatus at 0x7f476809a5c0>"
      ]
     },
     "execution_count": 8,
     "metadata": {},
     "output_type": "execute_result"
    }
   ],
   "source": [
    "model.load_weights(\"./word_predictor_0\")"
   ]
  },
  {
   "cell_type": "code",
   "execution_count": 9,
   "metadata": {},
   "outputs": [
    {
     "name": "stdout",
     "output_type": "stream",
     "text": [
      "Start of epoch 0\n",
      "step 0: mean loss = tf.Tensor(2.155894, shape=(), dtype=float32)\n",
      "step 1000: mean loss = tf.Tensor(2.8797085, shape=(), dtype=float32)\n",
      "step 2000: mean loss = tf.Tensor(2.888117, shape=(), dtype=float32)\n",
      "step 3000: mean loss = tf.Tensor(2.8916986, shape=(), dtype=float32)\n",
      "step 4000: mean loss = tf.Tensor(2.882312, shape=(), dtype=float32)\n",
      "step 5000: mean loss = tf.Tensor(2.8649342, shape=(), dtype=float32)\n",
      "step 6000: mean loss = tf.Tensor(2.8529654, shape=(), dtype=float32)\n",
      "step 7000: mean loss = tf.Tensor(2.8376935, shape=(), dtype=float32)\n",
      "step 8000: mean loss = tf.Tensor(2.8259223, shape=(), dtype=float32)\n",
      "step 9000: mean loss = tf.Tensor(2.8135777, shape=(), dtype=float32)\n",
      "step 10000: mean loss = tf.Tensor(2.8023026, shape=(), dtype=float32)\n",
      "step 11000: mean loss = tf.Tensor(2.7887707, shape=(), dtype=float32)\n",
      "step 12000: mean loss = tf.Tensor(2.781884, shape=(), dtype=float32)\n",
      "step 13000: mean loss = tf.Tensor(2.7718768, shape=(), dtype=float32)\n",
      "Start of epoch 1\n",
      "step 0: mean loss = tf.Tensor(2.7658486, shape=(), dtype=float32)\n",
      "step 1000: mean loss = tf.Tensor(2.7539318, shape=(), dtype=float32)\n",
      "step 2000: mean loss = tf.Tensor(2.7449481, shape=(), dtype=float32)\n",
      "step 3000: mean loss = tf.Tensor(2.7365432, shape=(), dtype=float32)\n",
      "step 4000: mean loss = tf.Tensor(2.725212, shape=(), dtype=float32)\n",
      "step 5000: mean loss = tf.Tensor(2.715334, shape=(), dtype=float32)\n",
      "step 6000: mean loss = tf.Tensor(2.7059953, shape=(), dtype=float32)\n",
      "step 7000: mean loss = tf.Tensor(2.695958, shape=(), dtype=float32)\n",
      "step 8000: mean loss = tf.Tensor(2.686948, shape=(), dtype=float32)\n",
      "step 9000: mean loss = tf.Tensor(2.6770585, shape=(), dtype=float32)\n",
      "step 10000: mean loss = tf.Tensor(2.6700895, shape=(), dtype=float32)\n",
      "step 11000: mean loss = tf.Tensor(2.6602569, shape=(), dtype=float32)\n",
      "step 12000: mean loss = tf.Tensor(2.6515756, shape=(), dtype=float32)\n",
      "step 13000: mean loss = tf.Tensor(2.642614, shape=(), dtype=float32)\n",
      "Start of epoch 2\n",
      "step 0: mean loss = tf.Tensor(2.6393979, shape=(), dtype=float32)\n",
      "step 1000: mean loss = tf.Tensor(2.6313577, shape=(), dtype=float32)\n",
      "step 2000: mean loss = tf.Tensor(2.6212363, shape=(), dtype=float32)\n",
      "step 3000: mean loss = tf.Tensor(2.6132026, shape=(), dtype=float32)\n",
      "step 4000: mean loss = tf.Tensor(2.6055171, shape=(), dtype=float32)\n",
      "step 5000: mean loss = tf.Tensor(2.5980306, shape=(), dtype=float32)\n",
      "step 6000: mean loss = tf.Tensor(2.5909479, shape=(), dtype=float32)\n",
      "step 7000: mean loss = tf.Tensor(2.584091, shape=(), dtype=float32)\n",
      "step 8000: mean loss = tf.Tensor(2.57679, shape=(), dtype=float32)\n",
      "step 9000: mean loss = tf.Tensor(2.569082, shape=(), dtype=float32)\n",
      "step 10000: mean loss = tf.Tensor(2.5620391, shape=(), dtype=float32)\n",
      "step 11000: mean loss = tf.Tensor(2.5550048, shape=(), dtype=float32)\n",
      "step 12000: mean loss = tf.Tensor(2.547928, shape=(), dtype=float32)\n",
      "step 13000: mean loss = tf.Tensor(2.5404394, shape=(), dtype=float32)\n",
      "Start of epoch 3\n",
      "step 0: mean loss = tf.Tensor(2.5375614, shape=(), dtype=float32)\n",
      "step 1000: mean loss = tf.Tensor(2.5307655, shape=(), dtype=float32)\n",
      "step 2000: mean loss = tf.Tensor(2.524269, shape=(), dtype=float32)\n",
      "step 3000: mean loss = tf.Tensor(2.5183046, shape=(), dtype=float32)\n",
      "step 4000: mean loss = tf.Tensor(2.5119536, shape=(), dtype=float32)\n",
      "step 5000: mean loss = tf.Tensor(2.5054624, shape=(), dtype=float32)\n",
      "step 6000: mean loss = tf.Tensor(2.4993112, shape=(), dtype=float32)\n",
      "step 7000: mean loss = tf.Tensor(2.4923055, shape=(), dtype=float32)\n",
      "step 8000: mean loss = tf.Tensor(2.4859862, shape=(), dtype=float32)\n",
      "step 9000: mean loss = tf.Tensor(2.4796827, shape=(), dtype=float32)\n",
      "step 10000: mean loss = tf.Tensor(2.473187, shape=(), dtype=float32)\n",
      "step 11000: mean loss = tf.Tensor(2.4666853, shape=(), dtype=float32)\n",
      "step 12000: mean loss = tf.Tensor(2.4606838, shape=(), dtype=float32)\n",
      "step 13000: mean loss = tf.Tensor(2.4542992, shape=(), dtype=float32)\n",
      "Start of epoch 4\n",
      "step 0: mean loss = tf.Tensor(2.4518154, shape=(), dtype=float32)\n",
      "step 1000: mean loss = tf.Tensor(2.4461603, shape=(), dtype=float32)\n",
      "step 2000: mean loss = tf.Tensor(2.4405909, shape=(), dtype=float32)\n",
      "step 3000: mean loss = tf.Tensor(2.435398, shape=(), dtype=float32)\n",
      "step 4000: mean loss = tf.Tensor(2.4298935, shape=(), dtype=float32)\n",
      "step 5000: mean loss = tf.Tensor(2.4244218, shape=(), dtype=float32)\n",
      "step 6000: mean loss = tf.Tensor(2.4188433, shape=(), dtype=float32)\n",
      "step 7000: mean loss = tf.Tensor(2.413485, shape=(), dtype=float32)\n",
      "step 8000: mean loss = tf.Tensor(2.4085035, shape=(), dtype=float32)\n",
      "step 9000: mean loss = tf.Tensor(2.4034357, shape=(), dtype=float32)\n",
      "step 10000: mean loss = tf.Tensor(2.3981373, shape=(), dtype=float32)\n",
      "step 11000: mean loss = tf.Tensor(2.3927293, shape=(), dtype=float32)\n",
      "step 12000: mean loss = tf.Tensor(2.3879359, shape=(), dtype=float32)\n",
      "step 13000: mean loss = tf.Tensor(2.3828328, shape=(), dtype=float32)\n",
      "Start of epoch 5\n",
      "step 0: mean loss = tf.Tensor(2.3810956, shape=(), dtype=float32)\n",
      "step 1000: mean loss = tf.Tensor(2.376409, shape=(), dtype=float32)\n",
      "step 2000: mean loss = tf.Tensor(2.3708436, shape=(), dtype=float32)\n",
      "step 3000: mean loss = tf.Tensor(2.366337, shape=(), dtype=float32)\n",
      "step 4000: mean loss = tf.Tensor(2.3620331, shape=(), dtype=float32)\n",
      "step 5000: mean loss = tf.Tensor(2.3574982, shape=(), dtype=float32)\n",
      "step 6000: mean loss = tf.Tensor(2.3527608, shape=(), dtype=float32)\n",
      "step 7000: mean loss = tf.Tensor(2.3482585, shape=(), dtype=float32)\n",
      "step 8000: mean loss = tf.Tensor(2.3440917, shape=(), dtype=float32)\n",
      "step 9000: mean loss = tf.Tensor(2.3399403, shape=(), dtype=float32)\n",
      "step 10000: mean loss = tf.Tensor(2.3354788, shape=(), dtype=float32)\n",
      "step 11000: mean loss = tf.Tensor(2.3308609, shape=(), dtype=float32)\n",
      "step 12000: mean loss = tf.Tensor(2.3262522, shape=(), dtype=float32)\n",
      "step 13000: mean loss = tf.Tensor(2.322362, shape=(), dtype=float32)\n",
      "Start of epoch 6\n",
      "step 0: mean loss = tf.Tensor(2.32081, shape=(), dtype=float32)\n",
      "step 1000: mean loss = tf.Tensor(2.3170755, shape=(), dtype=float32)\n",
      "step 2000: mean loss = tf.Tensor(2.3129318, shape=(), dtype=float32)\n",
      "step 3000: mean loss = tf.Tensor(2.3085651, shape=(), dtype=float32)\n",
      "step 4000: mean loss = tf.Tensor(2.303974, shape=(), dtype=float32)\n",
      "step 5000: mean loss = tf.Tensor(2.2999659, shape=(), dtype=float32)\n",
      "step 6000: mean loss = tf.Tensor(2.29629, shape=(), dtype=float32)\n",
      "step 7000: mean loss = tf.Tensor(2.2923415, shape=(), dtype=float32)\n",
      "step 8000: mean loss = tf.Tensor(2.2886913, shape=(), dtype=float32)\n",
      "step 9000: mean loss = tf.Tensor(2.2848942, shape=(), dtype=float32)\n",
      "step 10000: mean loss = tf.Tensor(2.2810454, shape=(), dtype=float32)\n",
      "step 11000: mean loss = tf.Tensor(2.276825, shape=(), dtype=float32)\n",
      "step 12000: mean loss = tf.Tensor(2.272942, shape=(), dtype=float32)\n",
      "step 13000: mean loss = tf.Tensor(2.2694762, shape=(), dtype=float32)\n",
      "Start of epoch 7\n",
      "step 0: mean loss = tf.Tensor(2.2680488, shape=(), dtype=float32)\n",
      "step 1000: mean loss = tf.Tensor(2.2641556, shape=(), dtype=float32)\n",
      "step 2000: mean loss = tf.Tensor(2.2602735, shape=(), dtype=float32)\n",
      "step 3000: mean loss = tf.Tensor(2.2566798, shape=(), dtype=float32)\n",
      "step 4000: mean loss = tf.Tensor(2.253018, shape=(), dtype=float32)\n",
      "step 5000: mean loss = tf.Tensor(2.249351, shape=(), dtype=float32)\n",
      "step 6000: mean loss = tf.Tensor(2.2458496, shape=(), dtype=float32)\n",
      "step 7000: mean loss = tf.Tensor(2.2426634, shape=(), dtype=float32)\n",
      "step 8000: mean loss = tf.Tensor(2.2390687, shape=(), dtype=float32)\n",
      "step 9000: mean loss = tf.Tensor(2.2358916, shape=(), dtype=float32)\n",
      "step 10000: mean loss = tf.Tensor(2.232088, shape=(), dtype=float32)\n",
      "step 11000: mean loss = tf.Tensor(2.228658, shape=(), dtype=float32)\n",
      "step 12000: mean loss = tf.Tensor(2.2254012, shape=(), dtype=float32)\n",
      "step 13000: mean loss = tf.Tensor(2.2218084, shape=(), dtype=float32)\n",
      "Start of epoch 8\n",
      "step 0: mean loss = tf.Tensor(2.2206914, shape=(), dtype=float32)\n",
      "step 1000: mean loss = tf.Tensor(2.2174146, shape=(), dtype=float32)\n",
      "step 2000: mean loss = tf.Tensor(2.213962, shape=(), dtype=float32)\n",
      "step 3000: mean loss = tf.Tensor(2.2106662, shape=(), dtype=float32)\n",
      "step 4000: mean loss = tf.Tensor(2.207254, shape=(), dtype=float32)\n"
     ]
    },
    {
     "name": "stdout",
     "output_type": "stream",
     "text": [
      "step 5000: mean loss = tf.Tensor(2.204148, shape=(), dtype=float32)\n",
      "step 6000: mean loss = tf.Tensor(2.2010918, shape=(), dtype=float32)\n",
      "step 7000: mean loss = tf.Tensor(2.1980302, shape=(), dtype=float32)\n",
      "step 8000: mean loss = tf.Tensor(2.195065, shape=(), dtype=float32)\n",
      "step 9000: mean loss = tf.Tensor(2.1919062, shape=(), dtype=float32)\n",
      "step 10000: mean loss = tf.Tensor(2.1887536, shape=(), dtype=float32)\n",
      "step 11000: mean loss = tf.Tensor(2.1856747, shape=(), dtype=float32)\n",
      "step 12000: mean loss = tf.Tensor(2.182647, shape=(), dtype=float32)\n",
      "step 13000: mean loss = tf.Tensor(2.1798837, shape=(), dtype=float32)\n",
      "Start of epoch 9\n",
      "step 0: mean loss = tf.Tensor(2.178871, shape=(), dtype=float32)\n",
      "step 1000: mean loss = tf.Tensor(2.1758873, shape=(), dtype=float32)\n",
      "step 2000: mean loss = tf.Tensor(2.1727955, shape=(), dtype=float32)\n",
      "step 3000: mean loss = tf.Tensor(2.170109, shape=(), dtype=float32)\n",
      "step 4000: mean loss = tf.Tensor(2.1673076, shape=(), dtype=float32)\n",
      "step 5000: mean loss = tf.Tensor(2.1643903, shape=(), dtype=float32)\n",
      "step 6000: mean loss = tf.Tensor(2.1616137, shape=(), dtype=float32)\n",
      "step 7000: mean loss = tf.Tensor(2.1589003, shape=(), dtype=float32)\n",
      "step 8000: mean loss = tf.Tensor(2.1561508, shape=(), dtype=float32)\n",
      "step 9000: mean loss = tf.Tensor(2.1534884, shape=(), dtype=float32)\n",
      "step 10000: mean loss = tf.Tensor(2.150697, shape=(), dtype=float32)\n",
      "step 11000: mean loss = tf.Tensor(2.1478865, shape=(), dtype=float32)\n",
      "step 12000: mean loss = tf.Tensor(2.1450567, shape=(), dtype=float32)\n",
      "step 13000: mean loss = tf.Tensor(2.1425943, shape=(), dtype=float32)\n"
     ]
    }
   ],
   "source": [
    "import time\n",
    "\n",
    "epochs = 10\n",
    "for epoch in range(epochs):\n",
    "    print('Start of epoch %d' % (epoch,))\n",
    "\n",
    "    # Iterate over the batches of the dataset.\n",
    "    total_loss = 0\n",
    "    for step, (bert_input, target) in enumerate(dataset):\n",
    "        mask, target = tf.unstack(target, axis=1)\n",
    "        with tf.GradientTape() as tape:\n",
    "            output = model(bert_input, mask)\n",
    "            \n",
    "            # Compute reconstruction loss\n",
    "            loss_val = loss(target, output)\n",
    "            loss_val += sum(model.losses)  # Add KLD regularization loss\n",
    "        \n",
    "\n",
    "        grads = tape.gradient(loss_val, model.trainable_weights)\n",
    "        opt.apply_gradients(zip(grads, model.trainable_weights))\n",
    "\n",
    "        loss_metric(loss_val)\n",
    "\n",
    "        if step % 1000 == 0:\n",
    "          print('step %s: mean loss = %s' % (step, loss_metric.result()))\n",
    "        \n",
    "    model.save_weights(\"./word_predictor_{}\".format(epoch))"
   ]
  },
  {
   "cell_type": "markdown",
   "metadata": {},
   "source": [
    "## 4. Prediction"
   ]
  },
  {
   "cell_type": "code",
   "execution_count": 8,
   "metadata": {},
   "outputs": [],
   "source": [
    "def blank_word_predict(model, sentence, blank_loc, candidate_num=10):\n",
    "    # Given a sentence and at which location (0-indexed) it is blank\n",
    "    # return the predicted word\n",
    "    ids, masks, seg_ids = convert_sentence_to_features(sentence, tokenizer)\n",
    "    \n",
    "    # adjust input_mask, reset the randomly selected mask and set with blank_loc\n",
    "    masks[blank_loc] = 0\n",
    "    \n",
    "    ids[blank_loc] = MASK_ID\n",
    "    \n",
    "    bert_input = tf.stack([ids, masks, seg_ids])\n",
    "    bert_input = tf.reshape(bert_input, (1, bert_input.shape[0], bert_input.shape[1]))\n",
    "    \n",
    "#     bert_input = tf.unstack(tf.cast(bert_input, tf.dtypes.int32), axis=1)\n",
    "#     pooled, sequential = bert_module(bert_input)\n",
    "        \n",
    "    output = model(bert_input, [blank_loc])\n",
    "    return tf.argsort(output, direction='DESCENDING')[0, :candidate_num]"
   ]
  },
  {
   "cell_type": "code",
   "execution_count": 10,
   "metadata": {},
   "outputs": [
    {
     "data": {
      "text/plain": [
       "<tensorflow.python.training.tracking.util.CheckpointLoadStatus at 0x7f0c7461ed68>"
      ]
     },
     "execution_count": 10,
     "metadata": {},
     "output_type": "execute_result"
    }
   ],
   "source": [
    "model = WordPredictor(len(tokenizer.vocab))\n",
    "\n",
    "model.load_weights(\"./word_predictor_8\")"
   ]
  },
  {
   "cell_type": "code",
   "execution_count": 11,
   "metadata": {},
   "outputs": [
    {
     "name": "stdout",
     "output_type": "stream",
     "text": [
      "['incident']\n",
      "['attack']\n",
      "['case']\n",
      "['virus']\n",
      "['shooting']\n"
     ]
    }
   ],
   "source": [
    "sentence = \"the blank has caused panic around the world\"\n",
    "\n",
    "result = blank_word_predict(model, sentence, 2, 5)\n",
    "\n",
    "result = result.numpy()\n",
    "\n",
    "for i in range(result.shape[0]):\n",
    "    print(tokenizer.convert_ids_to_tokens([result[i]]))"
   ]
  },
  {
   "cell_type": "code",
   "execution_count": 12,
   "metadata": {},
   "outputs": [
    {
     "name": "stdout",
     "output_type": "stream",
     "text": [
      "['bill']\n",
      "['letter']\n",
      "['deal']\n",
      "['statement']\n",
      "['law']\n"
     ]
    }
   ],
   "source": [
    "sentence = \"Mr . president signed the blank to fight pandemic\"\n",
    "\n",
    "result = blank_word_predict(model, sentence, 6, 5)\n",
    "\n",
    "result = result.numpy()\n",
    "\n",
    "for i in range(result.shape[0]):\n",
    "    print(tokenizer.convert_ids_to_tokens([result[i]]))"
   ]
  },
  {
   "cell_type": "code",
   "execution_count": 13,
   "metadata": {},
   "outputs": [
    {
     "name": "stdout",
     "output_type": "stream",
     "text": [
      "['used']\n",
      "['launched']\n",
      "['introduced']\n",
      "['announced']\n",
      "['held']\n"
     ]
    }
   ],
   "source": [
    "sentence = \"Mr . president blank the act to fight pandemic\"\n",
    "\n",
    "result = blank_word_predict(model, sentence, 4, 5)\n",
    "\n",
    "result = result.numpy()\n",
    "\n",
    "for i in range(result.shape[0]):\n",
    "    print(tokenizer.convert_ids_to_tokens([result[i]]))"
   ]
  },
  {
   "cell_type": "code",
   "execution_count": 14,
   "metadata": {},
   "outputs": [
    {
     "name": "stdout",
     "output_type": "stream",
     "text": [
      "['film']\n",
      "['show']\n",
      "['game']\n",
      "['music']\n",
      "['news']\n"
     ]
    }
   ],
   "source": [
    "sentence = \"i love the blank\"\n",
    "\n",
    "result = blank_word_predict(model, sentence, 4, 5)\n",
    "\n",
    "result = result.numpy()\n",
    "\n",
    "for i in range(result.shape[0]):\n",
    "    print(tokenizer.convert_ids_to_tokens([result[i]]))"
   ]
  }
 ],
 "metadata": {
  "kernelspec": {
   "display_name": "Python 3",
   "language": "python",
   "name": "python3"
  },
  "language_info": {
   "codemirror_mode": {
    "name": "ipython",
    "version": 3
   },
   "file_extension": ".py",
   "mimetype": "text/x-python",
   "name": "python",
   "nbconvert_exporter": "python",
   "pygments_lexer": "ipython3",
   "version": "3.7.3"
  }
 },
 "nbformat": 4,
 "nbformat_minor": 2
}
