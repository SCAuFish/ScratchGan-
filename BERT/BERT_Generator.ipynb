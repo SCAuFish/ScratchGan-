{
 "cells": [
  {
   "cell_type": "markdown",
   "metadata": {},
   "source": [
    "### Since BERT_Cloze proves that BERT is able to predict missing word pretty decently, let's try BERT with text generation directly"
   ]
  },
  {
   "cell_type": "markdown",
   "metadata": {},
   "source": [
    "## 1. Loading and Initializing"
   ]
  },
  {
   "cell_type": "code",
   "execution_count": 1,
   "metadata": {},
   "outputs": [
    {
     "name": "stdout",
     "output_type": "stream",
     "text": [
      "Using Tensorflow version: 2.1.0\n",
      "[PhysicalDevice(name='/physical_device:GPU:0', device_type='GPU')]\n"
     ]
    }
   ],
   "source": [
    "import tensorflow as tf\n",
    "import tensorflow_hub as hub\n",
    "print(\"Using Tensorflow version: \" + tf.__version__)\n",
    "print(tf.config.list_physical_devices('GPU'))\n",
    "\n",
    "BERT_DIR = \"/home/aufish/Downloads/bert\""
   ]
  },
  {
   "cell_type": "code",
   "execution_count": 2,
   "metadata": {},
   "outputs": [],
   "source": [
    "bert_module = hub.KerasLayer(BERT_DIR, trainable=True)"
   ]
  },
  {
   "cell_type": "code",
   "execution_count": 3,
   "metadata": {},
   "outputs": [],
   "source": [
    "# tokenizer\n",
    "from bert import tokenization\n",
    "\n",
    "def create_tokenizer(vocab_file, do_lower_case=False):\n",
    "    return tokenization.FullTokenizer(vocab_file=vocab_file, do_lower_case=do_lower_case)\n",
    "\n",
    "tokenizer = create_tokenizer(BERT_DIR + \"/assets/vocab.txt\")\n",
    "\n",
    "def convert_sentence_to_features(sentence, tokenizer, max_seq_len=50):\n",
    "    tokens = ['[CLS]']\n",
    "    tokens.extend(tokenizer.tokenize(sentence))\n",
    "    if len(tokens) > max_seq_len-1:\n",
    "        tokens = tokens[:max_seq_len-1]\n",
    "    tokens.append('[SEP]')\n",
    "    \n",
    "    segment_ids = [0] * len(tokens)\n",
    "    input_ids = tokenizer.convert_tokens_to_ids(tokens)\n",
    "    input_mask = [1] * len(input_ids)\n",
    "\n",
    "    #Zero Mask till seq_length\n",
    "    zero_mask = [0] * (max_seq_len-len(tokens))\n",
    "    input_ids.extend(zero_mask)\n",
    "    input_mask.extend(zero_mask)\n",
    "    segment_ids.extend(zero_mask)\n",
    "    \n",
    "    return input_ids, input_mask, segment_ids\n",
    "\n",
    "def convert_sentences_to_features(sentences, tokenizer, max_seq_len=50):\n",
    "    all_input_ids = []\n",
    "    all_input_mask = []\n",
    "    all_segment_ids = []\n",
    "    \n",
    "    for sentence in sentences:\n",
    "        input_ids, input_mask, segment_ids = convert_sentence_to_features(sentence, tokenizer, max_seq_len)\n",
    "        all_input_ids.append(input_ids)\n",
    "        all_input_mask.append(input_mask)\n",
    "        all_segment_ids.append(segment_ids)\n",
    "    \n",
    "    return all_input_ids, all_input_mask, all_segment_ids"
   ]
  },
  {
   "cell_type": "code",
   "execution_count": null,
   "metadata": {},
   "outputs": [],
   "source": [
    "# TODO: rewrite this method so that words after a certain index should all be masked\n",
    "import random, copy\n",
    "import numpy as np\n",
    "def make_rand_mask(input_ids, input_mask, vocab_size, segment_id_vals=None):\n",
    "    ''' \n",
    "    Only make mask for one sentence\n",
    "    input_ids: the ids of words in the sentences\n",
    "    input_mask: initial mask (1 if there is a word; 0 for padding)\n",
    "    returns\n",
    "    input_mask: replace one bit of 1 with 0, meaning that the word will be masked\n",
    "    segment_id_vals: mark the masked word with segment id 1\n",
    "    mask_word: the masked word index\n",
    "    '''\n",
    "    \n",
    "    new_input_mask = copy.deepcopy(input_mask)\n",
    "    pure_ids = []\n",
    "\n",
    "    total_word = sum(input_mask)\n",
    "    mask_word = random.randint(0, total_word-1)\n",
    "\n",
    "    pure_ids.append(input_ids[mask_word])\n",
    "    assert new_input_mask[mask_word] == 1\n",
    "    new_input_mask[mask_word] = 0\n",
    "                \n",
    "    return new_input_mask, segment_id_vals, mask_word"
   ]
  },
  {
   "cell_type": "code",
   "execution_count": 4,
   "metadata": {},
   "outputs": [],
   "source": [
    "class TextGenerator(tf.keras.Model):\n",
    "    # The output means, how possible the given word may fit into the blank\n",
    "    def __init__(self, class_num, bert=bert_module, dropout=0.1):\n",
    "        super(WordPredictor, self).__init__()\n",
    "        self.bert = bert\n",
    "        self.drop = tf.keras.layers.Dropout(rate=dropout, trainable=True)\n",
    "        \n",
    "        self.dense = tf.keras.layers.Dense(\n",
    "            class_num,\n",
    "            activation=None,\n",
    "            kernel_initializer='glorot_uniform',\n",
    "            name='word_prediction',\n",
    "            trainable=True)\n",
    "        \n",
    "    def call(self, inputs, mask_loc):\n",
    "        # When passed in, all tensors are stacked in one, split it into a list\n",
    "        inputs = tf.unstack(tf.cast(inputs, tf.dtypes.int32), axis=1)\n",
    "        \n",
    "        pooled, sequential = self.bert(inputs)\n",
    "        \n",
    "        # select one from each batch\n",
    "        s = tf.gather_nd(sequential, [(i, mask_loc[i]) for i in range(sequential.shape[0])])\n",
    "        # s now has shape (batch_size * 768)\n",
    "        \n",
    "        x = self.drop(s)\n",
    "        return self.dense(x)"
   ]
  },
  {
   "cell_type": "markdown",
   "metadata": {},
   "source": [
    "## 2. Prepare data"
   ]
  },
  {
   "cell_type": "code",
   "execution_count": null,
   "metadata": {},
   "outputs": [],
   "source": [
    "import numpy as np\n",
    "# extracted from emnlp\n",
    "DATA_FILE = \"./sentences.txt\"\n",
    "\n",
    "MASK_ID = tokenizer.convert_tokens_to_ids(['[MASK]'])[0]\n",
    "\n",
    "def parse_line(line):    \n",
    "    input_ids, input_mask, segment_ids = convert_sentence_to_features(line, tokenizer, max_seq_len=30)\n",
    "        \n",
    "    input_mask, segment_ids, mask_position = \\\n",
    "        make_rand_mask(input_ids, input_mask, len(tokenizer.vocab), segment_ids)\n",
    "    \n",
    "    label = input_ids[mask_position]\n",
    "    input_ids[mask_position] = MASK_ID\n",
    "    \n",
    "    return [input_ids, input_mask, segment_ids], [mask_position, label]\n",
    "\n",
    "def create_dataset(filename = DATA_FILE, data_size = 268528, batch_size = 10):\n",
    "    dataset = tf.data.TextLineDataset([filename])\n",
    "    \n",
    "    dataset = dataset.map(lambda x : tf.numpy_function(parse_line, [x], [tf.int64, tf.int64]))\n",
    "    \n",
    "    # dataset = dataset.shuffle(data_size, reshuffle_each_iteration=True)\n",
    "    \n",
    "    dataset = dataset.batch(batch_size)\n",
    "    \n",
    "    return dataset"
   ]
  }
 ],
 "metadata": {
  "kernelspec": {
   "display_name": "Python 3",
   "language": "python",
   "name": "python3"
  },
  "language_info": {
   "codemirror_mode": {
    "name": "ipython",
    "version": 3
   },
   "file_extension": ".py",
   "mimetype": "text/x-python",
   "name": "python",
   "nbconvert_exporter": "python",
   "pygments_lexer": "ipython3",
   "version": "3.7.3"
  }
 },
 "nbformat": 4,
 "nbformat_minor": 2
}
