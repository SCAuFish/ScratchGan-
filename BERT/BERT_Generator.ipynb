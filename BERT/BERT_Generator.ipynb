{
 "cells": [
  {
   "cell_type": "markdown",
   "metadata": {},
   "source": [
    "### Since BERT_Cloze proves that BERT is able to predict missing word pretty decently, let's try BERT with text generation directly"
   ]
  },
  {
   "cell_type": "markdown",
   "metadata": {},
   "source": [
    "## 1. Loading and Initializing"
   ]
  },
  {
   "cell_type": "code",
   "execution_count": 2,
   "metadata": {},
   "outputs": [
    {
     "name": "stdout",
     "output_type": "stream",
     "text": [
      "Using Tensorflow version: 2.1.0\n",
      "[PhysicalDevice(name='/physical_device:GPU:0', device_type='GPU')]\n"
     ]
    }
   ],
   "source": [
    "import tensorflow as tf\n",
    "import tensorflow_hub as hub\n",
    "print(\"Using Tensorflow version: \" + tf.__version__)\n",
    "print(tf.config.list_physical_devices('GPU'))\n",
    "\n",
    "BERT_DIR = \"/home/aufish/Downloads/bert\""
   ]
  },
  {
   "cell_type": "code",
   "execution_count": 3,
   "metadata": {},
   "outputs": [],
   "source": [
    "bert_module = hub.KerasLayer(BERT_DIR, trainable=True)"
   ]
  },
  {
   "cell_type": "code",
   "execution_count": 4,
   "metadata": {},
   "outputs": [],
   "source": [
    "# tokenizer\n",
    "from bert import tokenization\n",
    "\n",
    "def create_tokenizer(vocab_file, do_lower_case=False):\n",
    "    return tokenization.FullTokenizer(vocab_file=vocab_file, do_lower_case=do_lower_case)\n",
    "\n",
    "tokenizer = create_tokenizer(BERT_DIR + \"/assets/vocab.txt\")\n",
    "\n",
    "def convert_sentence_to_features(sentence, tokenizer, max_seq_len=50):\n",
    "    tokens = ['[CLS]']\n",
    "    tokens.extend(tokenizer.tokenize(sentence))\n",
    "    if len(tokens) > max_seq_len-1:\n",
    "        tokens = tokens[:max_seq_len-1]\n",
    "    tokens.append('[SEP]')\n",
    "    \n",
    "    segment_ids = [0] * len(tokens)\n",
    "    input_ids = tokenizer.convert_tokens_to_ids(tokens)\n",
    "    input_mask = [1] * len(input_ids)\n",
    "\n",
    "    #Zero Mask till seq_length\n",
    "    zero_mask = [0] * (max_seq_len-len(tokens))\n",
    "    input_ids.extend(zero_mask)\n",
    "    input_mask.extend(zero_mask)\n",
    "    segment_ids.extend(zero_mask)\n",
    "    \n",
    "    return input_ids, input_mask, segment_ids\n",
    "\n",
    "def convert_sentences_to_features(sentences, tokenizer, max_seq_len=50):\n",
    "    all_input_ids = []\n",
    "    all_input_mask = []\n",
    "    all_segment_ids = []\n",
    "    \n",
    "    for sentence in sentences:\n",
    "        input_ids, input_mask, segment_ids = convert_sentence_to_features(sentence, tokenizer, max_seq_len)\n",
    "        all_input_ids.append(input_ids)\n",
    "        all_input_mask.append(input_mask)\n",
    "        all_segment_ids.append(segment_ids)\n",
    "    \n",
    "    return all_input_ids, all_input_mask, all_segment_ids"
   ]
  },
  {
   "cell_type": "code",
   "execution_count": 5,
   "metadata": {},
   "outputs": [],
   "source": [
    "# TODO: rewrite this method so that words after a certain index should all be masked\n",
    "import random, copy\n",
    "import numpy as np\n",
    "def make_rand_mask(input_ids, input_mask, vocab_size, segment_id_vals=None):\n",
    "    ''' \n",
    "    Only make mask for one sentence\n",
    "    input_ids: the ids of words in the sentences\n",
    "    input_mask: initial mask (1 if there is a word; 0 for padding)\n",
    "    returns\n",
    "    input_mask: replace one bit of 1 with 0, meaning that the word will be masked\n",
    "    segment_id_vals: mark the masked word with segment id 1\n",
    "    mask_word: the masked word index\n",
    "    '''\n",
    "    \n",
    "    new_input_mask = copy.deepcopy(input_mask)\n",
    "    pure_ids = []\n",
    "\n",
    "    total_word = sum(input_mask)\n",
    "    mask_word = random.randint(0, total_word-1)\n",
    "\n",
    "    pure_ids.append(input_ids[mask_word])\n",
    "    assert new_input_mask[mask_word] == 1\n",
    "    new_input_mask[mask_word] = 0\n",
    "                \n",
    "    return new_input_mask, segment_id_vals, mask_word"
   ]
  },
  {
   "cell_type": "code",
   "execution_count": 6,
   "metadata": {},
   "outputs": [],
   "source": [
    "class TextGenerator(tf.keras.Model):\n",
    "    # The output means, how possible the given word may fit into the blank\n",
    "    def __init__(self, class_num, bert=bert_module, dropout=0.1):\n",
    "        super(TextGenerator, self).__init__()\n",
    "        self.bert = bert\n",
    "        self.drop = tf.keras.layers.Dropout(rate=dropout, trainable=True)\n",
    "        \n",
    "        self.dense = tf.keras.layers.Dense(\n",
    "            class_num,\n",
    "            activation=None,\n",
    "            kernel_initializer='glorot_uniform',\n",
    "            name='word_prediction',\n",
    "            trainable=True)\n",
    "        \n",
    "    def call(self, inputs, mask_loc):\n",
    "        # When passed in, all tensors are stacked in one, split it into a list\n",
    "        inputs = tf.unstack(tf.cast(inputs, tf.dtypes.int32), axis=1)\n",
    "        \n",
    "        pooled, sequential = self.bert(inputs)\n",
    "        \n",
    "        # select one from each batch\n",
    "        s = tf.gather_nd(sequential, [(i, mask_loc[i]) for i in range(sequential.shape[0])])\n",
    "        # s now has shape (batch_size * 768)\n",
    "        \n",
    "        x = self.drop(s)\n",
    "        return self.dense(x)"
   ]
  },
  {
   "cell_type": "markdown",
   "metadata": {},
   "source": [
    "## 2. Prepare data"
   ]
  },
  {
   "cell_type": "code",
   "execution_count": 6,
   "metadata": {},
   "outputs": [],
   "source": [
    "# Preprocess sentences.txt and add mask to end of sentences\n",
    "# Should be run only once\n",
    "\n",
    "# DATA_FILE = \"./sentences.txt\"\n",
    "# MASKED_SENTENCE_FILE = \"./masked_sentences.txt\"\n",
    "\n",
    "# data = open(DATA_FILE, \"r\")\n",
    "# masked_data = open(MASKED_SENTENCE_FILE, \"w\")\n",
    "# line = data.readline()\n",
    "# while line != '':\n",
    "#     line = line.split(\" \")\n",
    "#     new_line = ['[MASK]' for i in range(len(line))]\n",
    "#     for i in range(len(line)):\n",
    "#         new_line[i] = line[i]\n",
    "#         masked_data.write(\" \".join(new_line) + \"\\n\")\n",
    "        \n",
    "#     line = data.readline()\n",
    "        \n",
    "# masked_data.close()\n",
    "# data.close()"
   ]
  },
  {
   "cell_type": "code",
   "execution_count": 7,
   "metadata": {},
   "outputs": [],
   "source": [
    "import numpy as np\n",
    "# extracted from emnlp\n",
    "DATA_FILE = \"./sentences.txt\"\n",
    "\n",
    "MASK_ID = tokenizer.convert_tokens_to_ids(['[MASK]'])[0]\n",
    "SENTENCE_END_ID = tokenizer.convert_tokens_to_ids(['[SEP]'])[0]\n",
    "\n",
    "# parse_line will return a batch for each sentence\n",
    "# masking different lengths left in the sentence\n",
    "def parse_line(line):    \n",
    "    input_ids, input_mask, segment_ids = convert_sentence_to_features(line, tokenizer, max_seq_len=30)\n",
    "            \n",
    "    # Mask the last non-mask word and return the word as target\n",
    "    word_to_mask_loc = 0\n",
    "    if MASK_ID in input_ids:\n",
    "        word_to_mask_loc = input_ids.index(MASK_ID) - 1\n",
    "    else:\n",
    "        word_to_mask_loc = input_ids.index(SENTENCE_END_ID) - 1\n",
    "    \n",
    "    label = input_ids[word_to_mask_loc]\n",
    "    input_ids[word_to_mask_loc] = MASK_ID\n",
    "    input_mask = [0 if input_ids[i]==MASK_ID else input_mask[i] for i in range(len(input_mask))]\n",
    "    \n",
    "    return [input_ids, input_mask, segment_ids], [word_to_mask_loc, label]\n",
    "\n",
    "def create_dataset(filename = DATA_FILE, data_size = 268528, batch_size = 10):\n",
    "    dataset = tf.data.TextLineDataset([filename])\n",
    "    \n",
    "    dataset = dataset.map(lambda x : tf.numpy_function(parse_line, [x], [tf.int64, tf.int64]))\n",
    "    \n",
    "    dataset = dataset.shuffle(data_size, reshuffle_each_iteration=True)\n",
    "    \n",
    "    dataset = dataset.batch(batch_size)\n",
    "    \n",
    "    return dataset"
   ]
  },
  {
   "cell_type": "markdown",
   "metadata": {},
   "source": [
    "## 3. Training"
   ]
  },
  {
   "cell_type": "markdown",
   "metadata": {},
   "source": [
    "### 3.1 Training Sanity Run"
   ]
  },
  {
   "cell_type": "code",
   "execution_count": 15,
   "metadata": {},
   "outputs": [],
   "source": [
    "model = TextGenerator(len(tokenizer.vocab))\n",
    "\n",
    "opt = tf.keras.optimizers.Adam(learning_rate=1e-5)\n",
    "loss = tf.keras.losses.SparseCategoricalCrossentropy(from_logits=True)\n",
    "loss_metric = tf.keras.metrics.Mean()\n",
    "\n",
    "dataset = create_dataset(batch_size = 10)"
   ]
  },
  {
   "cell_type": "code",
   "execution_count": 16,
   "metadata": {},
   "outputs": [
    {
     "name": "stdout",
     "output_type": "stream",
     "text": [
      "mean loss = tf.Tensor(10.241837, shape=(), dtype=float32)\n",
      "mean loss = tf.Tensor(10.220797, shape=(), dtype=float32)\n",
      "mean loss = tf.Tensor(10.223202, shape=(), dtype=float32)\n",
      "mean loss = tf.Tensor(10.196743, shape=(), dtype=float32)\n",
      "mean loss = tf.Tensor(10.169739, shape=(), dtype=float32)\n"
     ]
    }
   ],
   "source": [
    "for (bert_input, label) in dataset.take(5):\n",
    "    mask, label = tf.unstack(label, axis=1)\n",
    "    with tf.GradientTape() as tape:\n",
    "        output = model(bert_input, mask)\n",
    "\n",
    "        loss_val = loss(label, output)\n",
    "        loss_val += sum(model.losses)\n",
    "        \n",
    "    grads = tape.gradient(loss_val, model.trainable_weights)\n",
    "    opt.apply_gradients(zip(grads, model.trainable_weights))\n",
    "    \n",
    "    loss_metric(loss_val)\n",
    "    \n",
    "    print('mean loss = %s' % (loss_metric.result()))"
   ]
  },
  {
   "cell_type": "markdown",
   "metadata": {},
   "source": [
    "### 3.2 Actual Training Setup"
   ]
  },
  {
   "cell_type": "code",
   "execution_count": 10,
   "metadata": {},
   "outputs": [],
   "source": [
    "model = TextGenerator(len(tokenizer.vocab))\n",
    "\n",
    "opt = tf.keras.optimizers.Adam(learning_rate=1e-5)\n",
    "loss = tf.keras.losses.SparseCategoricalCrossentropy(from_logits=True)\n",
    "loss_metric = tf.keras.metrics.Mean()\n",
    "\n",
    "dataset = create_dataset(batch_size = 20)"
   ]
  },
  {
   "cell_type": "code",
   "execution_count": 19,
   "metadata": {},
   "outputs": [
    {
     "name": "stdout",
     "output_type": "stream",
     "text": [
      "Start of epoch 0\n",
      "step 0: mean loss = tf.Tensor(10.303389, shape=(), dtype=float32)\n",
      "step 1000: mean loss = tf.Tensor(4.598281, shape=(), dtype=float32)\n",
      "step 2000: mean loss = tf.Tensor(3.7107375, shape=(), dtype=float32)\n",
      "step 3000: mean loss = tf.Tensor(3.3310423, shape=(), dtype=float32)\n",
      "step 4000: mean loss = tf.Tensor(3.0930488, shape=(), dtype=float32)\n",
      "step 5000: mean loss = tf.Tensor(2.9535217, shape=(), dtype=float32)\n",
      "step 6000: mean loss = tf.Tensor(2.8466659, shape=(), dtype=float32)\n",
      "step 7000: mean loss = tf.Tensor(2.7577126, shape=(), dtype=float32)\n",
      "step 8000: mean loss = tf.Tensor(2.6867654, shape=(), dtype=float32)\n",
      "step 9000: mean loss = tf.Tensor(2.624818, shape=(), dtype=float32)\n",
      "step 10000: mean loss = tf.Tensor(2.5790024, shape=(), dtype=float32)\n",
      "step 11000: mean loss = tf.Tensor(2.5331786, shape=(), dtype=float32)\n",
      "step 12000: mean loss = tf.Tensor(2.4976485, shape=(), dtype=float32)\n",
      "step 13000: mean loss = tf.Tensor(2.4622, shape=(), dtype=float32)\n",
      "Start of epoch 1\n",
      "step 0: mean loss = tf.Tensor(2.450883, shape=(), dtype=float32)\n",
      "step 1000: mean loss = tf.Tensor(2.413821, shape=(), dtype=float32)\n",
      "step 2000: mean loss = tf.Tensor(2.382393, shape=(), dtype=float32)\n",
      "step 3000: mean loss = tf.Tensor(2.3550828, shape=(), dtype=float32)\n",
      "step 4000: mean loss = tf.Tensor(2.3284092, shape=(), dtype=float32)\n",
      "step 5000: mean loss = tf.Tensor(2.3038094, shape=(), dtype=float32)\n",
      "step 6000: mean loss = tf.Tensor(2.2809389, shape=(), dtype=float32)\n",
      "step 7000: mean loss = tf.Tensor(2.260672, shape=(), dtype=float32)\n",
      "step 8000: mean loss = tf.Tensor(2.2421212, shape=(), dtype=float32)\n",
      "step 9000: mean loss = tf.Tensor(2.22384, shape=(), dtype=float32)\n",
      "step 10000: mean loss = tf.Tensor(2.2064593, shape=(), dtype=float32)\n",
      "step 11000: mean loss = tf.Tensor(2.192433, shape=(), dtype=float32)\n",
      "step 12000: mean loss = tf.Tensor(2.1769679, shape=(), dtype=float32)\n",
      "step 13000: mean loss = tf.Tensor(2.1642754, shape=(), dtype=float32)\n",
      "Start of epoch 2\n",
      "step 0: mean loss = tf.Tensor(2.1578958, shape=(), dtype=float32)\n",
      "step 1000: mean loss = tf.Tensor(2.1389494, shape=(), dtype=float32)\n",
      "step 2000: mean loss = tf.Tensor(2.1204703, shape=(), dtype=float32)\n",
      "step 3000: mean loss = tf.Tensor(2.1041455, shape=(), dtype=float32)\n",
      "step 4000: mean loss = tf.Tensor(2.0890548, shape=(), dtype=float32)\n",
      "step 5000: mean loss = tf.Tensor(2.07283, shape=(), dtype=float32)\n",
      "step 6000: mean loss = tf.Tensor(2.0575442, shape=(), dtype=float32)\n",
      "step 7000: mean loss = tf.Tensor(2.0442593, shape=(), dtype=float32)\n",
      "step 8000: mean loss = tf.Tensor(2.0315566, shape=(), dtype=float32)\n",
      "step 9000: mean loss = tf.Tensor(2.018405, shape=(), dtype=float32)\n",
      "step 10000: mean loss = tf.Tensor(2.0079937, shape=(), dtype=float32)\n",
      "step 11000: mean loss = tf.Tensor(1.9971763, shape=(), dtype=float32)\n",
      "step 12000: mean loss = tf.Tensor(1.9868364, shape=(), dtype=float32)\n",
      "step 13000: mean loss = tf.Tensor(1.976577, shape=(), dtype=float32)\n",
      "Start of epoch 3\n",
      "step 0: mean loss = tf.Tensor(1.9724512, shape=(), dtype=float32)\n",
      "step 1000: mean loss = tf.Tensor(1.9578418, shape=(), dtype=float32)\n",
      "step 2000: mean loss = tf.Tensor(1.9437394, shape=(), dtype=float32)\n",
      "step 3000: mean loss = tf.Tensor(1.9300034, shape=(), dtype=float32)\n",
      "step 4000: mean loss = tf.Tensor(1.9171232, shape=(), dtype=float32)\n",
      "step 5000: mean loss = tf.Tensor(1.9040699, shape=(), dtype=float32)\n",
      "step 6000: mean loss = tf.Tensor(1.8914036, shape=(), dtype=float32)\n",
      "step 7000: mean loss = tf.Tensor(1.8797647, shape=(), dtype=float32)\n",
      "step 8000: mean loss = tf.Tensor(1.8682129, shape=(), dtype=float32)\n",
      "step 9000: mean loss = tf.Tensor(1.8574995, shape=(), dtype=float32)\n",
      "step 10000: mean loss = tf.Tensor(1.8465906, shape=(), dtype=float32)\n",
      "step 11000: mean loss = tf.Tensor(1.8364748, shape=(), dtype=float32)\n",
      "step 12000: mean loss = tf.Tensor(1.8269613, shape=(), dtype=float32)\n",
      "step 13000: mean loss = tf.Tensor(1.8179694, shape=(), dtype=float32)\n",
      "Start of epoch 4\n",
      "step 0: mean loss = tf.Tensor(1.8141816, shape=(), dtype=float32)\n",
      "step 1000: mean loss = tf.Tensor(1.8014086, shape=(), dtype=float32)\n",
      "step 2000: mean loss = tf.Tensor(1.7886779, shape=(), dtype=float32)\n",
      "step 3000: mean loss = tf.Tensor(1.7767148, shape=(), dtype=float32)\n",
      "step 4000: mean loss = tf.Tensor(1.7650982, shape=(), dtype=float32)\n",
      "step 5000: mean loss = tf.Tensor(1.7535118, shape=(), dtype=float32)\n",
      "step 6000: mean loss = tf.Tensor(1.7424074, shape=(), dtype=float32)\n",
      "step 7000: mean loss = tf.Tensor(1.7315246, shape=(), dtype=float32)\n",
      "step 8000: mean loss = tf.Tensor(1.7210861, shape=(), dtype=float32)\n",
      "step 9000: mean loss = tf.Tensor(1.7111034, shape=(), dtype=float32)\n",
      "step 10000: mean loss = tf.Tensor(1.701653, shape=(), dtype=float32)\n",
      "step 11000: mean loss = tf.Tensor(1.6922051, shape=(), dtype=float32)\n",
      "step 12000: mean loss = tf.Tensor(1.6831505, shape=(), dtype=float32)\n",
      "step 13000: mean loss = tf.Tensor(1.6742711, shape=(), dtype=float32)\n",
      "Start of epoch 5\n",
      "step 0: mean loss = tf.Tensor(1.6707526, shape=(), dtype=float32)\n",
      "step 1000: mean loss = tf.Tensor(1.6591928, shape=(), dtype=float32)\n",
      "step 2000: mean loss = tf.Tensor(1.6479402, shape=(), dtype=float32)\n",
      "step 3000: mean loss = tf.Tensor(1.6375098, shape=(), dtype=float32)\n",
      "step 4000: mean loss = tf.Tensor(1.6270008, shape=(), dtype=float32)\n",
      "step 5000: mean loss = tf.Tensor(1.6166819, shape=(), dtype=float32)\n",
      "step 6000: mean loss = tf.Tensor(1.6068007, shape=(), dtype=float32)\n",
      "step 7000: mean loss = tf.Tensor(1.5973271, shape=(), dtype=float32)\n",
      "step 8000: mean loss = tf.Tensor(1.5875015, shape=(), dtype=float32)\n",
      "step 9000: mean loss = tf.Tensor(1.5782058, shape=(), dtype=float32)\n",
      "step 10000: mean loss = tf.Tensor(1.5691926, shape=(), dtype=float32)\n",
      "step 11000: mean loss = tf.Tensor(1.5601376, shape=(), dtype=float32)\n",
      "step 12000: mean loss = tf.Tensor(1.5516721, shape=(), dtype=float32)\n",
      "step 13000: mean loss = tf.Tensor(1.5435647, shape=(), dtype=float32)\n",
      "Start of epoch 6\n",
      "step 0: mean loss = tf.Tensor(1.5400491, shape=(), dtype=float32)\n",
      "step 1000: mean loss = tf.Tensor(1.5298747, shape=(), dtype=float32)\n",
      "step 2000: mean loss = tf.Tensor(1.5200337, shape=(), dtype=float32)\n",
      "step 3000: mean loss = tf.Tensor(1.5101675, shape=(), dtype=float32)\n",
      "step 4000: mean loss = tf.Tensor(1.5007118, shape=(), dtype=float32)\n",
      "step 5000: mean loss = tf.Tensor(1.4914145, shape=(), dtype=float32)\n",
      "step 6000: mean loss = tf.Tensor(1.4823855, shape=(), dtype=float32)\n",
      "step 7000: mean loss = tf.Tensor(1.473357, shape=(), dtype=float32)\n",
      "step 8000: mean loss = tf.Tensor(1.4645429, shape=(), dtype=float32)\n",
      "step 9000: mean loss = tf.Tensor(1.4562163, shape=(), dtype=float32)\n",
      "step 10000: mean loss = tf.Tensor(1.4477245, shape=(), dtype=float32)\n",
      "step 11000: mean loss = tf.Tensor(1.4396284, shape=(), dtype=float32)\n",
      "step 12000: mean loss = tf.Tensor(1.4316487, shape=(), dtype=float32)\n",
      "step 13000: mean loss = tf.Tensor(1.4239194, shape=(), dtype=float32)\n",
      "Start of epoch 7\n",
      "step 0: mean loss = tf.Tensor(1.4206108, shape=(), dtype=float32)\n",
      "step 1000: mean loss = tf.Tensor(1.411378, shape=(), dtype=float32)\n",
      "step 2000: mean loss = tf.Tensor(1.4024057, shape=(), dtype=float32)\n",
      "step 3000: mean loss = tf.Tensor(1.3936871, shape=(), dtype=float32)\n",
      "step 4000: mean loss = tf.Tensor(1.3849757, shape=(), dtype=float32)\n",
      "step 5000: mean loss = tf.Tensor(1.3766018, shape=(), dtype=float32)\n",
      "step 6000: mean loss = tf.Tensor(1.3681446, shape=(), dtype=float32)\n",
      "step 7000: mean loss = tf.Tensor(1.3598096, shape=(), dtype=float32)\n",
      "step 8000: mean loss = tf.Tensor(1.3518999, shape=(), dtype=float32)\n",
      "step 9000: mean loss = tf.Tensor(1.344047, shape=(), dtype=float32)\n",
      "step 10000: mean loss = tf.Tensor(1.3365201, shape=(), dtype=float32)\n",
      "step 11000: mean loss = tf.Tensor(1.3288864, shape=(), dtype=float32)\n",
      "step 12000: mean loss = tf.Tensor(1.3214449, shape=(), dtype=float32)\n",
      "step 13000: mean loss = tf.Tensor(1.313933, shape=(), dtype=float32)\n",
      "Start of epoch 8\n",
      "step 0: mean loss = tf.Tensor(1.3107679, shape=(), dtype=float32)\n",
      "step 1000: mean loss = tf.Tensor(1.3025147, shape=(), dtype=float32)\n",
      "step 2000: mean loss = tf.Tensor(1.2942592, shape=(), dtype=float32)\n",
      "step 3000: mean loss = tf.Tensor(1.286176, shape=(), dtype=float32)\n",
      "step 4000: mean loss = tf.Tensor(1.278214, shape=(), dtype=float32)\n"
     ]
    },
    {
     "name": "stdout",
     "output_type": "stream",
     "text": [
      "step 5000: mean loss = tf.Tensor(1.2705097, shape=(), dtype=float32)\n",
      "step 6000: mean loss = tf.Tensor(1.262863, shape=(), dtype=float32)\n",
      "step 7000: mean loss = tf.Tensor(1.2554919, shape=(), dtype=float32)\n",
      "step 8000: mean loss = tf.Tensor(1.2480867, shape=(), dtype=float32)\n",
      "step 9000: mean loss = tf.Tensor(1.2408187, shape=(), dtype=float32)\n",
      "step 10000: mean loss = tf.Tensor(1.2335492, shape=(), dtype=float32)\n",
      "step 11000: mean loss = tf.Tensor(1.2264694, shape=(), dtype=float32)\n",
      "step 12000: mean loss = tf.Tensor(1.2194715, shape=(), dtype=float32)\n",
      "step 13000: mean loss = tf.Tensor(1.2126104, shape=(), dtype=float32)\n",
      "Start of epoch 9\n",
      "step 0: mean loss = tf.Tensor(1.2097213, shape=(), dtype=float32)\n",
      "step 1000: mean loss = tf.Tensor(1.2021115, shape=(), dtype=float32)\n",
      "step 2000: mean loss = tf.Tensor(1.1946226, shape=(), dtype=float32)\n",
      "step 3000: mean loss = tf.Tensor(1.1873823, shape=(), dtype=float32)\n",
      "step 4000: mean loss = tf.Tensor(1.1801815, shape=(), dtype=float32)\n",
      "step 5000: mean loss = tf.Tensor(1.1730253, shape=(), dtype=float32)\n",
      "step 6000: mean loss = tf.Tensor(1.1660942, shape=(), dtype=float32)\n",
      "step 7000: mean loss = tf.Tensor(1.1592195, shape=(), dtype=float32)\n",
      "step 8000: mean loss = tf.Tensor(1.1522952, shape=(), dtype=float32)\n",
      "step 9000: mean loss = tf.Tensor(1.1455923, shape=(), dtype=float32)\n",
      "step 10000: mean loss = tf.Tensor(1.1390098, shape=(), dtype=float32)\n",
      "step 11000: mean loss = tf.Tensor(1.1325647, shape=(), dtype=float32)\n",
      "step 12000: mean loss = tf.Tensor(1.1261336, shape=(), dtype=float32)\n",
      "step 13000: mean loss = tf.Tensor(1.1197428, shape=(), dtype=float32)\n"
     ]
    }
   ],
   "source": [
    "import time\n",
    "\n",
    "epochs = 10\n",
    "for epoch in range(epochs):\n",
    "    print('Start of epoch %d' % (epoch,))\n",
    "\n",
    "    # Iterate over the batches of the dataset.\n",
    "    total_loss = 0\n",
    "    for step, (bert_input, target) in enumerate(dataset):\n",
    "        mask, target = tf.unstack(target, axis=1)\n",
    "        with tf.GradientTape() as tape:\n",
    "            output = model(bert_input, mask)\n",
    "            \n",
    "            # Compute reconstruction loss\n",
    "            loss_val = loss(target, output)\n",
    "            loss_val += sum(model.losses)  # Add KLD regularization loss\n",
    "        \n",
    "\n",
    "        grads = tape.gradient(loss_val, model.trainable_weights)\n",
    "        opt.apply_gradients(zip(grads, model.trainable_weights))\n",
    "\n",
    "        loss_metric(loss_val)\n",
    "\n",
    "        if step % 1000 == 0:\n",
    "          print('step %s: mean loss = %s' % (step, loss_metric.result()))\n",
    "        \n",
    "    model.save_weights(\"./text_generator_{}\".format(epoch))"
   ]
  },
  {
   "cell_type": "markdown",
   "metadata": {},
   "source": [
    "## 4. Complete a Sentence"
   ]
  },
  {
   "cell_type": "code",
   "execution_count": 8,
   "metadata": {},
   "outputs": [],
   "source": [
    "def complete_next_word(model, prompt, candidate_num=10, sentence_length=50):\n",
    "    # Gives candidate for the next word\n",
    "    ids, masks, seg_ids = convert_sentence_to_features(prompt, tokenizer, max_seq_len=sentence_length)\n",
    "    \n",
    "    # Change ids and masks after prompt finishes\n",
    "    # The number of 1 in masks is the number of words in prompt plus CLS and SEP\n",
    "    index = sum(masks) - 1\n",
    "    \n",
    "    while index < len(ids):\n",
    "        ids[index] = MASK_ID\n",
    "        masks[index] = 0\n",
    "        index += 1\n",
    "        \n",
    "    print(ids)\n",
    "    print(masks)\n",
    "    print(seg_ids)\n",
    "    bert_input = tf.stack([ids, masks, seg_ids])\n",
    "    bert_input = tf.reshape(bert_input, (1, bert_input.shape[0], bert_input.shape[1]))\n",
    "    \n",
    "    output = model(bert_input, [sum(masks)])\n",
    "    return tf.argsort(output, direction='DESCENDING')[0, :candidate_num]"
   ]
  },
  {
   "cell_type": "code",
   "execution_count": 9,
   "metadata": {},
   "outputs": [],
   "source": [
    "def complete_sentence(model, prompt, sentence_length=50):\n",
    "    # Growth factor means how many candidates to choose at each word prediction\n",
    "    # Be careful with setting growth_rate, or the space grows exponentially\n",
    "    while len(prompt) < sentence_length:\n",
    "        result = complete_next_word(model, prompt, candidate_num=1, sentence_length=sentence_length)\n",
    "        \n",
    "        next_id = result.numpy()[0]\n",
    "        \n",
    "        prompt += \" \" + tokenizer.convert_ids_to_tokensds_to_tokensds_to_tokensds_to_tokens([next_id])\n",
    "        \n",
    "    return prompt"
   ]
  },
  {
   "cell_type": "code",
   "execution_count": 11,
   "metadata": {},
   "outputs": [
    {
     "data": {
      "text/plain": [
       "<tensorflow.python.training.tracking.util.CheckpointLoadStatus at 0x7f9ed344f400>"
      ]
     },
     "execution_count": 11,
     "metadata": {},
     "output_type": "execute_result"
    }
   ],
   "source": [
    "model.load_weights(\"text_generator_9\")"
   ]
  },
  {
   "cell_type": "code",
   "execution_count": 14,
   "metadata": {},
   "outputs": [
    {
     "name": "stdout",
     "output_type": "stream",
     "text": [
      "[101, 1103, 1160, 103, 103, 103, 103, 103, 103, 103, 103, 103, 103, 103, 103, 103, 103, 103, 103, 103, 103, 103, 103, 103, 103, 103, 103, 103, 103, 103, 103, 103, 103, 103, 103, 103, 103, 103, 103, 103, 103, 103, 103, 103, 103, 103, 103, 103, 103, 103]\n",
      "[1, 1, 1, 0, 0, 0, 0, 0, 0, 0, 0, 0, 0, 0, 0, 0, 0, 0, 0, 0, 0, 0, 0, 0, 0, 0, 0, 0, 0, 0, 0, 0, 0, 0, 0, 0, 0, 0, 0, 0, 0, 0, 0, 0, 0, 0, 0, 0, 0, 0]\n",
      "[0, 0, 0, 0, 0, 0, 0, 0, 0, 0, 0, 0, 0, 0, 0, 0, 0, 0, 0, 0, 0, 0, 0, 0, 0, 0, 0, 0, 0, 0, 0, 0, 0, 0, 0, 0, 0, 0, 0, 0, 0, 0, 0, 0, 0, 0, 0, 0, 0, 0]\n"
     ]
    },
    {
     "data": {
      "text/plain": [
       "<tf.Tensor: shape=(10,), dtype=int32, numpy=\n",
       "array([1126,  170, 2021, 1469, 1207, 2704, 2029, 1330, 1168,  119],\n",
       "      dtype=int32)>"
      ]
     },
     "execution_count": 14,
     "metadata": {},
     "output_type": "execute_result"
    }
   ],
   "source": [
    "complete_next_word(model, \"the two\")"
   ]
  },
  {
   "cell_type": "code",
   "execution_count": 15,
   "metadata": {},
   "outputs": [
    {
     "data": {
      "text/plain": [
       "['an',\n",
       " 'a',\n",
       " 'police',\n",
       " 'local',\n",
       " 'new',\n",
       " 'hospital',\n",
       " 'private',\n",
       " 'another',\n",
       " 'other',\n",
       " '.']"
      ]
     },
     "execution_count": 15,
     "metadata": {},
     "output_type": "execute_result"
    }
   ],
   "source": [
    "tokenizer.convert_ids_to_tokens([1126,  170, 2021, 1469, 1207, 2704, 2029, 1330, 1168,  119])"
   ]
  },
  {
   "cell_type": "code",
   "execution_count": null,
   "metadata": {},
   "outputs": [],
   "source": []
  }
 ],
 "metadata": {
  "kernelspec": {
   "display_name": "Python 3",
   "language": "python",
   "name": "python3"
  },
  "language_info": {
   "codemirror_mode": {
    "name": "ipython",
    "version": 3
   },
   "file_extension": ".py",
   "mimetype": "text/x-python",
   "name": "python",
   "nbconvert_exporter": "python",
   "pygments_lexer": "ipython3",
   "version": "3.7.3"
  }
 },
 "nbformat": 4,
 "nbformat_minor": 2
}
