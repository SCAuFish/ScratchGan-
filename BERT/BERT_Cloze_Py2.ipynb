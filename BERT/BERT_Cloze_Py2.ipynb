{
 "cells": [
  {
   "cell_type": "markdown",
   "metadata": {},
   "source": [
    "# BERT for Cloze problem in python 2\n",
    "Since the source codes provided for ScratchGan are in python 2 and are used with Tensorflow 1.x, let's try follow that style"
   ]
  },
  {
   "cell_type": "markdown",
   "metadata": {},
   "source": [
    "## 1. Loading and Initializing"
   ]
  },
  {
   "cell_type": "markdown",
   "metadata": {},
   "source": [
    "### 1.1 Sentence processing functions"
   ]
  },
  {
   "cell_type": "code",
   "execution_count": 1,
   "metadata": {},
   "outputs": [
    {
     "name": "stdout",
     "output_type": "stream",
     "text": [
      "Using Tensorflow version: 1.14.0\n",
      "name: \"/device:GPU:0\"\n",
      "device_type: \"GPU\"\n",
      "memory_limit: 7000237671\n",
      "locality {\n",
      "  bus_id: 1\n",
      "  links {\n",
      "  }\n",
      "}\n",
      "incarnation: 16699457820194228622\n",
      "physical_device_desc: \"device: 0, name: GeForce RTX 2070, pci bus id: 0000:01:00.0, compute capability: 7.5\"\n",
      "\n"
     ]
    }
   ],
   "source": [
    "import tensorflow as tf\n",
    "import tensorflow_hub as hub\n",
    "print(\"Using Tensorflow version: \" + tf.__version__)\n",
    "\n",
    "from tensorflow.python.client import device_lib\n",
    "print(device_lib.list_local_devices()[-1])\n",
    "\n",
    "BERT_DIR = \"/home/aufish/Downloads/bert\"\n",
    "# tf.enable_eager_execution()"
   ]
  },
  {
   "cell_type": "code",
   "execution_count": 2,
   "metadata": {},
   "outputs": [
    {
     "name": "stdout",
     "output_type": "stream",
     "text": [
      "WARNING:tensorflow:From /home/aufish/.local/lib/python2.7/site-packages/tensorflow/python/ops/init_ops.py:1251: calling __init__ (from tensorflow.python.ops.init_ops) with dtype is deprecated and will be removed in a future version.\n",
      "Instructions for updating:\n",
      "Call initializer instance with the dtype argument instead of passing it to the constructor\n"
     ]
    }
   ],
   "source": [
    "bert_module = hub.KerasLayer(BERT_DIR, trainable=True)"
   ]
  },
  {
   "cell_type": "code",
   "execution_count": 3,
   "metadata": {},
   "outputs": [],
   "source": [
    "# tokenizer\n",
    "from bert import tokenization\n",
    "\n",
    "def create_tokenizer(vocab_file, do_lower_case=False):\n",
    "    return tokenization.FullTokenizer(vocab_file=vocab_file, do_lower_case=do_lower_case)\n",
    "\n",
    "tokenizer = create_tokenizer(BERT_DIR + \"/assets/vocab.txt\")\n",
    "\n",
    "def convert_sentence_to_features(sentence, tokenizer, max_seq_len=50):\n",
    "    tokens = ['[CLS]']\n",
    "    tokens.extend(tokenizer.tokenize(sentence))\n",
    "    if len(tokens) > max_seq_len-1:\n",
    "        tokens = tokens[:max_seq_len-1]\n",
    "    tokens.append('[SEP]')\n",
    "    \n",
    "    segment_ids = [0] * len(tokens)\n",
    "    input_ids = tokenizer.convert_tokens_to_ids(tokens)\n",
    "    input_mask = [1] * len(input_ids)\n",
    "\n",
    "    #Zero Mask till seq_length\n",
    "    zero_mask = [0] * (max_seq_len-len(tokens))\n",
    "    input_ids.extend(zero_mask)\n",
    "    input_mask.extend(zero_mask)\n",
    "    segment_ids.extend(zero_mask)\n",
    "    \n",
    "    return input_ids, input_mask, segment_ids\n",
    "\n",
    "def convert_sentences_to_features(sentences, tokenizer, max_seq_len=50):\n",
    "    all_input_ids = []\n",
    "    all_input_mask = []\n",
    "    all_segment_ids = []\n",
    "    \n",
    "    for sentence in sentences:\n",
    "        input_ids, input_mask, segment_ids = convert_sentence_to_features(sentence, tokenizer, max_seq_len)\n",
    "        all_input_ids.append(input_ids)\n",
    "        all_input_mask.append(input_mask)\n",
    "        all_segment_ids.append(segment_ids)\n",
    "    \n",
    "    return all_input_ids, all_input_mask, all_segment_ids\n",
    "\n",
    "import random, copy\n",
    "import numpy as np\n",
    "def make_rand_mask(input_ids, input_mask, vocab_size, segment_id_vals=None):\n",
    "    ''' \n",
    "    Only make mask for one sentence\n",
    "    input_ids: the ids of words in the sentences\n",
    "    input_mask: initial mask (1 if there is a word; 0 for padding)\n",
    "    returns\n",
    "    input_mask: replace one bit of 1 with 0, meaning that the word will be masked\n",
    "    mask_word_ids: the id of words that are masked\n",
    "    pure_ids: ids in number instead of one-hot (to generate weights per masked word)\n",
    "    segment_id_vals: mark the masked word with segment id 1\n",
    "    sequential_output_filter: the masked word index\n",
    "    '''\n",
    "    \n",
    "    new_input_mask = copy.deepcopy(input_mask)\n",
    "#     mask_word_ids = np.zeros(vocab_size)\n",
    "    pure_ids = []\n",
    "\n",
    "    total_word = sum(input_mask)\n",
    "    mask_word = random.randint(0, total_word-1)\n",
    "\n",
    "    pure_ids.append(input_ids[mask_word])\n",
    "    assert new_input_mask[mask_word] == 1\n",
    "    new_input_mask[mask_word] = 0\n",
    "#     mask_word_ids[input_ids[mask_word]] = 1.0\n",
    "                \n",
    "    return new_input_mask, segment_id_vals, mask_word"
   ]
  },
  {
   "cell_type": "markdown",
   "metadata": {},
   "source": [
    "### 1.2 Blank filler model"
   ]
  },
  {
   "cell_type": "code",
   "execution_count": 4,
   "metadata": {},
   "outputs": [],
   "source": [
    "class WordPredictor(tf.keras.Model):\n",
    "    # The output means, how possible the given word may fit into the blank\n",
    "    def __init__(self, class_num, bert=bert_module, dropout=0.1):\n",
    "        super(WordPredictor, self).__init__()\n",
    "        self.bert = bert\n",
    "        self.drop = tf.keras.layers.Dropout(rate=dropout, trainable=True)\n",
    "        \n",
    "        self.dense = tf.keras.layers.Dense(\n",
    "            class_num,\n",
    "            activation=None,\n",
    "            kernel_initializer='glorot_uniform',\n",
    "            name='word_prediction',\n",
    "            trainable=True)\n",
    "        \n",
    "    def call(self, inputs, mask_loc):\n",
    "        # When passed in, all tensors are stacked in one, split it into a list\n",
    "        inputs = tf.unstack(tf.cast(inputs, tf.dtypes.int32), axis=1)\n",
    "\n",
    "        pooled, sequential = self.bert(inputs)\n",
    "        \n",
    "        # select one from each batch\n",
    "        s = tf.gather_nd(sequential, [(i, mask_loc[i]) for i in range(sequential.shape[0])])\n",
    "        # s now has shape (batch_size * 768)\n",
    "        \n",
    "        x = self.drop(s)\n",
    "        return self.dense(x)"
   ]
  },
  {
   "cell_type": "markdown",
   "metadata": {},
   "source": [
    "### 1.2.1 Sanity test"
   ]
  },
  {
   "cell_type": "code",
   "execution_count": null,
   "metadata": {},
   "outputs": [],
   "source": [
    "model = WordPredictor(1)\n",
    "\n",
    "opt = tf.keras.optimizers.Adam(learning_rate=1e-4)\n",
    "model.compile(opt)"
   ]
  },
  {
   "cell_type": "code",
   "execution_count": null,
   "metadata": {},
   "outputs": [],
   "source": [
    "model.load_weights(\"./word_predictor_9\")"
   ]
  },
  {
   "cell_type": "markdown",
   "metadata": {},
   "source": [
    "## 2. Prepare data"
   ]
  },
  {
   "cell_type": "code",
   "execution_count": null,
   "metadata": {},
   "outputs": [],
   "source": [
    "import numpy as np\n",
    "# extracted from emnlp\n",
    "DATA_FILE = \"./sentences.txt\"\n",
    "\n",
    "MASK_ID = tokenizer.convert_tokens_to_ids(['[MASK]'])[0]\n",
    "\n",
    "def parse_line(line):    \n",
    "    input_ids, input_mask, segment_ids = convert_sentence_to_features(line, tokenizer, max_seq_len=30)\n",
    "        \n",
    "    input_mask, segment_ids, mask_position = \\\n",
    "        make_rand_mask(input_ids, input_mask, len(tokenizer.vocab), segment_ids)\n",
    "    \n",
    "    label = input_ids[mask_position]\n",
    "    input_ids[mask_position] = MASK_ID\n",
    "    \n",
    "    return [input_ids, input_mask, segment_ids], [mask_position, label]\n",
    "\n",
    "def create_dataset(filename = DATA_FILE, data_size = 268528, batch_size = 10):\n",
    "    dataset = tf.data.TextLineDataset([filename])\n",
    "    \n",
    "    dataset = dataset.map(lambda x : tf.numpy_function(parse_line, [x], [tf.int64, tf.int64]))\n",
    "    \n",
    "    # dataset = dataset.shuffle(data_size, reshuffle_each_iteration=True)\n",
    "    \n",
    "    dataset = dataset.batch(batch_size)\n",
    "    \n",
    "    return dataset"
   ]
  },
  {
   "cell_type": "code",
   "execution_count": null,
   "metadata": {},
   "outputs": [],
   "source": [
    "tokenizer.convert_tokens_to_ids(['[MASK]'])"
   ]
  },
  {
   "cell_type": "markdown",
   "metadata": {},
   "source": [
    "### 2.1 Model calling sanity test"
   ]
  },
  {
   "cell_type": "code",
   "execution_count": null,
   "metadata": {},
   "outputs": [],
   "source": [
    "temp_batch_size = 3\n",
    "dataset = create_dataset(batch_size = temp_batch_size)"
   ]
  },
  {
   "cell_type": "code",
   "execution_count": null,
   "metadata": {},
   "outputs": [],
   "source": [
    "# Processing data without model\n",
    "for (bert_input, label) in dataset.take(1):\n",
    "    bert_input = tf.reshape(bert_input, [temp_batch_size, 3, 30])\n",
    "    print(type(bert_input))\n",
    "    print(bert_input)\n",
    "    print(label)\n",
    "    inputs = tf.unstack(tf.cast(bert_input, tf.dtypes.int32), axis=1)\n",
    "    \n",
    "#     pooled, sequential = bert_module(inputs)\n",
    "    \n",
    "#     print(sequential.shape)\n",
    "    \n",
    "# #     seq_output_filter = tf.cast(seq_output_filter, tf.dtypes.float32)\n",
    "# #     r = tf.tensordot(seq_output_filter,  sequential, axes=(1, 1))\n",
    "    \n",
    "#     mask, label = tf.unstack(label, axis=1)\n",
    "#     r = tf.gather_nd(sequential, [(i, mask[i]) for i in range(temp_batch_size)])\n",
    "    \n",
    "#     print(r)\n",
    "#     print(label)"
   ]
  },
  {
   "cell_type": "markdown",
   "metadata": {},
   "source": [
    "## 4. Predict and usage"
   ]
  },
  {
   "cell_type": "code",
   "execution_count": 5,
   "metadata": {},
   "outputs": [],
   "source": [
    "from tensorflow.python.keras.backend import set_session\n",
    "graph = tf.get_default_graph()\n",
    "sess = tf.Session()\n",
    "set_session(sess)"
   ]
  },
  {
   "cell_type": "code",
   "execution_count": 6,
   "metadata": {},
   "outputs": [],
   "source": [
    "MASK_ID = tokenizer.convert_tokens_to_ids(['[MASK]'])[0]\n",
    "def blank_word_predict(model, sentence, blank_loc, candidate_num=10):\n",
    "    # Given a sentence and at which location (0-indexed) it is blank\n",
    "    # return the predicted word\n",
    "    ids, masks, seg_ids = convert_sentence_to_features(sentence, tokenizer)\n",
    "    \n",
    "    # adjust input_mask, reset the randomly selected mask and set with blank_loc\n",
    "    masks[blank_loc] = 0\n",
    "    \n",
    "    ids[blank_loc] = MASK_ID\n",
    "    \n",
    "    bert_input = tf.stack([ids, masks, seg_ids])\n",
    "    bert_input = tf.reshape(bert_input, (1, bert_input.shape[0], bert_input.shape[1]))\n",
    "        \n",
    "    \n",
    "    output = model(bert_input, [blank_loc])\n",
    "    with graph.as_default():\n",
    "        set_session(sess)\n",
    "        output = output.eval(session=sess)\n",
    "#         print(output.eval(session=sess))\n",
    "    \n",
    "#     sess.run(output)\n",
    "        \n",
    "    print(type(output))\n",
    "    return tf.argsort(output, direction='DESCENDING')[0, :candidate_num]"
   ]
  },
  {
   "cell_type": "code",
   "execution_count": 7,
   "metadata": {},
   "outputs": [
    {
     "data": {
      "text/plain": [
       "<tensorflow.python.training.tracking.util.CheckpointLoadStatus at 0x7f7350308b10>"
      ]
     },
     "execution_count": 7,
     "metadata": {},
     "output_type": "execute_result"
    }
   ],
   "source": [
    "model = WordPredictor(len(tokenizer.vocab))\n",
    "model.load_weights(\"./word_predictor_9\")"
   ]
  },
  {
   "cell_type": "code",
   "execution_count": 8,
   "metadata": {},
   "outputs": [
    {
     "name": "stdout",
     "output_type": "stream",
     "text": [
      "<type 'numpy.ndarray'>\n",
      "False\n"
     ]
    }
   ],
   "source": [
    "sentence = \"the blank has caused panic around the world\"\n",
    "\n",
    "result = blank_word_predict(model, sentence, 2, 5)\n",
    "\n",
    "print(sess._closed)"
   ]
  },
  {
   "cell_type": "code",
   "execution_count": 9,
   "metadata": {},
   "outputs": [
    {
     "name": "stdout",
     "output_type": "stream",
     "text": [
      "<class 'tensorflow.python.framework.ops.Tensor'>\n",
      "Tensor(\"strided_slice:0\", shape=(5,), dtype=int32)\n"
     ]
    }
   ],
   "source": [
    "print(type(result))\n",
    "print(result)"
   ]
  },
  {
   "cell_type": "code",
   "execution_count": null,
   "metadata": {},
   "outputs": [],
   "source": [
    "with tf.Session() as sess2:\n",
    "    result = result.eval()\n",
    "    print(result)\n",
    "\n",
    "for i in range(result.shape[0]):\n",
    "    print(tokenizer.convert_ids_to_tokens([result[i]]))"
   ]
  },
  {
   "cell_type": "code",
   "execution_count": null,
   "metadata": {},
   "outputs": [],
   "source": [
    "print(sess._closed)"
   ]
  },
  {
   "cell_type": "markdown",
   "metadata": {},
   "source": [
    "## 5. Give probability for a proposed word"
   ]
  },
  {
   "cell_type": "code",
   "execution_count": 71,
   "metadata": {},
   "outputs": [],
   "source": [
    "def score_prediction(model, sentence, blank_loc, word):\n",
    "    # Given a sentence and at which location (1-indexed) it is blank\n",
    "    # return the predicted word\n",
    "    ids, masks, seg_ids = convert_sentence_to_features(sentence, tokenizer)\n",
    "    \n",
    "    # adjust input_mask, reset the randomly selected mask and set with blank_loc\n",
    "    masks[blank_loc] = 0\n",
    "    \n",
    "    ids[blank_loc] = MASK_ID\n",
    "    \n",
    "    bert_input = tf.stack([ids, masks, seg_ids])\n",
    "    bert_input = tf.reshape(bert_input, (1, bert_input.shape[0], bert_input.shape[1]))\n",
    "        \n",
    "    \n",
    "    output = model(bert_input, [blank_loc])\n",
    "#     with graph.as_default():\n",
    "#         set_session(sess)\n",
    "#         output = output.eval(session=sess)\n",
    "\n",
    "    word_id = tokenizer.convert_tokens_to_ids([word])[0]\n",
    "    print(word)\n",
    "    print(output)\n",
    "    print(word_id)\n",
    "#     return (output, word_id)\n",
    "#     return tf.map_fn()\n",
    "    return tf.gather_nd(output, [0, word_id])\n",
    "#     return tf.gather_nd(output, word_id, 1)"
   ]
  },
  {
   "cell_type": "code",
   "execution_count": 53,
   "metadata": {},
   "outputs": [
    {
     "name": "stdout",
     "output_type": "stream",
     "text": [
      "Tensor(\"word_predictor_19/word_prediction/BiasAdd:0\", shape=(1, 28996), dtype=float32)\n",
      "1567\n",
      "Tensor(\"word_predictor_20/word_prediction/BiasAdd:0\", shape=(1, 28996), dtype=float32)\n",
      "1128\n"
     ]
    }
   ],
   "source": [
    "r = score_prediction(model, \"I love you\", 2, [\"love\"])\n",
    "t = score_prediction(model, \"I love you\", 3, [\"you\"])"
   ]
  },
  {
   "cell_type": "code",
   "execution_count": 54,
   "metadata": {},
   "outputs": [
    {
     "name": "stdout",
     "output_type": "stream",
     "text": [
      "<class 'tensorflow.python.framework.ops.Tensor'>\n",
      "<class 'tensorflow.python.framework.ops.Tensor'>\n"
     ]
    }
   ],
   "source": [
    "print(type(r))\n",
    "print(type(t))"
   ]
  },
  {
   "cell_type": "code",
   "execution_count": 58,
   "metadata": {},
   "outputs": [],
   "source": [
    "stack = tf.convert_to_tensor([r, t])\n"
   ]
  },
  {
   "cell_type": "code",
   "execution_count": 59,
   "metadata": {},
   "outputs": [
    {
     "data": {
      "text/plain": [
       "array([6.5420938, 4.02022  ], dtype=float32)"
      ]
     },
     "execution_count": 59,
     "metadata": {},
     "output_type": "execute_result"
    }
   ],
   "source": [
    "stack.eval(session=sess)"
   ]
  },
  {
   "cell_type": "code",
   "execution_count": 24,
   "metadata": {},
   "outputs": [],
   "source": [
    "ids = tf.argsort(output, direction='DESCENDING')"
   ]
  },
  {
   "cell_type": "code",
   "execution_count": 25,
   "metadata": {},
   "outputs": [
    {
     "data": {
      "text/plain": [
       "array([[ 1587,  1328,  2810, ..., 22932, 15090, 26224]], dtype=int32)"
      ]
     },
     "execution_count": 25,
     "metadata": {},
     "output_type": "execute_result"
    }
   ],
   "source": [
    "ids.eval(session=sess)"
   ]
  },
  {
   "cell_type": "code",
   "execution_count": 29,
   "metadata": {},
   "outputs": [
    {
     "data": {
      "text/plain": [
       "[u'tell']"
      ]
     },
     "execution_count": 29,
     "metadata": {},
     "output_type": "execute_result"
    }
   ],
   "source": [
    "tokenizer.convert_ids_to_tokens([1587])"
   ]
  },
  {
   "cell_type": "code",
   "execution_count": 72,
   "metadata": {},
   "outputs": [],
   "source": [
    "def score_sentence(model, sentence):\n",
    "    # Given a sentence in words, return a tensor with same length\n",
    "    # as a sentence. Each entry represent a score for the choice\n",
    "    # of that word\n",
    "    words  = sentence.split(\" \")\n",
    "    scores = []\n",
    "    \n",
    "    for i in range(len(words)):\n",
    "        result = score_prediction(model, sentence, i+1, words[i])\n",
    "        scores.append(result)\n",
    "    \n",
    "    return tf.convert_to_tensor(scores)"
   ]
  },
  {
   "cell_type": "code",
   "execution_count": 73,
   "metadata": {},
   "outputs": [
    {
     "name": "stdout",
     "output_type": "stream",
     "text": [
      "I\n",
      "Tensor(\"word_predictor_27/word_prediction/BiasAdd:0\", shape=(1, 28996), dtype=float32)\n",
      "146\n",
      "love\n",
      "Tensor(\"word_predictor_28/word_prediction/BiasAdd:0\", shape=(1, 28996), dtype=float32)\n",
      "1567\n",
      "you\n",
      "Tensor(\"word_predictor_29/word_prediction/BiasAdd:0\", shape=(1, 28996), dtype=float32)\n",
      "1128\n"
     ]
    }
   ],
   "source": [
    "scores = score_sentence(model, \"I love you\")"
   ]
  },
  {
   "cell_type": "code",
   "execution_count": 74,
   "metadata": {},
   "outputs": [
    {
     "data": {
      "text/plain": [
       "array([11.915156 ,  6.5420938,  4.02022  ], dtype=float32)"
      ]
     },
     "execution_count": 74,
     "metadata": {},
     "output_type": "execute_result"
    }
   ],
   "source": [
    "scores.eval(session=sess)"
   ]
  },
  {
   "cell_type": "code",
   "execution_count": 67,
   "metadata": {},
   "outputs": [
    {
     "data": {
      "text/plain": [
       "'love'"
      ]
     },
     "execution_count": 67,
     "metadata": {},
     "output_type": "execute_result"
    }
   ],
   "source": [
    "\"I love you\".split(\" \")[1]"
   ]
  },
  {
   "cell_type": "code",
   "execution_count": null,
   "metadata": {},
   "outputs": [],
   "source": []
  }
 ],
 "metadata": {
  "kernelspec": {
   "display_name": "Python 2",
   "language": "python",
   "name": "python2"
  },
  "language_info": {
   "codemirror_mode": {
    "name": "ipython",
    "version": 2
   },
   "file_extension": ".py",
   "mimetype": "text/x-python",
   "name": "python",
   "nbconvert_exporter": "python",
   "pygments_lexer": "ipython2",
   "version": "2.7.16"
  }
 },
 "nbformat": 4,
 "nbformat_minor": 2
}
