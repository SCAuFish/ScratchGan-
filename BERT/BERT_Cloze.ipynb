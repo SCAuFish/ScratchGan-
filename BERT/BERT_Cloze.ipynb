{
 "cells": [
  {
   "cell_type": "markdown",
   "metadata": {},
   "source": [
    "## 1. Loading and Initializing"
   ]
  },
  {
   "cell_type": "markdown",
   "metadata": {},
   "source": [
    "### 1.1 Sentence processing functions"
   ]
  },
  {
   "cell_type": "code",
   "execution_count": 2,
   "metadata": {},
   "outputs": [
    {
     "name": "stdout",
     "output_type": "stream",
     "text": [
      "Using Tensorflow version: 2.1.0\n",
      "[PhysicalDevice(name='/physical_device:GPU:0', device_type='GPU')]\n"
     ]
    }
   ],
   "source": [
    "import tensorflow as tf\n",
    "import tensorflow_hub as hub\n",
    "print(\"Using Tensorflow version: \" + tf.__version__)\n",
    "print(tf.config.list_physical_devices('GPU'))\n",
    "\n",
    "BERT_DIR = \"/home/aufish/Downloads/bert\"\n",
    "\n",
    "# try with TF2 SavedModel\n",
    "# The online downloading method does not work, use pre-downloaded module\n",
    "# bert_module = hub.Module(\"https://tfhub.dev/tensorflow/bert_en_cased_L-12_H-768_A-12/1\")"
   ]
  },
  {
   "cell_type": "code",
   "execution_count": 3,
   "metadata": {},
   "outputs": [
    {
     "ename": "InvalidArgumentError",
     "evalue": "assertion failed: [0] [Op:Assert] name: EagerVariableNameReuse",
     "output_type": "error",
     "traceback": [
      "\u001b[0;31m---------------------------------------------------------------------------\u001b[0m",
      "\u001b[0;31mInvalidArgumentError\u001b[0m                      Traceback (most recent call last)",
      "\u001b[0;32m<ipython-input-3-627c4869431e>\u001b[0m in \u001b[0;36m<module>\u001b[0;34m\u001b[0m\n\u001b[0;32m----> 1\u001b[0;31m \u001b[0mbert_module\u001b[0m \u001b[0;34m=\u001b[0m \u001b[0mhub\u001b[0m\u001b[0;34m.\u001b[0m\u001b[0mKerasLayer\u001b[0m\u001b[0;34m(\u001b[0m\u001b[0mBERT_DIR\u001b[0m\u001b[0;34m,\u001b[0m \u001b[0mtrainable\u001b[0m\u001b[0;34m=\u001b[0m\u001b[0;32mTrue\u001b[0m\u001b[0;34m)\u001b[0m\u001b[0;34m\u001b[0m\u001b[0;34m\u001b[0m\u001b[0m\n\u001b[0m",
      "\u001b[0;32m/usr/local/lib/python3.7/dist-packages/tensorflow_hub/keras_layer.py\u001b[0m in \u001b[0;36m__init__\u001b[0;34m(self, handle, trainable, arguments, **kwargs)\u001b[0m\n\u001b[1;32m    102\u001b[0m       \u001b[0mself\u001b[0m\u001b[0;34m.\u001b[0m\u001b[0m_func\u001b[0m \u001b[0;34m=\u001b[0m \u001b[0mhandle\u001b[0m\u001b[0;34m\u001b[0m\u001b[0;34m\u001b[0m\u001b[0m\n\u001b[1;32m    103\u001b[0m     \u001b[0;32melse\u001b[0m\u001b[0;34m:\u001b[0m\u001b[0;34m\u001b[0m\u001b[0;34m\u001b[0m\u001b[0m\n\u001b[0;32m--> 104\u001b[0;31m       \u001b[0mself\u001b[0m\u001b[0;34m.\u001b[0m\u001b[0m_func\u001b[0m \u001b[0;34m=\u001b[0m \u001b[0mmodule_v2\u001b[0m\u001b[0;34m.\u001b[0m\u001b[0mload\u001b[0m\u001b[0;34m(\u001b[0m\u001b[0mhandle\u001b[0m\u001b[0;34m)\u001b[0m\u001b[0;34m\u001b[0m\u001b[0;34m\u001b[0m\u001b[0m\n\u001b[0m\u001b[1;32m    105\u001b[0m       \u001b[0;32mif\u001b[0m \u001b[0;32mnot\u001b[0m \u001b[0mcallable\u001b[0m\u001b[0;34m(\u001b[0m\u001b[0mself\u001b[0m\u001b[0;34m.\u001b[0m\u001b[0m_func\u001b[0m\u001b[0;34m)\u001b[0m\u001b[0;34m:\u001b[0m\u001b[0;34m\u001b[0m\u001b[0;34m\u001b[0m\u001b[0m\n\u001b[1;32m    106\u001b[0m         raise ValueError(\"Non-callable result from hub.load('%s')\" %\n",
      "\u001b[0;32m/usr/local/lib/python3.7/dist-packages/tensorflow_hub/module_v2.py\u001b[0m in \u001b[0;36mload\u001b[0;34m(handle, tags)\u001b[0m\n\u001b[1;32m     75\u001b[0m   \u001b[0;32mif\u001b[0m \u001b[0mhasattr\u001b[0m\u001b[0;34m(\u001b[0m\u001b[0mtf_v1\u001b[0m\u001b[0;34m.\u001b[0m\u001b[0msaved_model\u001b[0m\u001b[0;34m,\u001b[0m \u001b[0;34m\"load_v2\"\u001b[0m\u001b[0;34m)\u001b[0m\u001b[0;34m:\u001b[0m\u001b[0;34m\u001b[0m\u001b[0;34m\u001b[0m\u001b[0m\n\u001b[1;32m     76\u001b[0m     \u001b[0mmodule_handle\u001b[0m \u001b[0;34m=\u001b[0m \u001b[0mresolve\u001b[0m\u001b[0;34m(\u001b[0m\u001b[0mhandle\u001b[0m\u001b[0;34m)\u001b[0m\u001b[0;34m\u001b[0m\u001b[0;34m\u001b[0m\u001b[0m\n\u001b[0;32m---> 77\u001b[0;31m     \u001b[0;32mreturn\u001b[0m \u001b[0mtf_v1\u001b[0m\u001b[0;34m.\u001b[0m\u001b[0msaved_model\u001b[0m\u001b[0;34m.\u001b[0m\u001b[0mload_v2\u001b[0m\u001b[0;34m(\u001b[0m\u001b[0mmodule_handle\u001b[0m\u001b[0;34m,\u001b[0m \u001b[0mtags\u001b[0m\u001b[0;34m=\u001b[0m\u001b[0mtags\u001b[0m\u001b[0;34m)\u001b[0m\u001b[0;34m\u001b[0m\u001b[0;34m\u001b[0m\u001b[0m\n\u001b[0m\u001b[1;32m     78\u001b[0m   \u001b[0;32melse\u001b[0m\u001b[0;34m:\u001b[0m\u001b[0;34m\u001b[0m\u001b[0;34m\u001b[0m\u001b[0m\n\u001b[1;32m     79\u001b[0m     raise NotImplementedError(\"hub.load() is not implemented for TF < 1.14.x, \"\n",
      "\u001b[0;32m/usr/local/lib/python3.7/dist-packages/tensorflow_core/python/saved_model/load.py\u001b[0m in \u001b[0;36mload\u001b[0;34m(export_dir, tags)\u001b[0m\n\u001b[1;32m    526\u001b[0m     \u001b[0mValueError\u001b[0m\u001b[0;34m:\u001b[0m \u001b[0mIf\u001b[0m\u001b[0;31m \u001b[0m\u001b[0;31m`\u001b[0m\u001b[0mtags\u001b[0m\u001b[0;31m`\u001b[0m \u001b[0mdon\u001b[0m\u001b[0;31m'\u001b[0m\u001b[0mt\u001b[0m \u001b[0mmatch\u001b[0m \u001b[0ma\u001b[0m \u001b[0mMetaGraph\u001b[0m \u001b[0;32min\u001b[0m \u001b[0mthe\u001b[0m \u001b[0mSavedModel\u001b[0m\u001b[0;34m.\u001b[0m\u001b[0;34m\u001b[0m\u001b[0;34m\u001b[0m\u001b[0m\n\u001b[1;32m    527\u001b[0m   \"\"\"\n\u001b[0;32m--> 528\u001b[0;31m   \u001b[0;32mreturn\u001b[0m \u001b[0mload_internal\u001b[0m\u001b[0;34m(\u001b[0m\u001b[0mexport_dir\u001b[0m\u001b[0;34m,\u001b[0m \u001b[0mtags\u001b[0m\u001b[0;34m)\u001b[0m\u001b[0;34m\u001b[0m\u001b[0;34m\u001b[0m\u001b[0m\n\u001b[0m\u001b[1;32m    529\u001b[0m \u001b[0;34m\u001b[0m\u001b[0m\n\u001b[1;32m    530\u001b[0m \u001b[0;34m\u001b[0m\u001b[0m\n",
      "\u001b[0;32m/usr/local/lib/python3.7/dist-packages/tensorflow_core/python/saved_model/load.py\u001b[0m in \u001b[0;36mload_internal\u001b[0;34m(export_dir, tags, loader_cls)\u001b[0m\n\u001b[1;32m    550\u001b[0m       loader = loader_cls(object_graph_proto,\n\u001b[1;32m    551\u001b[0m                           \u001b[0msaved_model_proto\u001b[0m\u001b[0;34m,\u001b[0m\u001b[0;34m\u001b[0m\u001b[0;34m\u001b[0m\u001b[0m\n\u001b[0;32m--> 552\u001b[0;31m                           export_dir)\n\u001b[0m\u001b[1;32m    553\u001b[0m       \u001b[0mroot\u001b[0m \u001b[0;34m=\u001b[0m \u001b[0mloader\u001b[0m\u001b[0;34m.\u001b[0m\u001b[0mget\u001b[0m\u001b[0;34m(\u001b[0m\u001b[0;36m0\u001b[0m\u001b[0;34m)\u001b[0m\u001b[0;34m\u001b[0m\u001b[0;34m\u001b[0m\u001b[0m\n\u001b[1;32m    554\u001b[0m     \u001b[0mroot\u001b[0m\u001b[0;34m.\u001b[0m\u001b[0mtensorflow_version\u001b[0m \u001b[0;34m=\u001b[0m \u001b[0mmeta_graph_def\u001b[0m\u001b[0;34m.\u001b[0m\u001b[0mmeta_info_def\u001b[0m\u001b[0;34m.\u001b[0m\u001b[0mtensorflow_version\u001b[0m\u001b[0;34m\u001b[0m\u001b[0;34m\u001b[0m\u001b[0m\n",
      "\u001b[0;32m/usr/local/lib/python3.7/dist-packages/tensorflow_core/python/saved_model/load.py\u001b[0m in \u001b[0;36m__init__\u001b[0;34m(self, object_graph_proto, saved_model_proto, export_dir)\u001b[0m\n\u001b[1;32m    119\u001b[0m       \u001b[0mself\u001b[0m\u001b[0;34m.\u001b[0m\u001b[0m_concrete_functions\u001b[0m\u001b[0;34m[\u001b[0m\u001b[0mname\u001b[0m\u001b[0;34m]\u001b[0m \u001b[0;34m=\u001b[0m \u001b[0m_WrapperFunction\u001b[0m\u001b[0;34m(\u001b[0m\u001b[0mconcrete_function\u001b[0m\u001b[0;34m)\u001b[0m\u001b[0;34m\u001b[0m\u001b[0;34m\u001b[0m\u001b[0m\n\u001b[1;32m    120\u001b[0m \u001b[0;34m\u001b[0m\u001b[0m\n\u001b[0;32m--> 121\u001b[0;31m     \u001b[0mself\u001b[0m\u001b[0;34m.\u001b[0m\u001b[0m_load_all\u001b[0m\u001b[0;34m(\u001b[0m\u001b[0;34m)\u001b[0m\u001b[0;34m\u001b[0m\u001b[0;34m\u001b[0m\u001b[0m\n\u001b[0m\u001b[1;32m    122\u001b[0m     \u001b[0;31m# TODO(b/124045874): There are limitations with functions whose captures\u001b[0m\u001b[0;34m\u001b[0m\u001b[0;34m\u001b[0m\u001b[0;34m\u001b[0m\u001b[0m\n\u001b[1;32m    123\u001b[0m     \u001b[0;31m# trigger other functions to be executed. For now it is only guaranteed to\u001b[0m\u001b[0;34m\u001b[0m\u001b[0;34m\u001b[0m\u001b[0;34m\u001b[0m\u001b[0m\n",
      "\u001b[0;32m/usr/local/lib/python3.7/dist-packages/tensorflow_core/python/saved_model/load.py\u001b[0m in \u001b[0;36m_load_all\u001b[0;34m(self)\u001b[0m\n\u001b[1;32m    237\u001b[0m         \u001b[0;31m# interface.\u001b[0m\u001b[0;34m\u001b[0m\u001b[0;34m\u001b[0m\u001b[0;34m\u001b[0m\u001b[0m\n\u001b[1;32m    238\u001b[0m         \u001b[0;32mcontinue\u001b[0m\u001b[0;34m\u001b[0m\u001b[0;34m\u001b[0m\u001b[0m\n\u001b[0;32m--> 239\u001b[0;31m       \u001b[0mnode\u001b[0m\u001b[0;34m,\u001b[0m \u001b[0msetter\u001b[0m \u001b[0;34m=\u001b[0m \u001b[0mself\u001b[0m\u001b[0;34m.\u001b[0m\u001b[0m_recreate\u001b[0m\u001b[0;34m(\u001b[0m\u001b[0mproto\u001b[0m\u001b[0;34m)\u001b[0m\u001b[0;34m\u001b[0m\u001b[0;34m\u001b[0m\u001b[0m\n\u001b[0m\u001b[1;32m    240\u001b[0m       \u001b[0mnodes\u001b[0m\u001b[0;34m[\u001b[0m\u001b[0mnode_id\u001b[0m\u001b[0;34m]\u001b[0m \u001b[0;34m=\u001b[0m \u001b[0mnode\u001b[0m\u001b[0;34m\u001b[0m\u001b[0;34m\u001b[0m\u001b[0m\n\u001b[1;32m    241\u001b[0m       \u001b[0mnode_setters\u001b[0m\u001b[0;34m[\u001b[0m\u001b[0mnode_id\u001b[0m\u001b[0;34m]\u001b[0m \u001b[0;34m=\u001b[0m \u001b[0msetter\u001b[0m\u001b[0;34m\u001b[0m\u001b[0;34m\u001b[0m\u001b[0m\n",
      "\u001b[0;32m/usr/local/lib/python3.7/dist-packages/tensorflow_core/python/saved_model/load.py\u001b[0m in \u001b[0;36m_recreate\u001b[0;34m(self, proto)\u001b[0m\n\u001b[1;32m    320\u001b[0m     \u001b[0;32mif\u001b[0m \u001b[0mkind\u001b[0m \u001b[0;32mnot\u001b[0m \u001b[0;32min\u001b[0m \u001b[0mfactory\u001b[0m\u001b[0;34m:\u001b[0m\u001b[0;34m\u001b[0m\u001b[0;34m\u001b[0m\u001b[0m\n\u001b[1;32m    321\u001b[0m       \u001b[0;32mraise\u001b[0m \u001b[0mValueError\u001b[0m\u001b[0;34m(\u001b[0m\u001b[0;34m\"Unknown SavedObject type: %r\"\u001b[0m \u001b[0;34m%\u001b[0m \u001b[0mkind\u001b[0m\u001b[0;34m)\u001b[0m\u001b[0;34m\u001b[0m\u001b[0;34m\u001b[0m\u001b[0m\n\u001b[0;32m--> 322\u001b[0;31m     \u001b[0;32mreturn\u001b[0m \u001b[0mfactory\u001b[0m\u001b[0;34m[\u001b[0m\u001b[0mkind\u001b[0m\u001b[0;34m]\u001b[0m\u001b[0;34m(\u001b[0m\u001b[0;34m)\u001b[0m\u001b[0;34m\u001b[0m\u001b[0;34m\u001b[0m\u001b[0m\n\u001b[0m\u001b[1;32m    323\u001b[0m \u001b[0;34m\u001b[0m\u001b[0m\n\u001b[1;32m    324\u001b[0m   \u001b[0;32mdef\u001b[0m \u001b[0m_recreate_user_object\u001b[0m\u001b[0;34m(\u001b[0m\u001b[0mself\u001b[0m\u001b[0;34m,\u001b[0m \u001b[0mproto\u001b[0m\u001b[0;34m)\u001b[0m\u001b[0;34m:\u001b[0m\u001b[0;34m\u001b[0m\u001b[0;34m\u001b[0m\u001b[0m\n",
      "\u001b[0;32m/usr/local/lib/python3.7/dist-packages/tensorflow_core/python/saved_model/load.py\u001b[0m in \u001b[0;36m<lambda>\u001b[0;34m()\u001b[0m\n\u001b[1;32m    313\u001b[0m             \u001b[0mself\u001b[0m\u001b[0;34m.\u001b[0m\u001b[0m_recreate_bare_concrete_function\u001b[0m\u001b[0;34m,\u001b[0m\u001b[0;34m\u001b[0m\u001b[0;34m\u001b[0m\u001b[0m\n\u001b[1;32m    314\u001b[0m             proto.bare_concrete_function),\n\u001b[0;32m--> 315\u001b[0;31m         \u001b[0;34m\"variable\"\u001b[0m\u001b[0;34m:\u001b[0m \u001b[0;32mlambda\u001b[0m\u001b[0;34m:\u001b[0m \u001b[0mself\u001b[0m\u001b[0;34m.\u001b[0m\u001b[0m_recreate_variable\u001b[0m\u001b[0;34m(\u001b[0m\u001b[0mproto\u001b[0m\u001b[0;34m.\u001b[0m\u001b[0mvariable\u001b[0m\u001b[0;34m)\u001b[0m\u001b[0;34m,\u001b[0m\u001b[0;34m\u001b[0m\u001b[0;34m\u001b[0m\u001b[0m\n\u001b[0m\u001b[1;32m    316\u001b[0m         \u001b[0;34m\"constant\"\u001b[0m\u001b[0;34m:\u001b[0m \u001b[0;32mlambda\u001b[0m\u001b[0;34m:\u001b[0m \u001b[0mself\u001b[0m\u001b[0;34m.\u001b[0m\u001b[0m_recreate_constant\u001b[0m\u001b[0;34m(\u001b[0m\u001b[0mproto\u001b[0m\u001b[0;34m.\u001b[0m\u001b[0mconstant\u001b[0m\u001b[0;34m)\u001b[0m\u001b[0;34m,\u001b[0m\u001b[0;34m\u001b[0m\u001b[0;34m\u001b[0m\u001b[0m\n\u001b[1;32m    317\u001b[0m         \u001b[0;34m\"resource\"\u001b[0m\u001b[0;34m:\u001b[0m \u001b[0;32mlambda\u001b[0m\u001b[0;34m:\u001b[0m \u001b[0mself\u001b[0m\u001b[0;34m.\u001b[0m\u001b[0m_recreate_resource\u001b[0m\u001b[0;34m(\u001b[0m\u001b[0mproto\u001b[0m\u001b[0;34m.\u001b[0m\u001b[0mresource\u001b[0m\u001b[0;34m)\u001b[0m\u001b[0;34m,\u001b[0m\u001b[0;34m\u001b[0m\u001b[0;34m\u001b[0m\u001b[0m\n",
      "\u001b[0;32m/usr/local/lib/python3.7/dist-packages/tensorflow_core/python/saved_model/load.py\u001b[0m in \u001b[0;36m_recreate_variable\u001b[0;34m(self, proto)\u001b[0m\n\u001b[1;32m    382\u001b[0m           \u001b[0mtrainable\u001b[0m\u001b[0;34m=\u001b[0m\u001b[0mtrainable\u001b[0m\u001b[0;34m,\u001b[0m\u001b[0;34m\u001b[0m\u001b[0;34m\u001b[0m\u001b[0m\n\u001b[1;32m    383\u001b[0m           \u001b[0msynchronization\u001b[0m\u001b[0;34m=\u001b[0m\u001b[0msynchronization\u001b[0m\u001b[0;34m,\u001b[0m\u001b[0;34m\u001b[0m\u001b[0;34m\u001b[0m\u001b[0m\n\u001b[0;32m--> 384\u001b[0;31m           aggregation=aggregation), setattr\n\u001b[0m\u001b[1;32m    385\u001b[0m \u001b[0;34m\u001b[0m\u001b[0m\n\u001b[1;32m    386\u001b[0m   \u001b[0;32mdef\u001b[0m \u001b[0m_recreate_constant\u001b[0m\u001b[0;34m(\u001b[0m\u001b[0mself\u001b[0m\u001b[0;34m,\u001b[0m \u001b[0mproto\u001b[0m\u001b[0;34m)\u001b[0m\u001b[0;34m:\u001b[0m\u001b[0;34m\u001b[0m\u001b[0;34m\u001b[0m\u001b[0m\n",
      "\u001b[0;32m/usr/local/lib/python3.7/dist-packages/tensorflow_core/python/ops/variables.py\u001b[0m in \u001b[0;36m__call__\u001b[0;34m(cls, *args, **kwargs)\u001b[0m\n\u001b[1;32m    258\u001b[0m       \u001b[0;32mreturn\u001b[0m \u001b[0mcls\u001b[0m\u001b[0;34m.\u001b[0m\u001b[0m_variable_v1_call\u001b[0m\u001b[0;34m(\u001b[0m\u001b[0;34m*\u001b[0m\u001b[0margs\u001b[0m\u001b[0;34m,\u001b[0m \u001b[0;34m**\u001b[0m\u001b[0mkwargs\u001b[0m\u001b[0;34m)\u001b[0m\u001b[0;34m\u001b[0m\u001b[0;34m\u001b[0m\u001b[0m\n\u001b[1;32m    259\u001b[0m     \u001b[0;32melif\u001b[0m \u001b[0mcls\u001b[0m \u001b[0;32mis\u001b[0m \u001b[0mVariable\u001b[0m\u001b[0;34m:\u001b[0m\u001b[0;34m\u001b[0m\u001b[0;34m\u001b[0m\u001b[0m\n\u001b[0;32m--> 260\u001b[0;31m       \u001b[0;32mreturn\u001b[0m \u001b[0mcls\u001b[0m\u001b[0;34m.\u001b[0m\u001b[0m_variable_v2_call\u001b[0m\u001b[0;34m(\u001b[0m\u001b[0;34m*\u001b[0m\u001b[0margs\u001b[0m\u001b[0;34m,\u001b[0m \u001b[0;34m**\u001b[0m\u001b[0mkwargs\u001b[0m\u001b[0;34m)\u001b[0m\u001b[0;34m\u001b[0m\u001b[0;34m\u001b[0m\u001b[0m\n\u001b[0m\u001b[1;32m    261\u001b[0m     \u001b[0;32melse\u001b[0m\u001b[0;34m:\u001b[0m\u001b[0;34m\u001b[0m\u001b[0;34m\u001b[0m\u001b[0m\n\u001b[1;32m    262\u001b[0m       \u001b[0;32mreturn\u001b[0m \u001b[0msuper\u001b[0m\u001b[0;34m(\u001b[0m\u001b[0mVariableMetaclass\u001b[0m\u001b[0;34m,\u001b[0m \u001b[0mcls\u001b[0m\u001b[0;34m)\u001b[0m\u001b[0;34m.\u001b[0m\u001b[0m__call__\u001b[0m\u001b[0;34m(\u001b[0m\u001b[0;34m*\u001b[0m\u001b[0margs\u001b[0m\u001b[0;34m,\u001b[0m \u001b[0;34m**\u001b[0m\u001b[0mkwargs\u001b[0m\u001b[0;34m)\u001b[0m\u001b[0;34m\u001b[0m\u001b[0;34m\u001b[0m\u001b[0m\n",
      "\u001b[0;32m/usr/local/lib/python3.7/dist-packages/tensorflow_core/python/ops/variables.py\u001b[0m in \u001b[0;36m_variable_v2_call\u001b[0;34m(cls, initial_value, trainable, validate_shape, caching_device, name, variable_def, dtype, import_scope, constraint, synchronization, aggregation, shape)\u001b[0m\n\u001b[1;32m    252\u001b[0m         \u001b[0msynchronization\u001b[0m\u001b[0;34m=\u001b[0m\u001b[0msynchronization\u001b[0m\u001b[0;34m,\u001b[0m\u001b[0;34m\u001b[0m\u001b[0;34m\u001b[0m\u001b[0m\n\u001b[1;32m    253\u001b[0m         \u001b[0maggregation\u001b[0m\u001b[0;34m=\u001b[0m\u001b[0maggregation\u001b[0m\u001b[0;34m,\u001b[0m\u001b[0;34m\u001b[0m\u001b[0;34m\u001b[0m\u001b[0m\n\u001b[0;32m--> 254\u001b[0;31m         shape=shape)\n\u001b[0m\u001b[1;32m    255\u001b[0m \u001b[0;34m\u001b[0m\u001b[0m\n\u001b[1;32m    256\u001b[0m   \u001b[0;32mdef\u001b[0m \u001b[0m__call__\u001b[0m\u001b[0;34m(\u001b[0m\u001b[0mcls\u001b[0m\u001b[0;34m,\u001b[0m \u001b[0;34m*\u001b[0m\u001b[0margs\u001b[0m\u001b[0;34m,\u001b[0m \u001b[0;34m**\u001b[0m\u001b[0mkwargs\u001b[0m\u001b[0;34m)\u001b[0m\u001b[0;34m:\u001b[0m\u001b[0;34m\u001b[0m\u001b[0;34m\u001b[0m\u001b[0m\n",
      "\u001b[0;32m/usr/local/lib/python3.7/dist-packages/tensorflow_core/python/ops/variables.py\u001b[0m in \u001b[0;36mgetter\u001b[0;34m(**kwargs)\u001b[0m\n\u001b[1;32m     63\u001b[0m \u001b[0;34m\u001b[0m\u001b[0m\n\u001b[1;32m     64\u001b[0m   \u001b[0;32mdef\u001b[0m \u001b[0mgetter\u001b[0m\u001b[0;34m(\u001b[0m\u001b[0;34m**\u001b[0m\u001b[0mkwargs\u001b[0m\u001b[0;34m)\u001b[0m\u001b[0;34m:\u001b[0m\u001b[0;34m\u001b[0m\u001b[0;34m\u001b[0m\u001b[0m\n\u001b[0;32m---> 65\u001b[0;31m     \u001b[0;32mreturn\u001b[0m \u001b[0mcaptured_getter\u001b[0m\u001b[0;34m(\u001b[0m\u001b[0mcaptured_previous\u001b[0m\u001b[0;34m,\u001b[0m \u001b[0;34m**\u001b[0m\u001b[0mkwargs\u001b[0m\u001b[0;34m)\u001b[0m\u001b[0;34m\u001b[0m\u001b[0;34m\u001b[0m\u001b[0m\n\u001b[0m\u001b[1;32m     66\u001b[0m \u001b[0;34m\u001b[0m\u001b[0m\n\u001b[1;32m     67\u001b[0m   \u001b[0;32mreturn\u001b[0m \u001b[0mgetter\u001b[0m\u001b[0;34m\u001b[0m\u001b[0;34m\u001b[0m\u001b[0m\n",
      "\u001b[0;32m/usr/local/lib/python3.7/dist-packages/tensorflow_core/python/saved_model/load.py\u001b[0m in \u001b[0;36muninitialized_variable_creator\u001b[0;34m(***failed resolving arguments***)\u001b[0m\n\u001b[1;32m    368\u001b[0m       \u001b[0;34m\"\"\"A variable creator that creates uninitialized variables.\"\"\"\u001b[0m\u001b[0;34m\u001b[0m\u001b[0;34m\u001b[0m\u001b[0m\n\u001b[1;32m    369\u001b[0m       \u001b[0;32mdel\u001b[0m \u001b[0mnext_creator\u001b[0m\u001b[0;34m\u001b[0m\u001b[0;34m\u001b[0m\u001b[0m\n\u001b[0;32m--> 370\u001b[0;31m       \u001b[0;32mreturn\u001b[0m \u001b[0mresource_variable_ops\u001b[0m\u001b[0;34m.\u001b[0m\u001b[0mUninitializedVariable\u001b[0m\u001b[0;34m(\u001b[0m\u001b[0;34m**\u001b[0m\u001b[0mkwargs\u001b[0m\u001b[0;34m)\u001b[0m\u001b[0;34m\u001b[0m\u001b[0;34m\u001b[0m\u001b[0m\n\u001b[0m\u001b[1;32m    371\u001b[0m \u001b[0;34m\u001b[0m\u001b[0m\n\u001b[1;32m    372\u001b[0m     \u001b[0;31m# Create a variable_creator_scope that creates uninitialized variables with\u001b[0m\u001b[0;34m\u001b[0m\u001b[0;34m\u001b[0m\u001b[0;34m\u001b[0m\u001b[0m\n",
      "\u001b[0;32m/usr/local/lib/python3.7/dist-packages/tensorflow_core/python/ops/variables.py\u001b[0m in \u001b[0;36m__call__\u001b[0;34m(cls, *args, **kwargs)\u001b[0m\n\u001b[1;32m    260\u001b[0m       \u001b[0;32mreturn\u001b[0m \u001b[0mcls\u001b[0m\u001b[0;34m.\u001b[0m\u001b[0m_variable_v2_call\u001b[0m\u001b[0;34m(\u001b[0m\u001b[0;34m*\u001b[0m\u001b[0margs\u001b[0m\u001b[0;34m,\u001b[0m \u001b[0;34m**\u001b[0m\u001b[0mkwargs\u001b[0m\u001b[0;34m)\u001b[0m\u001b[0;34m\u001b[0m\u001b[0;34m\u001b[0m\u001b[0m\n\u001b[1;32m    261\u001b[0m     \u001b[0;32melse\u001b[0m\u001b[0;34m:\u001b[0m\u001b[0;34m\u001b[0m\u001b[0;34m\u001b[0m\u001b[0m\n\u001b[0;32m--> 262\u001b[0;31m       \u001b[0;32mreturn\u001b[0m \u001b[0msuper\u001b[0m\u001b[0;34m(\u001b[0m\u001b[0mVariableMetaclass\u001b[0m\u001b[0;34m,\u001b[0m \u001b[0mcls\u001b[0m\u001b[0;34m)\u001b[0m\u001b[0;34m.\u001b[0m\u001b[0m__call__\u001b[0m\u001b[0;34m(\u001b[0m\u001b[0;34m*\u001b[0m\u001b[0margs\u001b[0m\u001b[0;34m,\u001b[0m \u001b[0;34m**\u001b[0m\u001b[0mkwargs\u001b[0m\u001b[0;34m)\u001b[0m\u001b[0;34m\u001b[0m\u001b[0;34m\u001b[0m\u001b[0m\n\u001b[0m\u001b[1;32m    263\u001b[0m \u001b[0;34m\u001b[0m\u001b[0m\n\u001b[1;32m    264\u001b[0m \u001b[0;34m\u001b[0m\u001b[0m\n",
      "\u001b[0;32m/usr/local/lib/python3.7/dist-packages/tensorflow_core/python/ops/resource_variable_ops.py\u001b[0m in \u001b[0;36m__init__\u001b[0;34m(self, trainable, caching_device, name, shape, dtype, constraint, synchronization, aggregation, extra_handle_data, distribute_strategy, **unused_kwargs)\u001b[0m\n\u001b[1;32m   1765\u001b[0m             \u001b[0mshape\u001b[0m\u001b[0;34m=\u001b[0m\u001b[0mshape\u001b[0m\u001b[0;34m,\u001b[0m \u001b[0mdtype\u001b[0m\u001b[0;34m=\u001b[0m\u001b[0mdtype\u001b[0m\u001b[0;34m,\u001b[0m \u001b[0mshared_name\u001b[0m\u001b[0;34m=\u001b[0m\u001b[0mshared_name\u001b[0m\u001b[0;34m,\u001b[0m\u001b[0;34m\u001b[0m\u001b[0;34m\u001b[0m\u001b[0m\n\u001b[1;32m   1766\u001b[0m             \u001b[0mname\u001b[0m\u001b[0;34m=\u001b[0m\u001b[0mname\u001b[0m\u001b[0;34m,\u001b[0m \u001b[0mgraph_mode\u001b[0m\u001b[0;34m=\u001b[0m\u001b[0mself\u001b[0m\u001b[0;34m.\u001b[0m\u001b[0m_in_graph_mode\u001b[0m\u001b[0;34m,\u001b[0m\u001b[0;34m\u001b[0m\u001b[0;34m\u001b[0m\u001b[0m\n\u001b[0;32m-> 1767\u001b[0;31m             initial_value=extra_handle_data)\n\u001b[0m\u001b[1;32m   1768\u001b[0m         \u001b[0;32mif\u001b[0m \u001b[0;32mnot\u001b[0m \u001b[0mcontext\u001b[0m\u001b[0;34m.\u001b[0m\u001b[0mexecuting_eagerly\u001b[0m\u001b[0;34m(\u001b[0m\u001b[0;34m)\u001b[0m\u001b[0;34m:\u001b[0m\u001b[0;34m\u001b[0m\u001b[0;34m\u001b[0m\u001b[0m\n\u001b[1;32m   1769\u001b[0m           \u001b[0;32mwith\u001b[0m \u001b[0mops\u001b[0m\u001b[0;34m.\u001b[0m\u001b[0mname_scope\u001b[0m\u001b[0;34m(\u001b[0m\u001b[0;34m\"Read\"\u001b[0m\u001b[0;34m)\u001b[0m\u001b[0;34m:\u001b[0m\u001b[0;34m\u001b[0m\u001b[0;34m\u001b[0m\u001b[0m\n",
      "\u001b[0;32m/usr/local/lib/python3.7/dist-packages/tensorflow_core/python/ops/resource_variable_ops.py\u001b[0m in \u001b[0;36m_variable_handle_from_shape_and_dtype\u001b[0;34m(shape, dtype, shared_name, name, graph_mode, initial_value)\u001b[0m\n\u001b[1;32m    162\u001b[0m     \u001b[0;31m# support string tensors, we encode the assertion string in the Op name\u001b[0m\u001b[0;34m\u001b[0m\u001b[0;34m\u001b[0m\u001b[0;34m\u001b[0m\u001b[0m\n\u001b[1;32m    163\u001b[0m     gen_logging_ops._assert(  # pylint: disable=protected-access\n\u001b[0;32m--> 164\u001b[0;31m         math_ops.logical_not(exists), [exists], name=\"EagerVariableNameReuse\")\n\u001b[0m\u001b[1;32m    165\u001b[0m \u001b[0;34m\u001b[0m\u001b[0m\n\u001b[1;32m    166\u001b[0m     \u001b[0mhandle_data\u001b[0m \u001b[0;34m=\u001b[0m \u001b[0mcpp_shape_inference_pb2\u001b[0m\u001b[0;34m.\u001b[0m\u001b[0mCppShapeInferenceResult\u001b[0m\u001b[0;34m.\u001b[0m\u001b[0mHandleData\u001b[0m\u001b[0;34m(\u001b[0m\u001b[0;34m)\u001b[0m\u001b[0;34m\u001b[0m\u001b[0;34m\u001b[0m\u001b[0m\n",
      "\u001b[0;32m/usr/local/lib/python3.7/dist-packages/tensorflow_core/python/ops/gen_logging_ops.py\u001b[0m in \u001b[0;36m_assert\u001b[0;34m(condition, data, summarize, name)\u001b[0m\n\u001b[1;32m     53\u001b[0m         \u001b[0;32mpass\u001b[0m  \u001b[0;31m# Add nodes to the TensorFlow graph.\u001b[0m\u001b[0;34m\u001b[0m\u001b[0;34m\u001b[0m\u001b[0m\n\u001b[1;32m     54\u001b[0m     \u001b[0;32mexcept\u001b[0m \u001b[0m_core\u001b[0m\u001b[0;34m.\u001b[0m\u001b[0m_NotOkStatusException\u001b[0m \u001b[0;32mas\u001b[0m \u001b[0me\u001b[0m\u001b[0;34m:\u001b[0m\u001b[0;34m\u001b[0m\u001b[0;34m\u001b[0m\u001b[0m\n\u001b[0;32m---> 55\u001b[0;31m       \u001b[0m_ops\u001b[0m\u001b[0;34m.\u001b[0m\u001b[0mraise_from_not_ok_status\u001b[0m\u001b[0;34m(\u001b[0m\u001b[0me\u001b[0m\u001b[0;34m,\u001b[0m \u001b[0mname\u001b[0m\u001b[0;34m)\u001b[0m\u001b[0;34m\u001b[0m\u001b[0;34m\u001b[0m\u001b[0m\n\u001b[0m\u001b[1;32m     56\u001b[0m   \u001b[0;31m# Add nodes to the TensorFlow graph.\u001b[0m\u001b[0;34m\u001b[0m\u001b[0;34m\u001b[0m\u001b[0;34m\u001b[0m\u001b[0m\n\u001b[1;32m     57\u001b[0m   \u001b[0;32mif\u001b[0m \u001b[0msummarize\u001b[0m \u001b[0;32mis\u001b[0m \u001b[0;32mNone\u001b[0m\u001b[0;34m:\u001b[0m\u001b[0;34m\u001b[0m\u001b[0;34m\u001b[0m\u001b[0m\n",
      "\u001b[0;32m/usr/local/lib/python3.7/dist-packages/tensorflow_core/python/framework/ops.py\u001b[0m in \u001b[0;36mraise_from_not_ok_status\u001b[0;34m(e, name)\u001b[0m\n\u001b[1;32m   6604\u001b[0m   \u001b[0mmessage\u001b[0m \u001b[0;34m=\u001b[0m \u001b[0me\u001b[0m\u001b[0;34m.\u001b[0m\u001b[0mmessage\u001b[0m \u001b[0;34m+\u001b[0m \u001b[0;34m(\u001b[0m\u001b[0;34m\" name: \"\u001b[0m \u001b[0;34m+\u001b[0m \u001b[0mname\u001b[0m \u001b[0;32mif\u001b[0m \u001b[0mname\u001b[0m \u001b[0;32mis\u001b[0m \u001b[0;32mnot\u001b[0m \u001b[0;32mNone\u001b[0m \u001b[0;32melse\u001b[0m \u001b[0;34m\"\"\u001b[0m\u001b[0;34m)\u001b[0m\u001b[0;34m\u001b[0m\u001b[0;34m\u001b[0m\u001b[0m\n\u001b[1;32m   6605\u001b[0m   \u001b[0;31m# pylint: disable=protected-access\u001b[0m\u001b[0;34m\u001b[0m\u001b[0;34m\u001b[0m\u001b[0;34m\u001b[0m\u001b[0m\n\u001b[0;32m-> 6606\u001b[0;31m   \u001b[0msix\u001b[0m\u001b[0;34m.\u001b[0m\u001b[0mraise_from\u001b[0m\u001b[0;34m(\u001b[0m\u001b[0mcore\u001b[0m\u001b[0;34m.\u001b[0m\u001b[0m_status_to_exception\u001b[0m\u001b[0;34m(\u001b[0m\u001b[0me\u001b[0m\u001b[0;34m.\u001b[0m\u001b[0mcode\u001b[0m\u001b[0;34m,\u001b[0m \u001b[0mmessage\u001b[0m\u001b[0;34m)\u001b[0m\u001b[0;34m,\u001b[0m \u001b[0;32mNone\u001b[0m\u001b[0;34m)\u001b[0m\u001b[0;34m\u001b[0m\u001b[0;34m\u001b[0m\u001b[0m\n\u001b[0m\u001b[1;32m   6607\u001b[0m   \u001b[0;31m# pylint: enable=protected-access\u001b[0m\u001b[0;34m\u001b[0m\u001b[0;34m\u001b[0m\u001b[0;34m\u001b[0m\u001b[0m\n\u001b[1;32m   6608\u001b[0m \u001b[0;34m\u001b[0m\u001b[0m\n",
      "\u001b[0;32m/usr/lib/python3/dist-packages/six.py\u001b[0m in \u001b[0;36mraise_from\u001b[0;34m(value, from_value)\u001b[0m\n",
      "\u001b[0;31mInvalidArgumentError\u001b[0m: assertion failed: [0] [Op:Assert] name: EagerVariableNameReuse"
     ]
    }
   ],
   "source": [
    "bert_module = hub.KerasLayer(BERT_DIR, trainable=True)"
   ]
  },
  {
   "cell_type": "code",
   "execution_count": 4,
   "metadata": {},
   "outputs": [],
   "source": [
    "# tokenizer\n",
    "from bert import tokenization\n",
    "\n",
    "def create_tokenizer(vocab_file, do_lower_case=False):\n",
    "    return tokenization.FullTokenizer(vocab_file=vocab_file, do_lower_case=do_lower_case)\n",
    "\n",
    "tokenizer = create_tokenizer(BERT_DIR + \"/assets/vocab.txt\")\n",
    "\n",
    "def convert_sentence_to_features(sentence, tokenizer, max_seq_len=50):\n",
    "    tokens = ['[CLS]']\n",
    "    tokens.extend(tokenizer.tokenize(sentence))\n",
    "    if len(tokens) > max_seq_len-1:\n",
    "        tokens = tokens[:max_seq_len-1]\n",
    "    tokens.append('[SEP]')+63\n",
    "    \n",
    "    segment_ids = [0] * len(tokens)\n",
    "    input_ids = tokenizer.convert_tokens_to_ids(tokens)\n",
    "    input_mask = [1] * len(input_ids)\n",
    "\n",
    "    #Zero Mask till seq_length\n",
    "    zero_mask = [0] * (max_seq_len-len(tokens))\n",
    "    input_ids.extend(zero_mask)\n",
    "    input_mask.extend(zero_mask)\n",
    "    segment_ids.extend(zero_mask)\n",
    "    \n",
    "    return input_ids, input_mask, segment_ids\n",
    "\n",
    "def convert_sentences_to_features(sentences, tokenizer, max_seq_len=50):\n",
    "    all_input_ids = []\n",
    "    all_input_mask = []\n",
    "    all_segment_ids = []\n",
    "    \n",
    "    for sentence in sentences:\n",
    "        input_ids, input_mask, segment_ids = convert_sentence_to_features(sentence, tokenizer, max_seq_len)\n",
    "        all_input_ids.append(input_ids)\n",
    "        all_input_mask.append(input_mask)\n",
    "        all_segment_ids.append(segment_ids)\n",
    "    \n",
    "    return all_input_ids, all_input_mask, all_segment_ids\n",
    "\n",
    "import random, copy\n",
    "import numpy as np\n",
    "def make_rand_mask(input_ids, input_mask, vocab_size, segment_id_vals=None):\n",
    "    ''' \n",
    "    Only make mask for one sentence\n",
    "    input_ids: the ids of words in the sentences\n",
    "    input_mask: initial mask (1 if there is a word; 0 for padding)\n",
    "    returns\n",
    "    input_mask: replace one bit of 1 with 0, meaning that the word will be masked\n",
    "    mask_word_ids: the id of words that are masked\n",
    "    pure_ids: ids in number instead of one-hot (to generate weights per masked word)\n",
    "    segment_id_vals: mark the masked word with segment id 1\n",
    "    sequential_output_filter: the masked word index\n",
    "    '''\n",
    "    \n",
    "    new_input_mask = copy.deepcopy(input_mask)\n",
    "#     mask_word_ids = np.zeros(vocab_size)\n",
    "    pure_ids = []\n",
    "\n",
    "    total_word = sum(input_mask)\n",
    "    mask_word = random.randint(0, total_word-1)\n",
    "\n",
    "    pure_ids.append(input_ids[mask_word])\n",
    "    assert new_input_mask[mask_word] == 1\n",
    "    new_input_mask[mask_word] = 0\n",
    "#     mask_word_ids[input_ids[mask_word]] = 1.0\n",
    "                \n",
    "    return new_input_mask, segment_id_vals, mask_word"
   ]
  },
  {
   "cell_type": "markdown",
   "metadata": {},
   "source": [
    "### 1.2 Blank filler model"
   ]
  },
  {
   "cell_type": "code",
   "execution_count": 5,
   "metadata": {},
   "outputs": [
    {
     "ename": "NameError",
     "evalue": "name 'bert_module' is not defined",
     "output_type": "error",
     "traceback": [
      "\u001b[0;31m---------------------------------------------------------------------------\u001b[0m",
      "\u001b[0;31mNameError\u001b[0m                                 Traceback (most recent call last)",
      "\u001b[0;32m<ipython-input-5-b54964503fec>\u001b[0m in \u001b[0;36m<module>\u001b[0;34m\u001b[0m\n\u001b[0;32m----> 1\u001b[0;31m \u001b[0;32mclass\u001b[0m \u001b[0mWordPredictor\u001b[0m\u001b[0;34m(\u001b[0m\u001b[0mtf\u001b[0m\u001b[0;34m.\u001b[0m\u001b[0mkeras\u001b[0m\u001b[0;34m.\u001b[0m\u001b[0mModel\u001b[0m\u001b[0;34m)\u001b[0m\u001b[0;34m:\u001b[0m\u001b[0;34m\u001b[0m\u001b[0;34m\u001b[0m\u001b[0m\n\u001b[0m\u001b[1;32m      2\u001b[0m     \u001b[0;31m# The output means, how possible the given word may fit into the blank\u001b[0m\u001b[0;34m\u001b[0m\u001b[0;34m\u001b[0m\u001b[0;34m\u001b[0m\u001b[0m\n\u001b[1;32m      3\u001b[0m     \u001b[0;32mdef\u001b[0m \u001b[0m__init__\u001b[0m\u001b[0;34m(\u001b[0m\u001b[0mself\u001b[0m\u001b[0;34m,\u001b[0m \u001b[0mclass_num\u001b[0m\u001b[0;34m,\u001b[0m \u001b[0mbert\u001b[0m\u001b[0;34m=\u001b[0m\u001b[0mbert_module\u001b[0m\u001b[0;34m,\u001b[0m \u001b[0mdropout\u001b[0m\u001b[0;34m=\u001b[0m\u001b[0;36m0.1\u001b[0m\u001b[0;34m)\u001b[0m\u001b[0;34m:\u001b[0m\u001b[0;34m\u001b[0m\u001b[0;34m\u001b[0m\u001b[0m\n\u001b[1;32m      4\u001b[0m         \u001b[0msuper\u001b[0m\u001b[0;34m(\u001b[0m\u001b[0mWordPredictor\u001b[0m\u001b[0;34m,\u001b[0m \u001b[0mself\u001b[0m\u001b[0;34m)\u001b[0m\u001b[0;34m.\u001b[0m\u001b[0m__init__\u001b[0m\u001b[0;34m(\u001b[0m\u001b[0;34m)\u001b[0m\u001b[0;34m\u001b[0m\u001b[0;34m\u001b[0m\u001b[0m\n\u001b[1;32m      5\u001b[0m         \u001b[0mself\u001b[0m\u001b[0;34m.\u001b[0m\u001b[0mbert\u001b[0m \u001b[0;34m=\u001b[0m \u001b[0mbert\u001b[0m\u001b[0;34m\u001b[0m\u001b[0;34m\u001b[0m\u001b[0m\n",
      "\u001b[0;32m<ipython-input-5-b54964503fec>\u001b[0m in \u001b[0;36mWordPredictor\u001b[0;34m()\u001b[0m\n\u001b[1;32m      1\u001b[0m \u001b[0;32mclass\u001b[0m \u001b[0mWordPredictor\u001b[0m\u001b[0;34m(\u001b[0m\u001b[0mtf\u001b[0m\u001b[0;34m.\u001b[0m\u001b[0mkeras\u001b[0m\u001b[0;34m.\u001b[0m\u001b[0mModel\u001b[0m\u001b[0;34m)\u001b[0m\u001b[0;34m:\u001b[0m\u001b[0;34m\u001b[0m\u001b[0;34m\u001b[0m\u001b[0m\n\u001b[1;32m      2\u001b[0m     \u001b[0;31m# The output means, how possible the given word may fit into the blank\u001b[0m\u001b[0;34m\u001b[0m\u001b[0;34m\u001b[0m\u001b[0;34m\u001b[0m\u001b[0m\n\u001b[0;32m----> 3\u001b[0;31m     \u001b[0;32mdef\u001b[0m \u001b[0m__init__\u001b[0m\u001b[0;34m(\u001b[0m\u001b[0mself\u001b[0m\u001b[0;34m,\u001b[0m \u001b[0mclass_num\u001b[0m\u001b[0;34m,\u001b[0m \u001b[0mbert\u001b[0m\u001b[0;34m=\u001b[0m\u001b[0mbert_module\u001b[0m\u001b[0;34m,\u001b[0m \u001b[0mdropout\u001b[0m\u001b[0;34m=\u001b[0m\u001b[0;36m0.1\u001b[0m\u001b[0;34m)\u001b[0m\u001b[0;34m:\u001b[0m\u001b[0;34m\u001b[0m\u001b[0;34m\u001b[0m\u001b[0m\n\u001b[0m\u001b[1;32m      4\u001b[0m         \u001b[0msuper\u001b[0m\u001b[0;34m(\u001b[0m\u001b[0mWordPredictor\u001b[0m\u001b[0;34m,\u001b[0m \u001b[0mself\u001b[0m\u001b[0;34m)\u001b[0m\u001b[0;34m.\u001b[0m\u001b[0m__init__\u001b[0m\u001b[0;34m(\u001b[0m\u001b[0;34m)\u001b[0m\u001b[0;34m\u001b[0m\u001b[0;34m\u001b[0m\u001b[0m\n\u001b[1;32m      5\u001b[0m         \u001b[0mself\u001b[0m\u001b[0;34m.\u001b[0m\u001b[0mbert\u001b[0m \u001b[0;34m=\u001b[0m \u001b[0mbert\u001b[0m\u001b[0;34m\u001b[0m\u001b[0;34m\u001b[0m\u001b[0m\n",
      "\u001b[0;31mNameError\u001b[0m: name 'bert_module' is not defined"
     ]
    }
   ],
   "source": [
    "class WordPredictor(tf.keras.Model):\n",
    "    # The output means, how possible the given word may fit into the blank\n",
    "    def __init__(self, class_num, bert=bert_module, dropout=0.1):\n",
    "        super(WordPredictor, self).__init__()\n",
    "        self.bert = bert\n",
    "        self.drop = tf.keras.layers.Dropout(rate=dropout, trainable=True)\n",
    "        \n",
    "        self.dense = tf.keras.layers.Dense(\n",
    "            class_num,\n",
    "            activation=None,\n",
    "            kernel_initializer='glorot_uniform',\n",
    "            name='word_prediction',\n",
    "            trainable=True)\n",
    "        \n",
    "    def call(self, inputs, mask_loc):\n",
    "        # When passed in, all tensors are stacked in one, split it into a list\n",
    "        inputs = tf.unstack(tf.cast(inputs, tf.dtypes.int32), axis=1)\n",
    "        \n",
    "#         # The last element in the list is a filter that will be exerted on sequential\n",
    "#         inputs, seq_output_filter = inputs[:-1], inputs[-1]\n",
    "#         seq_output_filter = tf.cast(seq_output_filter, tf.dtypes.float32)\n",
    "\n",
    "        pooled, sequential = self.bert(inputs)\n",
    "        \n",
    "#         s = tf.tensordot(seq_output_filter,  sequential, axes=(1, 1))\n",
    "\n",
    "        # select one from each batch\n",
    "        s = tf.gather_nd(sequential, [(i, mask_loc[i]) for i in range(sequential.shape[0])])\n",
    "        # s now has shape (batch_size * 768)\n",
    "        \n",
    "        x = self.drop(s)\n",
    "        return self.dense(x)"
   ]
  },
  {
   "cell_type": "markdown",
   "metadata": {},
   "source": [
    "### 1.2.1 Sanity test"
   ]
  },
  {
   "cell_type": "code",
   "execution_count": null,
   "metadata": {},
   "outputs": [],
   "source": [
    "model = WordPredictor(1)\n",
    "\n",
    "opt = tf.keras.optimizers.Adam(learning_rate=1e-4)\n",
    "model.compile(opt, loss=tf.keras.losses.Crossentropy())"
   ]
  },
  {
   "cell_type": "markdown",
   "metadata": {},
   "source": [
    "## 2. Prepare data"
   ]
  },
  {
   "cell_type": "code",
   "execution_count": null,
   "metadata": {},
   "outputs": [],
   "source": [
    "# One time run, write all sentences in the json file into txt\n",
    "# import json \n",
    "\n",
    "# DATA_FILE = \"/home/aufish/Documents/ScratchGan++/scratchgan/emnlp_data/train.json\"\n",
    "# all_sentences = json.load(open(DATA_FILE, \"r\"))\n",
    "\n",
    "# SENTENCE_FILE = \"./sentences.txt\"\n",
    "\n",
    "# output_file = open(SENTENCE_FILE, \"w\")\n",
    "# for sentence in all_sentences:\n",
    "#     output_file.write(sentence['s'] + '\\n')"
   ]
  },
  {
   "cell_type": "code",
   "execution_count": 7,
   "metadata": {},
   "outputs": [],
   "source": [
    "import numpy as np\n",
    "# extracted from emnlp\n",
    "DATA_FILE = \"./sentences.txt\"\n",
    "\n",
    "MASK_ID = tokenizer.convert_tokens_to_ids(['[MASK]'])[0]\n",
    "\n",
    "def parse_line(line):    \n",
    "    input_ids, input_mask, segment_ids = convert_sentence_to_features(line, tokenizer, max_seq_len=30)\n",
    "        \n",
    "    input_mask, segment_ids, mask_position = \\\n",
    "        make_rand_mask(input_ids, input_mask, len(tokenizer.vocab), segment_ids)\n",
    "    \n",
    "    label = input_ids[mask_position]\n",
    "    input_ids[mask_position] = MASK_ID\n",
    "    \n",
    "    return [input_ids, input_mask, segment_ids], [mask_position, label]\n",
    "\n",
    "def create_dataset(filename = DATA_FILE, data_size = 268528, batch_size = 10):\n",
    "    dataset = tf.data.TextLineDataset([filename])\n",
    "    \n",
    "    dataset = dataset.map(lambda x : tf.numpy_function(parse_line, [x], [tf.int64, tf.int64]))\n",
    "    \n",
    "    # dataset = dataset.shuffle(data_size, reshuffle_each_iteration=True)\n",
    "    \n",
    "    dataset = dataset.batch(batch_size)\n",
    "    \n",
    "    return dataset"
   ]
  },
  {
   "cell_type": "code",
   "execution_count": null,
   "metadata": {},
   "outputs": [],
   "source": [
    "tokenizer.convert_tokens_to_ids(['[MASK]'])"
   ]
  },
  {
   "cell_type": "markdown",
   "metadata": {},
   "source": [
    "### 2.1 Model calling sanity test"
   ]
  },
  {
   "cell_type": "code",
   "execution_count": 13,
   "metadata": {},
   "outputs": [],
   "source": [
    "temp_batch_size = 3\n",
    "dataset = create_dataset(batch_size = temp_batch_size)"
   ]
  },
  {
   "cell_type": "code",
   "execution_count": 14,
   "metadata": {},
   "outputs": [
    {
     "name": "stdout",
     "output_type": "stream",
     "text": [
      "tf.Tensor(\n",
      "[[[ 101 1422 3509 1138 3228 1115 1177 1677  103 1419 5302 1185 2255 1106\n",
      "   1849 1157 3641 4413  117 1134 1132 6150 2732  119  102    0    0    0\n",
      "      0    0]\n",
      "  [   1    1    1    1    1    1    1    1    0    1    1    1    1    1\n",
      "      1    1    1    1    1    1    1    1    1    1    1    0    0    0\n",
      "      0    0]\n",
      "  [   0    0    0    0    0    0    0    0    0    0    0    0    0    0\n",
      "      0    0    0    0    0    0    0    0    0    0    0    0    0    0\n",
      "      0    0]]\n",
      "\n",
      " [[ 101  112 5875  146  103 1164 2128 2673 1250  117 1133 1272  146 1821\n",
      "   2041 1690 4692 1132 1541 5865  117  112 1131 1163  119  102    0    0\n",
      "      0    0]\n",
      "  [   1    1    1    1    0    1    1    1    1    1    1    1    1    1\n",
      "      1    1    1    1    1    1    1    1    1    1    1    1    0    0\n",
      "      0    0]\n",
      "  [   0    0    0    0    0    0    0    0    0    0    0    0    0    0\n",
      "      0    0    0    0    0    0    0    0    0    0    0    0    0    0\n",
      "      0    0]]\n",
      "\n",
      " [[ 101 1284 1156 1501 1412 1514  103 1170 5953  113 1196 1103 2454  112\n",
      "    188 4055  114 1173 1321 1103 3676 1111  170 2647  119  102    0    0\n",
      "      0    0]\n",
      "  [   1    1    1    1    1    1    0    1    1    1    1    1    1    1\n",
      "      1    1    1    1    1    1    1    1    1    1    1    1    0    0\n",
      "      0    0]\n",
      "  [   0    0    0    0    0    0    0    0    0    0    0    0    0    0\n",
      "      0    0    0    0    0    0    0    0    0    0    0    0    0    0\n",
      "      0    0]]], shape=(3, 3, 30), dtype=int64)\n",
      "tf.Tensor(\n",
      "[[   8 1103]\n",
      " [   4 1341]\n",
      " [   6 8218]], shape=(3, 2), dtype=int64)\n",
      "(3, 30, 768)\n",
      "tf.Tensor(\n",
      "[[ 0.86260784 -0.7008134  -0.71177095 ...  0.952968    0.76533204\n",
      "  -0.88548875]\n",
      " [ 0.8537156  -0.69316185 -0.71598744 ...  0.9618892   0.7632961\n",
      "  -0.87404925]\n",
      " [ 0.8700382  -0.71434975 -0.72877157 ...  0.9634323   0.77538884\n",
      "  -0.87290794]], shape=(3, 768), dtype=float32)\n",
      "tf.Tensor([1103 1341 8218], shape=(3,), dtype=int64)\n"
     ]
    }
   ],
   "source": [
    "# Processing data without model\n",
    "for (bert_input, label) in dataset.take(1):\n",
    "    print(bert_input)\n",
    "    print(label)\n",
    "    inputs = tf.unstack(tf.cast(bert_input, tf.dtypes.int32), axis=1)\n",
    "    \n",
    "    pooled, sequential = bert_module(inputs)\n",
    "    \n",
    "    print(sequential.shape)\n",
    "    \n",
    "#     seq_output_filter = tf.cast(seq_output_filter, tf.dtypes.float32)\n",
    "#     r = tf.tensordot(seq_output_filter,  sequential, axes=(1, 1))\n",
    "    \n",
    "    mask, label = tf.unstack(label, axis=1)\n",
    "    r = tf.gather_nd(sequential, [(i, mask[i]) for i in range(temp_batch_size)])\n",
    "    \n",
    "    print(r)\n",
    "    print(label)"
   ]
  },
  {
   "cell_type": "code",
   "execution_count": null,
   "metadata": {},
   "outputs": [],
   "source": [
    "model = WordPredictor(1)"
   ]
  },
  {
   "cell_type": "code",
   "execution_count": null,
   "metadata": {},
   "outputs": [],
   "source": [
    "for (bert_input, label) in dataset.take(1):\n",
    "    mask, label = tf.unstack(label, axis=1)\n",
    "    output = model(bert_input, mask)\n",
    "    \n",
    "    print(\"Output\")\n",
    "    print(output)\n",
    "    print(\"Weights: \")\n",
    "    print([weight.name for weight in model.trainable_weights])"
   ]
  },
  {
   "cell_type": "markdown",
   "metadata": {},
   "source": [
    "## 3. Training"
   ]
  },
  {
   "cell_type": "markdown",
   "metadata": {},
   "source": [
    "### 3.1 Training Santiy Run"
   ]
  },
  {
   "cell_type": "code",
   "execution_count": 15,
   "metadata": {},
   "outputs": [],
   "source": [
    "model = WordPredictor(len(tokenizer.vocab))\n",
    "\n",
    "opt = tf.keras.optimizers.Adam(learning_rate=1e-5)\n",
    "loss = tf.keras.losses.SparseCategoricalCrossentropy(from_logits=True)\n",
    "loss_metric = tf.keras.metrics.Mean()\n",
    "\n",
    "dataset = create_dataset(batch_size = 10)"
   ]
  },
  {
   "cell_type": "code",
   "execution_count": 16,
   "metadata": {},
   "outputs": [
    {
     "name": "stdout",
     "output_type": "stream",
     "text": [
      "mean loss = tf.Tensor(10.318472, shape=(), dtype=float32)\n",
      "mean loss = tf.Tensor(10.315854, shape=(), dtype=float32)\n",
      "mean loss = tf.Tensor(10.310256, shape=(), dtype=float32)\n",
      "mean loss = tf.Tensor(10.284655, shape=(), dtype=float32)\n",
      "mean loss = tf.Tensor(10.302042, shape=(), dtype=float32)\n"
     ]
    }
   ],
   "source": [
    "for (bert_input, label) in dataset.take(5):\n",
    "    mask, label = tf.unstack(label, axis=1)\n",
    "    with tf.GradientTape() as tape:\n",
    "        output = model(bert_input, mask)\n",
    "\n",
    "        loss_val = loss(label, output)\n",
    "        loss_val += sum(model.losses)\n",
    "        \n",
    "    grads = tape.gradient(loss_val, model.trainable_weights)\n",
    "    opt.apply_gradients(zip(grads, model.trainable_weights))\n",
    "    \n",
    "    loss_metric(loss_val)\n",
    "    \n",
    "    print('mean loss = %s' % (loss_metric.result()))"
   ]
  },
  {
   "cell_type": "markdown",
   "metadata": {},
   "source": [
    "### 3.2 Actual training setup"
   ]
  },
  {
   "cell_type": "code",
   "execution_count": 7,
   "metadata": {},
   "outputs": [],
   "source": [
    "model = WordPredictor(len(tokenizer.vocab))\n",
    "\n",
    "opt = tf.keras.optimizers.Adam(learning_rate=1e-5)\n",
    "loss = tf.keras.losses.SparseCategoricalCrossentropy(from_logits=True)\n",
    "loss_metric = tf.keras.metrics.Mean()\n",
    "\n",
    "dataset = create_dataset(batch_size = 20)"
   ]
  },
  {
   "cell_type": "code",
   "execution_count": 8,
   "metadata": {},
   "outputs": [
    {
     "data": {
      "text/plain": [
       "<tensorflow.python.training.tracking.util.CheckpointLoadStatus at 0x7f476809a5c0>"
      ]
     },
     "execution_count": 8,
     "metadata": {},
     "output_type": "execute_result"
    }
   ],
   "source": [
    "model.load_weights(\"./word_predictor_0\")"
   ]
  },
  {
   "cell_type": "code",
   "execution_count": 9,
   "metadata": {},
   "outputs": [
    {
     "name": "stdout",
     "output_type": "stream",
     "text": [
      "Start of epoch 0\n",
      "step 0: mean loss = tf.Tensor(2.155894, shape=(), dtype=float32)\n",
      "step 1000: mean loss = tf.Tensor(2.8797085, shape=(), dtype=float32)\n",
      "step 2000: mean loss = tf.Tensor(2.888117, shape=(), dtype=float32)\n",
      "step 3000: mean loss = tf.Tensor(2.8916986, shape=(), dtype=float32)\n",
      "step 4000: mean loss = tf.Tensor(2.882312, shape=(), dtype=float32)\n",
      "step 5000: mean loss = tf.Tensor(2.8649342, shape=(), dtype=float32)\n",
      "step 6000: mean loss = tf.Tensor(2.8529654, shape=(), dtype=float32)\n",
      "step 7000: mean loss = tf.Tensor(2.8376935, shape=(), dtype=float32)\n",
      "step 8000: mean loss = tf.Tensor(2.8259223, shape=(), dtype=float32)\n",
      "step 9000: mean loss = tf.Tensor(2.8135777, shape=(), dtype=float32)\n",
      "step 10000: mean loss = tf.Tensor(2.8023026, shape=(), dtype=float32)\n",
      "step 11000: mean loss = tf.Tensor(2.7887707, shape=(), dtype=float32)\n",
      "step 12000: mean loss = tf.Tensor(2.781884, shape=(), dtype=float32)\n",
      "step 13000: mean loss = tf.Tensor(2.7718768, shape=(), dtype=float32)\n",
      "Start of epoch 1\n",
      "step 0: mean loss = tf.Tensor(2.7658486, shape=(), dtype=float32)\n",
      "step 1000: mean loss = tf.Tensor(2.7539318, shape=(), dtype=float32)\n",
      "step 2000: mean loss = tf.Tensor(2.7449481, shape=(), dtype=float32)\n",
      "step 3000: mean loss = tf.Tensor(2.7365432, shape=(), dtype=float32)\n",
      "step 4000: mean loss = tf.Tensor(2.725212, shape=(), dtype=float32)\n",
      "step 5000: mean loss = tf.Tensor(2.715334, shape=(), dtype=float32)\n",
      "step 6000: mean loss = tf.Tensor(2.7059953, shape=(), dtype=float32)\n",
      "step 7000: mean loss = tf.Tensor(2.695958, shape=(), dtype=float32)\n",
      "step 8000: mean loss = tf.Tensor(2.686948, shape=(), dtype=float32)\n",
      "step 9000: mean loss = tf.Tensor(2.6770585, shape=(), dtype=float32)\n",
      "step 10000: mean loss = tf.Tensor(2.6700895, shape=(), dtype=float32)\n",
      "step 11000: mean loss = tf.Tensor(2.6602569, shape=(), dtype=float32)\n",
      "step 12000: mean loss = tf.Tensor(2.6515756, shape=(), dtype=float32)\n",
      "step 13000: mean loss = tf.Tensor(2.642614, shape=(), dtype=float32)\n",
      "Start of epoch 2\n",
      "step 0: mean loss = tf.Tensor(2.6393979, shape=(), dtype=float32)\n",
      "step 1000: mean loss = tf.Tensor(2.6313577, shape=(), dtype=float32)\n",
      "step 2000: mean loss = tf.Tensor(2.6212363, shape=(), dtype=float32)\n",
      "step 3000: mean loss = tf.Tensor(2.6132026, shape=(), dtype=float32)\n",
      "step 4000: mean loss = tf.Tensor(2.6055171, shape=(), dtype=float32)\n",
      "step 5000: mean loss = tf.Tensor(2.5980306, shape=(), dtype=float32)\n",
      "step 6000: mean loss = tf.Tensor(2.5909479, shape=(), dtype=float32)\n",
      "step 7000: mean loss = tf.Tensor(2.584091, shape=(), dtype=float32)\n",
      "step 8000: mean loss = tf.Tensor(2.57679, shape=(), dtype=float32)\n",
      "step 9000: mean loss = tf.Tensor(2.569082, shape=(), dtype=float32)\n",
      "step 10000: mean loss = tf.Tensor(2.5620391, shape=(), dtype=float32)\n",
      "step 11000: mean loss = tf.Tensor(2.5550048, shape=(), dtype=float32)\n",
      "step 12000: mean loss = tf.Tensor(2.547928, shape=(), dtype=float32)\n",
      "step 13000: mean loss = tf.Tensor(2.5404394, shape=(), dtype=float32)\n",
      "Start of epoch 3\n",
      "step 0: mean loss = tf.Tensor(2.5375614, shape=(), dtype=float32)\n",
      "step 1000: mean loss = tf.Tensor(2.5307655, shape=(), dtype=float32)\n",
      "step 2000: mean loss = tf.Tensor(2.524269, shape=(), dtype=float32)\n",
      "step 3000: mean loss = tf.Tensor(2.5183046, shape=(), dtype=float32)\n",
      "step 4000: mean loss = tf.Tensor(2.5119536, shape=(), dtype=float32)\n",
      "step 5000: mean loss = tf.Tensor(2.5054624, shape=(), dtype=float32)\n",
      "step 6000: mean loss = tf.Tensor(2.4993112, shape=(), dtype=float32)\n",
      "step 7000: mean loss = tf.Tensor(2.4923055, shape=(), dtype=float32)\n",
      "step 8000: mean loss = tf.Tensor(2.4859862, shape=(), dtype=float32)\n",
      "step 9000: mean loss = tf.Tensor(2.4796827, shape=(), dtype=float32)\n",
      "step 10000: mean loss = tf.Tensor(2.473187, shape=(), dtype=float32)\n",
      "step 11000: mean loss = tf.Tensor(2.4666853, shape=(), dtype=float32)\n",
      "step 12000: mean loss = tf.Tensor(2.4606838, shape=(), dtype=float32)\n",
      "step 13000: mean loss = tf.Tensor(2.4542992, shape=(), dtype=float32)\n",
      "Start of epoch 4\n",
      "step 0: mean loss = tf.Tensor(2.4518154, shape=(), dtype=float32)\n",
      "step 1000: mean loss = tf.Tensor(2.4461603, shape=(), dtype=float32)\n",
      "step 2000: mean loss = tf.Tensor(2.4405909, shape=(), dtype=float32)\n",
      "step 3000: mean loss = tf.Tensor(2.435398, shape=(), dtype=float32)\n",
      "step 4000: mean loss = tf.Tensor(2.4298935, shape=(), dtype=float32)\n",
      "step 5000: mean loss = tf.Tensor(2.4244218, shape=(), dtype=float32)\n",
      "step 6000: mean loss = tf.Tensor(2.4188433, shape=(), dtype=float32)\n",
      "step 7000: mean loss = tf.Tensor(2.413485, shape=(), dtype=float32)\n",
      "step 8000: mean loss = tf.Tensor(2.4085035, shape=(), dtype=float32)\n",
      "step 9000: mean loss = tf.Tensor(2.4034357, shape=(), dtype=float32)\n",
      "step 10000: mean loss = tf.Tensor(2.3981373, shape=(), dtype=float32)\n",
      "step 11000: mean loss = tf.Tensor(2.3927293, shape=(), dtype=float32)\n",
      "step 12000: mean loss = tf.Tensor(2.3879359, shape=(), dtype=float32)\n",
      "step 13000: mean loss = tf.Tensor(2.3828328, shape=(), dtype=float32)\n",
      "Start of epoch 5\n",
      "step 0: mean loss = tf.Tensor(2.3810956, shape=(), dtype=float32)\n",
      "step 1000: mean loss = tf.Tensor(2.376409, shape=(), dtype=float32)\n",
      "step 2000: mean loss = tf.Tensor(2.3708436, shape=(), dtype=float32)\n",
      "step 3000: mean loss = tf.Tensor(2.366337, shape=(), dtype=float32)\n",
      "step 4000: mean loss = tf.Tensor(2.3620331, shape=(), dtype=float32)\n",
      "step 5000: mean loss = tf.Tensor(2.3574982, shape=(), dtype=float32)\n",
      "step 6000: mean loss = tf.Tensor(2.3527608, shape=(), dtype=float32)\n",
      "step 7000: mean loss = tf.Tensor(2.3482585, shape=(), dtype=float32)\n",
      "step 8000: mean loss = tf.Tensor(2.3440917, shape=(), dtype=float32)\n",
      "step 9000: mean loss = tf.Tensor(2.3399403, shape=(), dtype=float32)\n",
      "step 10000: mean loss = tf.Tensor(2.3354788, shape=(), dtype=float32)\n",
      "step 11000: mean loss = tf.Tensor(2.3308609, shape=(), dtype=float32)\n",
      "step 12000: mean loss = tf.Tensor(2.3262522, shape=(), dtype=float32)\n",
      "step 13000: mean loss = tf.Tensor(2.322362, shape=(), dtype=float32)\n",
      "Start of epoch 6\n",
      "step 0: mean loss = tf.Tensor(2.32081, shape=(), dtype=float32)\n",
      "step 1000: mean loss = tf.Tensor(2.3170755, shape=(), dtype=float32)\n",
      "step 2000: mean loss = tf.Tensor(2.3129318, shape=(), dtype=float32)\n",
      "step 3000: mean loss = tf.Tensor(2.3085651, shape=(), dtype=float32)\n",
      "step 4000: mean loss = tf.Tensor(2.303974, shape=(), dtype=float32)\n",
      "step 5000: mean loss = tf.Tensor(2.2999659, shape=(), dtype=float32)\n",
      "step 6000: mean loss = tf.Tensor(2.29629, shape=(), dtype=float32)\n",
      "step 7000: mean loss = tf.Tensor(2.2923415, shape=(), dtype=float32)\n",
      "step 8000: mean loss = tf.Tensor(2.2886913, shape=(), dtype=float32)\n",
      "step 9000: mean loss = tf.Tensor(2.2848942, shape=(), dtype=float32)\n",
      "step 10000: mean loss = tf.Tensor(2.2810454, shape=(), dtype=float32)\n",
      "step 11000: mean loss = tf.Tensor(2.276825, shape=(), dtype=float32)\n",
      "step 12000: mean loss = tf.Tensor(2.272942, shape=(), dtype=float32)\n",
      "step 13000: mean loss = tf.Tensor(2.2694762, shape=(), dtype=float32)\n",
      "Start of epoch 7\n",
      "step 0: mean loss = tf.Tensor(2.2680488, shape=(), dtype=float32)\n",
      "step 1000: mean loss = tf.Tensor(2.2641556, shape=(), dtype=float32)\n",
      "step 2000: mean loss = tf.Tensor(2.2602735, shape=(), dtype=float32)\n",
      "step 3000: mean loss = tf.Tensor(2.2566798, shape=(), dtype=float32)\n",
      "step 4000: mean loss = tf.Tensor(2.253018, shape=(), dtype=float32)\n",
      "step 5000: mean loss = tf.Tensor(2.249351, shape=(), dtype=float32)\n",
      "step 6000: mean loss = tf.Tensor(2.2458496, shape=(), dtype=float32)\n",
      "step 7000: mean loss = tf.Tensor(2.2426634, shape=(), dtype=float32)\n",
      "step 8000: mean loss = tf.Tensor(2.2390687, shape=(), dtype=float32)\n",
      "step 9000: mean loss = tf.Tensor(2.2358916, shape=(), dtype=float32)\n",
      "step 10000: mean loss = tf.Tensor(2.232088, shape=(), dtype=float32)\n",
      "step 11000: mean loss = tf.Tensor(2.228658, shape=(), dtype=float32)\n",
      "step 12000: mean loss = tf.Tensor(2.2254012, shape=(), dtype=float32)\n",
      "step 13000: mean loss = tf.Tensor(2.2218084, shape=(), dtype=float32)\n",
      "Start of epoch 8\n",
      "step 0: mean loss = tf.Tensor(2.2206914, shape=(), dtype=float32)\n",
      "step 1000: mean loss = tf.Tensor(2.2174146, shape=(), dtype=float32)\n",
      "step 2000: mean loss = tf.Tensor(2.213962, shape=(), dtype=float32)\n",
      "step 3000: mean loss = tf.Tensor(2.2106662, shape=(), dtype=float32)\n",
      "step 4000: mean loss = tf.Tensor(2.207254, shape=(), dtype=float32)\n"
     ]
    },
    {
     "name": "stdout",
     "output_type": "stream",
     "text": [
      "step 5000: mean loss = tf.Tensor(2.204148, shape=(), dtype=float32)\n",
      "step 6000: mean loss = tf.Tensor(2.2010918, shape=(), dtype=float32)\n",
      "step 7000: mean loss = tf.Tensor(2.1980302, shape=(), dtype=float32)\n",
      "step 8000: mean loss = tf.Tensor(2.195065, shape=(), dtype=float32)\n",
      "step 9000: mean loss = tf.Tensor(2.1919062, shape=(), dtype=float32)\n",
      "step 10000: mean loss = tf.Tensor(2.1887536, shape=(), dtype=float32)\n",
      "step 11000: mean loss = tf.Tensor(2.1856747, shape=(), dtype=float32)\n",
      "step 12000: mean loss = tf.Tensor(2.182647, shape=(), dtype=float32)\n",
      "step 13000: mean loss = tf.Tensor(2.1798837, shape=(), dtype=float32)\n",
      "Start of epoch 9\n",
      "step 0: mean loss = tf.Tensor(2.178871, shape=(), dtype=float32)\n",
      "step 1000: mean loss = tf.Tensor(2.1758873, shape=(), dtype=float32)\n",
      "step 2000: mean loss = tf.Tensor(2.1727955, shape=(), dtype=float32)\n",
      "step 3000: mean loss = tf.Tensor(2.170109, shape=(), dtype=float32)\n",
      "step 4000: mean loss = tf.Tensor(2.1673076, shape=(), dtype=float32)\n",
      "step 5000: mean loss = tf.Tensor(2.1643903, shape=(), dtype=float32)\n",
      "step 6000: mean loss = tf.Tensor(2.1616137, shape=(), dtype=float32)\n",
      "step 7000: mean loss = tf.Tensor(2.1589003, shape=(), dtype=float32)\n",
      "step 8000: mean loss = tf.Tensor(2.1561508, shape=(), dtype=float32)\n",
      "step 9000: mean loss = tf.Tensor(2.1534884, shape=(), dtype=float32)\n",
      "step 10000: mean loss = tf.Tensor(2.150697, shape=(), dtype=float32)\n",
      "step 11000: mean loss = tf.Tensor(2.1478865, shape=(), dtype=float32)\n",
      "step 12000: mean loss = tf.Tensor(2.1450567, shape=(), dtype=float32)\n",
      "step 13000: mean loss = tf.Tensor(2.1425943, shape=(), dtype=float32)\n"
     ]
    }
   ],
   "source": [
    "import time\n",
    "\n",
    "epochs = 10\n",
    "for epoch in range(epochs):\n",
    "    print('Start of epoch %d' % (epoch,))\n",
    "\n",
    "    # Iterate over the batches of the dataset.\n",
    "    total_loss = 0\n",
    "    for step, (bert_input, target) in enumerate(dataset):\n",
    "        mask, target = tf.unstack(target, axis=1)\n",
    "        with tf.GradientTape() as tape:\n",
    "            output = model(bert_input, mask)\n",
    "            \n",
    "            # Compute reconstruction loss\n",
    "            loss_val = loss(target, output)\n",
    "            loss_val += sum(model.losses)  # Add KLD regularization loss\n",
    "        \n",
    "\n",
    "        grads = tape.gradient(loss_val, model.trainable_weights)\n",
    "        opt.apply_gradients(zip(grads, model.trainable_weights))\n",
    "\n",
    "        loss_metric(loss_val)\n",
    "\n",
    "        if step % 1000 == 0:\n",
    "          print('step %s: mean loss = %s' % (step, loss_metric.result()))\n",
    "        \n",
    "    model.save_weights(\"./word_predictor_{}\".format(epoch))"
   ]
  },
  {
   "cell_type": "markdown",
   "metadata": {},
   "source": [
    "## 4. Prediction"
   ]
  },
  {
   "cell_type": "code",
   "execution_count": 8,
   "metadata": {},
   "outputs": [],
   "source": [
    "def blank_word_predict(model, sentence, blank_loc, candidate_num=10):\n",
    "    # Given a sentence and at which location (0-indexed) it is blank\n",
    "    # return the predicted word\n",
    "    ids, masks, seg_ids = convert_sentence_to_features(sentence, tokenizer)\n",
    "    \n",
    "    # adjust input_mask, reset the randomly selected mask and set with blank_loc\n",
    "    masks[blank_loc] = 0\n",
    "    \n",
    "    ids[blank_loc] = MASK_ID\n",
    "    \n",
    "    bert_input = tf.stack([ids, masks, seg_ids])\n",
    "    bert_input = tf.reshape(bert_input, (1, bert_input.shape[0], bert_input.shape[1]))\n",
    "    \n",
    "#     bert_input = tf.unstack(tf.cast(bert_input, tf.dtypes.int32), axis=1)\n",
    "#     pooled, sequential = bert_module(bert_input)\n",
    "        \n",
    "    output = model(bert_input, [blank_loc])\n",
    "    return tf.argsort(output, direction='DESCENDING')[0, :candidate_num]"
   ]
  },
  {
   "cell_type": "code",
   "execution_count": 10,
   "metadata": {},
   "outputs": [
    {
     "data": {
      "text/plain": [
       "<tensorflow.python.training.tracking.util.CheckpointLoadStatus at 0x7f0c7461ed68>"
      ]
     },
     "execution_count": 10,
     "metadata": {},
     "output_type": "execute_result"
    }
   ],
   "source": [
    "model = WordPredictor(len(tokenizer.vocab))\n",
    "\n",
    "model.load_weights(\"./word_predictor_8\")"
   ]
  },
  {
   "cell_type": "code",
   "execution_count": 11,
   "metadata": {},
   "outputs": [
    {
     "name": "stdout",
     "output_type": "stream",
     "text": [
      "['incident']\n",
      "['attack']\n",
      "['case']\n",
      "['virus']\n",
      "['shooting']\n"
     ]
    }
   ],
   "source": [
    "sentence = \"the blank has caused panic around the world\"\n",
    "\n",
    "result = blank_word_predict(model, sentence, 2, 5)\n",
    "\n",
    "result = result.numpy()\n",
    "\n",
    "for i in range(result.shape[0]):\n",
    "    print(tokenizer.convert_ids_to_tokens([result[i]]))"
   ]
  },
  {
   "cell_type": "code",
   "execution_count": 12,
   "metadata": {},
   "outputs": [
    {
     "name": "stdout",
     "output_type": "stream",
     "text": [
      "['bill']\n",
      "['letter']\n",
      "['deal']\n",
      "['statement']\n",
      "['law']\n"
     ]
    }
   ],
   "source": [
    "sentence = \"Mr . president signed the blank to fight pandemic\"\n",
    "\n",
    "result = blank_word_predict(model, sentence, 6, 5)\n",
    "\n",
    "result = result.numpy()\n",
    "\n",
    "for i in range(result.shape[0]):\n",
    "    print(tokenizer.convert_ids_to_tokens([result[i]]))"
   ]
  },
  {
   "cell_type": "code",
   "execution_count": 13,
   "metadata": {},
   "outputs": [
    {
     "name": "stdout",
     "output_type": "stream",
     "text": [
      "['used']\n",
      "['launched']\n",
      "['introduced']\n",
      "['announced']\n",
      "['held']\n"
     ]
    }
   ],
   "source": [
    "sentence = \"Mr . president blank the act to fight pandemic\"\n",
    "\n",
    "result = blank_word_predict(model, sentence, 4, 5)\n",
    "\n",
    "result = result.numpy()\n",
    "\n",
    "for i in range(result.shape[0]):\n",
    "    print(tokenizer.convert_ids_to_tokens([result[i]]))"
   ]
  },
  {
   "cell_type": "code",
   "execution_count": 14,
   "metadata": {},
   "outputs": [
    {
     "name": "stdout",
     "output_type": "stream",
     "text": [
      "['film']\n",
      "['show']\n",
      "['game']\n",
      "['music']\n",
      "['news']\n"
     ]
    }
   ],
   "source": [
    "sentence = \"i love the blank\"\n",
    "\n",
    "result = blank_word_predict(model, sentence, 4, 5)\n",
    "\n",
    "result = result.numpy()\n",
    "\n",
    "for i in range(result.shape[0]):\n",
    "    print(tokenizer.convert_ids_to_tokens([result[i]]))"
   ]
  }
 ],
 "metadata": {
  "kernelspec": {
   "display_name": "Python 3",
   "language": "python",
   "name": "python3"
  },
  "language_info": {
   "codemirror_mode": {
    "name": "ipython",
    "version": 3
   },
   "file_extension": ".py",
   "mimetype": "text/x-python",
   "name": "python",
   "nbconvert_exporter": "python",
   "pygments_lexer": "ipython3",
   "version": "3.7.3"
  }
 },
 "nbformat": 4,
 "nbformat_minor": 2
}
