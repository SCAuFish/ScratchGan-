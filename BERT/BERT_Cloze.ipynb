{
 "cells": [
  {
   "cell_type": "markdown",
   "metadata": {},
   "source": [
    "## 1. Loading and Initializing"
   ]
  },
  {
   "cell_type": "markdown",
   "metadata": {},
   "source": [
    "### 1.1 Sentence processing functions"
   ]
  },
  {
   "cell_type": "code",
   "execution_count": 1,
   "metadata": {},
   "outputs": [
    {
     "name": "stdout",
     "output_type": "stream",
     "text": [
      "Using Tensorflow version: 2.1.0\n",
      "[PhysicalDevice(name='/physical_device:GPU:0', device_type='GPU')]\n"
     ]
    }
   ],
   "source": [
    "import tensorflow as tf\n",
    "import tensorflow_hub as hub\n",
    "print(\"Using Tensorflow version: \" + tf.__version__)\n",
    "print(tf.config.list_physical_devices('GPU'))\n",
    "\n",
    "BERT_DIR = \"/home/aufish/Downloads/bert\"\n",
    "\n",
    "# try with TF2 SavedModel\n",
    "# The online downloading method does not work, use pre-downloaded module\n",
    "# bert_module = hub.Module(\"https://tfhub.dev/tensorflow/bert_en_cased_L-12_H-768_A-12/1\")"
   ]
  },
  {
   "cell_type": "code",
   "execution_count": 2,
   "metadata": {},
   "outputs": [],
   "source": [
    "bert_module = hub.KerasLayer(BERT_DIR, trainable=True)"
   ]
  },
  {
   "cell_type": "code",
   "execution_count": 3,
   "metadata": {},
   "outputs": [],
   "source": [
    "# tokenizer\n",
    "from bert import tokenization\n",
    "\n",
    "def create_tokenizer(vocab_file, do_lower_case=False):\n",
    "    return tokenization.FullTokenizer(vocab_file=vocab_file, do_lower_case=do_lower_case)\n",
    "\n",
    "tokenizer = create_tokenizer(BERT_DIR + \"/assets/vocab.txt\")\n",
    "\n",
    "def convert_sentence_to_features(sentence, tokenizer, max_seq_len=50):\n",
    "    tokens = ['[CLS]']\n",
    "    tokens.extend(tokenizer.tokenize(sentence))\n",
    "    if len(tokens) > max_seq_len-1:\n",
    "        tokens = tokens[:max_seq_len-1]\n",
    "    tokens.append('[SEP]')\n",
    "    \n",
    "    segment_ids = [0] * len(tokens)\n",
    "    input_ids = tokenizer.convert_tokens_to_ids(tokens)\n",
    "    input_mask = [1] * len(input_ids)\n",
    "\n",
    "    #Zero Mask till seq_length\n",
    "    zero_mask = [0] * (max_seq_len-len(tokens))\n",
    "    input_ids.extend(zero_mask)\n",
    "    input_mask.extend(zero_mask)\n",
    "    segment_ids.extend(zero_mask)\n",
    "    \n",
    "    return input_ids, input_mask, segment_ids\n",
    "\n",
    "def convert_sentences_to_features(sentences, tokenizer, max_seq_len=50):\n",
    "    all_input_ids = []\n",
    "    all_input_mask = []\n",
    "    all_segment_ids = []\n",
    "    \n",
    "    for sentence in sentences:\n",
    "        input_ids, input_mask, segment_ids = convert_sentence_to_features(sentence, tokenizer, max_seq_len)\n",
    "        all_input_ids.append(input_ids)\n",
    "        all_input_mask.append(input_mask)\n",
    "        all_segment_ids.append(segment_ids)\n",
    "    \n",
    "    return all_input_ids, all_input_mask, all_segment_ids\n",
    "\n",
    "import random, copy\n",
    "import numpy as np\n",
    "def make_rand_mask(input_ids, input_mask, vocab_size, segment_id_vals=None):\n",
    "    ''' \n",
    "    Only make mask for one sentence\n",
    "    input_ids: the ids of words in the sentences\n",
    "    input_mask: initial mask (1 if there is a word; 0 for padding)\n",
    "    returns\n",
    "    input_mask: replace one bit of 1 with 0, meaning that the word will be masked\n",
    "    mask_word_ids: the id of words that are masked\n",
    "    pure_ids: ids in number instead of one-hot (to generate weights per masked word)\n",
    "    segment_id_vals: mark the masked word with segment id 1\n",
    "    sequential_output_filter: the masked word index\n",
    "    '''\n",
    "    \n",
    "    new_input_mask = copy.deepcopy(input_mask)\n",
    "#     mask_word_ids = np.zeros(vocab_size)\n",
    "    pure_ids = []\n",
    "\n",
    "    total_word = sum(input_mask)\n",
    "    mask_word = random.randint(0, total_word-1)\n",
    "\n",
    "    pure_ids.append(input_ids[mask_word])\n",
    "    assert new_input_mask[mask_word] == 1\n",
    "    new_input_mask[mask_word] = 0\n",
    "#     mask_word_ids[input_ids[mask_word]] = 1.0\n",
    "                \n",
    "    return new_input_mask, segment_id_vals, mask_word"
   ]
  },
  {
   "cell_type": "markdown",
   "metadata": {},
   "source": [
    "### 1.2 Blank filler model"
   ]
  },
  {
   "cell_type": "code",
   "execution_count": 4,
   "metadata": {},
   "outputs": [],
   "source": [
    "class WordPredictor(tf.keras.Model):\n",
    "    # The output means, how possible the given word may fit into the blank\n",
    "    def __init__(self, class_num, bert=bert_module, dropout=0.1):\n",
    "        super(WordPredictor, self).__init__()\n",
    "        self.bert = bert\n",
    "        self.drop = tf.keras.layers.Dropout(rate=dropout, trainable=True)\n",
    "        \n",
    "        self.dense = tf.keras.layers.Dense(\n",
    "            class_num,\n",
    "            activation=None,\n",
    "            kernel_initializer='glorot_uniform',\n",
    "            name='word_prediction',\n",
    "            trainable=True)\n",
    "        \n",
    "    def call(self, inputs, mask_loc):\n",
    "        # When passed in, all tensors are stacked in one, split it into a list\n",
    "        inputs = tf.unstack(tf.cast(inputs, tf.dtypes.int32), axis=1)\n",
    "        \n",
    "#         # The last element in the list is a filter that will be exerted on sequential\n",
    "#         inputs, seq_output_filter = inputs[:-1], inputs[-1]\n",
    "#         seq_output_filter = tf.cast(seq_output_filter, tf.dtypes.float32)\n",
    "\n",
    "        pooled, sequential = self.bert(inputs)\n",
    "        \n",
    "#         s = tf.tensordot(seq_output_filter,  sequential, axes=(1, 1))\n",
    "\n",
    "        # select one from each batch\n",
    "        s = tf.gather_nd(sequential, [(i, mask_loc[i]) for i in range(sequential.shape[0])])\n",
    "        # s now has shape (batch_size * 768)\n",
    "        \n",
    "        x = self.drop(s)\n",
    "        return self.dense(x)"
   ]
  },
  {
   "cell_type": "markdown",
   "metadata": {},
   "source": [
    "### 1.2.1 Sanity test"
   ]
  },
  {
   "cell_type": "code",
   "execution_count": null,
   "metadata": {},
   "outputs": [],
   "source": [
    "model = WordPredictor(1)\n",
    "\n",
    "opt = tf.keras.optimizers.Adam(learning_rate=1e-4)\n",
    "model.compile(opt, loss=tf.keras.losses.Crossentropy())"
   ]
  },
  {
   "cell_type": "markdown",
   "metadata": {},
   "source": [
    "## 2. Prepare data"
   ]
  },
  {
   "cell_type": "code",
   "execution_count": null,
   "metadata": {},
   "outputs": [],
   "source": [
    "# One time run, write all sentences in the json file into txt\n",
    "# import json \n",
    "\n",
    "# DATA_FILE = \"/home/aufish/Documents/ScratchGan++/scratchgan/emnlp_data/train.json\"\n",
    "# all_sentences = json.load(open(DATA_FILE, \"r\"))\n",
    "\n",
    "# SENTENCE_FILE = \"./sentences.txt\"\n",
    "\n",
    "# output_file = open(SENTENCE_FILE, \"w\")\n",
    "# for sentence in all_sentences:\n",
    "#     output_file.write(sentence['s'] + '\\n')"
   ]
  },
  {
   "cell_type": "code",
   "execution_count": 12,
   "metadata": {},
   "outputs": [],
   "source": [
    "import numpy as np\n",
    "# extracted from emnlp\n",
    "DATA_FILE = \"./sentences.txt\"\n",
    "\n",
    "MASK_ID = tokenizer.convert_tokens_to_ids(['[MASK]'])[0]\n",
    "\n",
    "def parse_line(line):    \n",
    "    input_ids, input_mask, segment_ids = convert_sentence_to_features(line, tokenizer, max_seq_len=30)\n",
    "        \n",
    "    input_mask, segment_ids, mask_position = \\\n",
    "        make_rand_mask(input_ids, input_mask, len(tokenizer.vocab), segment_ids)\n",
    "    \n",
    "    label = input_ids[mask_position]\n",
    "    input_ids[mask_position] = MASK_ID\n",
    "    \n",
    "    return [input_ids, input_mask, segment_ids], [mask_position, label]\n",
    "\n",
    "def create_dataset(filename = DATA_FILE, data_size = 268528, batch_size = 10):\n",
    "    dataset = tf.data.TextLineDataset([filename])\n",
    "    \n",
    "    dataset = dataset.map(lambda x : tf.numpy_function(parse_line, [x], [tf.int64, tf.int64]))\n",
    "    \n",
    "    # dataset = dataset.shuffle(data_size, reshuffle_each_iteration=True)\n",
    "    \n",
    "    dataset = dataset.batch(batch_size)\n",
    "    \n",
    "    return dataset"
   ]
  },
  {
   "cell_type": "code",
   "execution_count": null,
   "metadata": {},
   "outputs": [],
   "source": [
    "tokenizer.convert_tokens_to_ids(['[MASK]'])"
   ]
  },
  {
   "cell_type": "markdown",
   "metadata": {},
   "source": [
    "### 2.1 Model calling sanity test"
   ]
  },
  {
   "cell_type": "code",
   "execution_count": 13,
   "metadata": {},
   "outputs": [],
   "source": [
    "temp_batch_size = 3\n",
    "dataset = create_dataset(batch_size = temp_batch_size)"
   ]
  },
  {
   "cell_type": "code",
   "execution_count": 14,
   "metadata": {},
   "outputs": [
    {
     "name": "stdout",
     "output_type": "stream",
     "text": [
      "tf.Tensor(\n",
      "[[[ 101 1422 3509 1138 3228 1115 1177 1677  103 1419 5302 1185 2255 1106\n",
      "   1849 1157 3641 4413  117 1134 1132 6150 2732  119  102    0    0    0\n",
      "      0    0]\n",
      "  [   1    1    1    1    1    1    1    1    0    1    1    1    1    1\n",
      "      1    1    1    1    1    1    1    1    1    1    1    0    0    0\n",
      "      0    0]\n",
      "  [   0    0    0    0    0    0    0    0    0    0    0    0    0    0\n",
      "      0    0    0    0    0    0    0    0    0    0    0    0    0    0\n",
      "      0    0]]\n",
      "\n",
      " [[ 101  112 5875  146  103 1164 2128 2673 1250  117 1133 1272  146 1821\n",
      "   2041 1690 4692 1132 1541 5865  117  112 1131 1163  119  102    0    0\n",
      "      0    0]\n",
      "  [   1    1    1    1    0    1    1    1    1    1    1    1    1    1\n",
      "      1    1    1    1    1    1    1    1    1    1    1    1    0    0\n",
      "      0    0]\n",
      "  [   0    0    0    0    0    0    0    0    0    0    0    0    0    0\n",
      "      0    0    0    0    0    0    0    0    0    0    0    0    0    0\n",
      "      0    0]]\n",
      "\n",
      " [[ 101 1284 1156 1501 1412 1514  103 1170 5953  113 1196 1103 2454  112\n",
      "    188 4055  114 1173 1321 1103 3676 1111  170 2647  119  102    0    0\n",
      "      0    0]\n",
      "  [   1    1    1    1    1    1    0    1    1    1    1    1    1    1\n",
      "      1    1    1    1    1    1    1    1    1    1    1    1    0    0\n",
      "      0    0]\n",
      "  [   0    0    0    0    0    0    0    0    0    0    0    0    0    0\n",
      "      0    0    0    0    0    0    0    0    0    0    0    0    0    0\n",
      "      0    0]]], shape=(3, 3, 30), dtype=int64)\n",
      "tf.Tensor(\n",
      "[[   8 1103]\n",
      " [   4 1341]\n",
      " [   6 8218]], shape=(3, 2), dtype=int64)\n",
      "(3, 30, 768)\n",
      "tf.Tensor(\n",
      "[[ 0.86260784 -0.7008134  -0.71177095 ...  0.952968    0.76533204\n",
      "  -0.88548875]\n",
      " [ 0.8537156  -0.69316185 -0.71598744 ...  0.9618892   0.7632961\n",
      "  -0.87404925]\n",
      " [ 0.8700382  -0.71434975 -0.72877157 ...  0.9634323   0.77538884\n",
      "  -0.87290794]], shape=(3, 768), dtype=float32)\n",
      "tf.Tensor([1103 1341 8218], shape=(3,), dtype=int64)\n"
     ]
    }
   ],
   "source": [
    "# Processing data without model\n",
    "for (bert_input, label) in dataset.take(1):\n",
    "    print(bert_input)\n",
    "    print(label)\n",
    "    inputs = tf.unstack(tf.cast(bert_input, tf.dtypes.int32), axis=1)\n",
    "    \n",
    "    pooled, sequential = bert_module(inputs)\n",
    "    \n",
    "    print(sequential.shape)\n",
    "    \n",
    "#     seq_output_filter = tf.cast(seq_output_filter, tf.dtypes.float32)\n",
    "#     r = tf.tensordot(seq_output_filter,  sequential, axes=(1, 1))\n",
    "    \n",
    "    mask, label = tf.unstack(label, axis=1)\n",
    "    r = tf.gather_nd(sequential, [(i, mask[i]) for i in range(temp_batch_size)])\n",
    "    \n",
    "    print(r)\n",
    "    print(label)"
   ]
  },
  {
   "cell_type": "code",
   "execution_count": null,
   "metadata": {},
   "outputs": [],
   "source": [
    "model = WordPredictor(1)"
   ]
  },
  {
   "cell_type": "code",
   "execution_count": null,
   "metadata": {},
   "outputs": [],
   "source": [
    "for (bert_input, label) in dataset.take(1):\n",
    "    mask, label = tf.unstack(label, axis=1)\n",
    "    output = model(bert_input, mask)\n",
    "    \n",
    "    print(\"Output\")\n",
    "    print(output)\n",
    "    print(\"Weights: \")\n",
    "    print([weight.name for weight in model.trainable_weights])"
   ]
  },
  {
   "cell_type": "markdown",
   "metadata": {},
   "source": [
    "## 3. Training"
   ]
  },
  {
   "cell_type": "markdown",
   "metadata": {},
   "source": [
    "### 3.1 Training Santiy Run"
   ]
  },
  {
   "cell_type": "code",
   "execution_count": 15,
   "metadata": {},
   "outputs": [],
   "source": [
    "model = WordPredictor(len(tokenizer.vocab))\n",
    "\n",
    "opt = tf.keras.optimizers.Adam(learning_rate=1e-5)\n",
    "loss = tf.keras.losses.SparseCategoricalCrossentropy(from_logits=True)\n",
    "loss_metric = tf.keras.metrics.Mean()\n",
    "\n",
    "dataset = create_dataset(batch_size = 10)"
   ]
  },
  {
   "cell_type": "code",
   "execution_count": 16,
   "metadata": {},
   "outputs": [
    {
     "name": "stdout",
     "output_type": "stream",
     "text": [
      "mean loss = tf.Tensor(10.318472, shape=(), dtype=float32)\n",
      "mean loss = tf.Tensor(10.315854, shape=(), dtype=float32)\n",
      "mean loss = tf.Tensor(10.310256, shape=(), dtype=float32)\n",
      "mean loss = tf.Tensor(10.284655, shape=(), dtype=float32)\n",
      "mean loss = tf.Tensor(10.302042, shape=(), dtype=float32)\n"
     ]
    }
   ],
   "source": [
    "for (bert_input, label) in dataset.take(5):\n",
    "    mask, label = tf.unstack(label, axis=1)\n",
    "    with tf.GradientTape() as tape:\n",
    "        output = model(bert_input, mask)\n",
    "\n",
    "        loss_val = loss(label, output)\n",
    "        loss_val += sum(model.losses)\n",
    "        \n",
    "    grads = tape.gradient(loss_val, model.trainable_weights)\n",
    "    opt.apply_gradients(zip(grads, model.trainable_weights))\n",
    "    \n",
    "    loss_metric(loss_val)\n",
    "    \n",
    "    print('mean loss = %s' % (loss_metric.result()))"
   ]
  },
  {
   "cell_type": "markdown",
   "metadata": {},
   "source": [
    "### 3.2 Actual training setup"
   ]
  },
  {
   "cell_type": "code",
   "execution_count": 17,
   "metadata": {},
   "outputs": [],
   "source": [
    "model = WordPredictor(len(tokenizer.vocab))\n",
    "\n",
    "opt = tf.keras.optimizers.Adam(learning_rate=1e-5)\n",
    "loss = tf.keras.losses.SparseCategoricalCrossentropy(from_logits=True)\n",
    "loss_metric = tf.keras.metrics.Mean()\n",
    "\n",
    "dataset = create_dataset(batch_size = 20)"
   ]
  },
  {
   "cell_type": "code",
   "execution_count": null,
   "metadata": {},
   "outputs": [
    {
     "name": "stdout",
     "output_type": "stream",
     "text": [
      "Start of epoch 0\n",
      "step 0: mean loss = tf.Tensor(4.4235415, shape=(), dtype=float32)\n",
      "step 1000: mean loss = tf.Tensor(4.3509603, shape=(), dtype=float32)\n",
      "step 2000: mean loss = tf.Tensor(4.2843404, shape=(), dtype=float32)\n",
      "step 3000: mean loss = tf.Tensor(4.220253, shape=(), dtype=float32)\n",
      "step 4000: mean loss = tf.Tensor(4.1632314, shape=(), dtype=float32)\n",
      "step 5000: mean loss = tf.Tensor(4.110059, shape=(), dtype=float32)\n",
      "step 6000: mean loss = tf.Tensor(4.0600863, shape=(), dtype=float32)\n",
      "step 7000: mean loss = tf.Tensor(4.0131197, shape=(), dtype=float32)\n",
      "step 8000: mean loss = tf.Tensor(3.9675958, shape=(), dtype=float32)\n",
      "step 9000: mean loss = tf.Tensor(3.9244914, shape=(), dtype=float32)\n",
      "step 10000: mean loss = tf.Tensor(3.8831396, shape=(), dtype=float32)\n"
     ]
    }
   ],
   "source": [
    "import time\n",
    "\n",
    "epochs = 10\n",
    "for epoch in range(epochs):\n",
    "    print('Start of epoch %d' % (epoch,))\n",
    "\n",
    "    # Iterate over the batches of the dataset.\n",
    "    total_loss = 0\n",
    "    for step, (bert_input, target) in enumerate(dataset):\n",
    "        mask, target = tf.unstack(target, axis=1)\n",
    "        with tf.GradientTape() as tape:\n",
    "            output = model(bert_input, mask)\n",
    "            \n",
    "            # Compute reconstruction loss\n",
    "            loss_val = loss(target, output)\n",
    "            loss_val += sum(model.losses)  # Add KLD regularization loss\n",
    "        \n",
    "\n",
    "        grads = tape.gradient(loss_val, model.trainable_weights)\n",
    "        opt.apply_gradients(zip(grads, model.trainable_weights))\n",
    "\n",
    "        loss_metric(loss_val)\n",
    "\n",
    "        if step % 1000 == 0:\n",
    "          print('step %s: mean loss = %s' % (step, loss_metric.result()))\n",
    "        \n",
    "    model.save_weights(\"./word_predictor_{}\".format(epoch))"
   ]
  },
  {
   "cell_type": "markdown",
   "metadata": {},
   "source": [
    "## 4. Prediction"
   ]
  },
  {
   "cell_type": "code",
   "execution_count": 64,
   "metadata": {},
   "outputs": [],
   "source": [
    "def blank_word_predict(model, sentence, blank_loc, candidate_num=10):\n",
    "    # Given a sentence and at which location (0-indexed) it is blank\n",
    "    # return the predicted word\n",
    "    ids, masks, seg_ids = convert_sentence_to_features(sentence, tokenizer)\n",
    "    \n",
    "    # adjust input_mask, reset the randomly selected mask and set with blank_loc\n",
    "    masks[blank_loc] = 0\n",
    "    \n",
    "    ids[blank_loc] = MASK_ID\n",
    "    \n",
    "    bert_input = tf.stack([ids, masks, seg_ids])\n",
    "    bert_input = tf.reshape(bert_input, (1, bert_input.shape[0], bert_input.shape[1]))\n",
    "    \n",
    "#     bert_input = tf.unstack(tf.cast(bert_input, tf.dtypes.int32), axis=1)\n",
    "#     pooled, sequential = bert_module(bert_input)\n",
    "    \n",
    "    print(bert_input)\n",
    "    \n",
    "    output = model(bert_input, [blank_loc])\n",
    "    return tf.argsort(output, direction='DESCENDING')[0, :candidate_num]"
   ]
  },
  {
   "cell_type": "code",
   "execution_count": 70,
   "metadata": {},
   "outputs": [
    {
     "name": "stdout",
     "output_type": "stream",
     "text": [
      "tf.Tensor(\n",
      "[[[ 101 1103  103 1144 2416 7011 1213 1103 1362  102    0    0    0    0\n",
      "      0    0    0    0    0    0    0    0    0    0    0    0    0    0\n",
      "      0    0    0    0    0    0    0    0    0    0    0    0    0    0\n",
      "      0    0    0    0    0    0    0    0]\n",
      "  [   1    1    0    1    1    1    1    1    1    1    0    0    0    0\n",
      "      0    0    0    0    0    0    0    0    0    0    0    0    0    0\n",
      "      0    0    0    0    0    0    0    0    0    0    0    0    0    0\n",
      "      0    0    0    0    0    0    0    0]\n",
      "  [   0    0    0    0    0    0    0    0    0    0    0    0    0    0\n",
      "      0    0    0    0    0    0    0    0    0    0    0    0    0    0\n",
      "      0    0    0    0    0    0    0    0    0    0    0    0    0    0\n",
      "      0    0    0    0    0    0    0    0]]], shape=(1, 3, 50), dtype=int32)\n",
      "['world']\n",
      "['country']\n",
      "['government']\n",
      "['UK']\n",
      "['team']\n"
     ]
    }
   ],
   "source": [
    "sentence = \"the virus has caused panic around the world\"\n",
    "\n",
    "result = blank_word_predict(model, sentence, 2, 5)\n",
    "\n",
    "result = result.numpy()\n",
    "\n",
    "for i in range(result.shape[0]):\n",
    "    print(tokenizer.convert_ids_to_tokens([result[i]]))"
   ]
  },
  {
   "cell_type": "code",
   "execution_count": 71,
   "metadata": {},
   "outputs": [
    {
     "name": "stdout",
     "output_type": "stream",
     "text": [
      "tf.Tensor(\n",
      "[[[ 101 1103 7942 1144 2416  103 1213 1103 1362  102    0    0    0    0\n",
      "      0    0    0    0    0    0    0    0    0    0    0    0    0    0\n",
      "      0    0    0    0    0    0    0    0    0    0    0    0    0    0\n",
      "      0    0    0    0    0    0    0    0]\n",
      "  [   1    1    1    1    1    0    1    1    1    1    0    0    0    0\n",
      "      0    0    0    0    0    0    0    0    0    0    0    0    0    0\n",
      "      0    0    0    0    0    0    0    0    0    0    0    0    0    0\n",
      "      0    0    0    0    0    0    0    0]\n",
      "  [   0    0    0    0    0    0    0    0    0    0    0    0    0    0\n",
      "      0    0    0    0    0    0    0    0    0    0    0    0    0    0\n",
      "      0    0    0    0    0    0    0    0    0    0    0    0    0    0\n",
      "      0    0    0    0    0    0    0    0]]], shape=(1, 3, 50), dtype=int32)\n",
      "['people']\n",
      "['things']\n",
      "['children']\n",
      "['them']\n",
      "['life']\n"
     ]
    }
   ],
   "source": [
    "sentence = \"the virus has caused panic around the world\"\n",
    "\n",
    "result = blank_word_predict(model, sentence, 5, 5)\n",
    "\n",
    "result = result.numpy()\n",
    "\n",
    "for i in range(result.shape[0]):\n",
    "    print(tokenizer.convert_ids_to_tokens([result[i]]))"
   ]
  },
  {
   "cell_type": "code",
   "execution_count": 72,
   "metadata": {},
   "outputs": [
    {
     "name": "stdout",
     "output_type": "stream",
     "text": [
      "tf.Tensor(\n",
      "[[[ 101 1103 7942 1144 2416 7011  103 1103 1362  102    0    0    0    0\n",
      "      0    0    0    0    0    0    0    0    0    0    0    0    0    0\n",
      "      0    0    0    0    0    0    0    0    0    0    0    0    0    0\n",
      "      0    0    0    0    0    0    0    0]\n",
      "  [   1    1    1    1    1    1    0    1    1    1    0    0    0    0\n",
      "      0    0    0    0    0    0    0    0    0    0    0    0    0    0\n",
      "      0    0    0    0    0    0    0    0    0    0    0    0    0    0\n",
      "      0    0    0    0    0    0    0    0]\n",
      "  [   0    0    0    0    0    0    0    0    0    0    0    0    0    0\n",
      "      0    0    0    0    0    0    0    0    0    0    0    0    0    0\n",
      "      0    0    0    0    0    0    0    0    0    0    0    0    0    0\n",
      "      0    0    0    0    0    0    0    0]]], shape=(1, 3, 50), dtype=int32)\n",
      "['in']\n",
      "['for']\n",
      "['from']\n",
      "['on']\n",
      "['with']\n"
     ]
    }
   ],
   "source": [
    "sentence = \"the virus has caused panic around the world\"\n",
    "\n",
    "result = blank_word_predict(model, sentence, 6, 5)\n",
    "\n",
    "result = result.numpy()\n",
    "\n",
    "for i in range(result.shape[0]):\n",
    "    print(tokenizer.convert_ids_to_tokens([result[i]]))"
   ]
  },
  {
   "cell_type": "code",
   "execution_count": 80,
   "metadata": {},
   "outputs": [
    {
     "name": "stdout",
     "output_type": "stream",
     "text": [
      "tf.Tensor(\n",
      "[[[  101  1828   119  2084  1110   103  1103  2496  1106  2147 13316\n",
      "    2007  7257   102     0     0     0     0     0     0     0     0\n",
      "       0     0     0     0     0     0     0     0     0     0     0\n",
      "       0     0     0     0     0     0     0     0     0     0     0\n",
      "       0     0     0     0     0     0]\n",
      "  [    1     1     1     1     1     0     1     1     1     1     1\n",
      "       1     1     1     0     0     0     0     0     0     0     0\n",
      "       0     0     0     0     0     0     0     0     0     0     0\n",
      "       0     0     0     0     0     0     0     0     0     0     0\n",
      "       0     0     0     0     0     0]\n",
      "  [    0     0     0     0     0     0     0     0     0     0     0\n",
      "       0     0     0     0     0     0     0     0     0     0     0\n",
      "       0     0     0     0     0     0     0     0     0     0     0\n",
      "       0     0     0     0     0     0     0     0     0     0     0\n",
      "       0     0     0     0     0     0]]], shape=(1, 3, 50), dtype=int32)\n",
      "['in']\n",
      "['at']\n",
      "['on']\n",
      "['from']\n",
      "['over']\n"
     ]
    }
   ],
   "source": [
    "sentence = \"Mr . president is a the act to fight pandemic\"\n",
    "\n",
    "result = blank_word_predict(model, sentence, 5, 5)\n",
    "\n",
    "result = result.numpy()\n",
    "\n",
    "for i in range(result.shape[0]):\n",
    "    print(tokenizer.convert_ids_to_tokens([result[i]]))"
   ]
  }
 ],
 "metadata": {
  "kernelspec": {
   "display_name": "Python 3",
   "language": "python",
   "name": "python3"
  },
  "language_info": {
   "codemirror_mode": {
    "name": "ipython",
    "version": 3
   },
   "file_extension": ".py",
   "mimetype": "text/x-python",
   "name": "python",
   "nbconvert_exporter": "python",
   "pygments_lexer": "ipython3",
   "version": "3.7.3"
  }
 },
 "nbformat": 4,
 "nbformat_minor": 2
}
